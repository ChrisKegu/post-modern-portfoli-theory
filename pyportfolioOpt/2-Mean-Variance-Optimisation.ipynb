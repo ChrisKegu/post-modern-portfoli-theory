{
 "cells": [
  {
   "cell_type": "markdown",
   "metadata": {},
   "source": [
    "# Mean-variance optimization\n",
    "\n",
    "In this cookbook recipe, we work on several examples demonstrating PyPortfolioOpt's mean-variance capabilities. I will discuss what I think should be your \"default\" options, based on my experience in optimising portfolios.\n",
    "\n",
    "To start, you need a list of tickers. Some people just provide the whole universe of stocks, but I don't think this is a good idea - portfolio optimization is quite different from asset selection. I would suggest anywhere from 10-50 stocks as a starting point.\n",
    "\n",
    "Some of the things we cover:\n",
    "\n",
    "- Downloading data and getting it into PyPortfolioOpt\n",
    "- Calculating and visualising the covariance matrix\n",
    "- Optimising a long/short portfolio to minimise total variance\n",
    "- Optimising a portfolio to maximise the Sharpe ratio, subject to sector constraints\n",
    "- Optimising a portfolio to maximise return for a given risk, subject to sector constraints, with an L2 regularisation objective\n",
    "- Optimising a market-neutral portfolio to minimise risk for a given level of return\n",
    "- Optimising along the mean-semivariance frontier\n",
    "- Optimising along the mean-CVaR frontier\n",
    "- Plotting the efficient frontier:\n",
    "    - Simple (using CLA)\n",
    "    - Constrained\n",
    "    - Complex plots\n",
    "\n",
    "Please consult the [docs](https://pyportfolioopt.readthedocs.io/) for more info.\n",
    "\n",
    "## Downloading data\n",
    "\n",
    "To download data, we will use `yfinance`, an excellent library that provides free price data from Yahoo Finance, no API key needed."
   ]
  },
  {
   "cell_type": "code",
   "execution_count": 4,
   "metadata": {},
   "outputs": [],
   "source": [
    "#import yfinance as yf\n",
    "import pandas_datareader.data as web\n",
    "import matplotlib.pyplot as plt\n",
    "import pandas as pd\n",
    "import numpy as np\n",
    "import datetime as dt"
   ]
  },
  {
   "cell_type": "code",
   "execution_count": 7,
   "metadata": {},
   "outputs": [],
   "source": [
    "def get_stock(tickers,start,end):\n",
    "    stocks = web.DataReader(tickers,\n",
    "                        'yahoo', start, end)#['Adj Close']\n",
    "    return stocks"
   ]
  },
  {
   "cell_type": "code",
   "execution_count": 26,
   "metadata": {},
   "outputs": [],
   "source": [
    "tickers = [\"MSFT\", \"AMZN\", \"KO\", \"MA\", \"COST\", \n",
    "           \"LUV\", \"XOM\", \"PFE\", \"JPM\", \"UNH\", \n",
    "           \"ACN\", \"DIS\", \"GILD\", \"F\", \"TSLA\"] "
   ]
  },
  {
   "cell_type": "code",
   "execution_count": 27,
   "metadata": {},
   "outputs": [],
   "source": [
    "#ohlc = yf.download(tickers, period=\"max\")\n",
    "start = dt.datetime(2013, 1, 1)\n",
    "end = dt.datetime(2021, 5, 1)\n",
    "\n",
    "#tickers = ['AAPL', 'AMZN', 'MSFT', 'GOOGL','FB','GOOG','PG','JPM','TSLA','JNJ']\n",
    "ohlc=get_stock(tickers,start,end)"
   ]
  },
  {
   "cell_type": "code",
   "execution_count": 28,
   "metadata": {},
   "outputs": [
    {
     "data": {
      "text/html": [
       "<div>\n",
       "<style scoped>\n",
       "    .dataframe tbody tr th:only-of-type {\n",
       "        vertical-align: middle;\n",
       "    }\n",
       "\n",
       "    .dataframe tbody tr th {\n",
       "        vertical-align: top;\n",
       "    }\n",
       "\n",
       "    .dataframe thead th {\n",
       "        text-align: right;\n",
       "    }\n",
       "</style>\n",
       "<table border=\"1\" class=\"dataframe\">\n",
       "  <thead>\n",
       "    <tr style=\"text-align: right;\">\n",
       "      <th>Symbols</th>\n",
       "      <th>MSFT</th>\n",
       "      <th>AMZN</th>\n",
       "      <th>KO</th>\n",
       "      <th>MA</th>\n",
       "      <th>COST</th>\n",
       "      <th>LUV</th>\n",
       "      <th>XOM</th>\n",
       "      <th>PFE</th>\n",
       "      <th>JPM</th>\n",
       "      <th>UNH</th>\n",
       "      <th>ACN</th>\n",
       "      <th>DIS</th>\n",
       "      <th>GILD</th>\n",
       "      <th>F</th>\n",
       "      <th>TSLA</th>\n",
       "    </tr>\n",
       "    <tr>\n",
       "      <th>Date</th>\n",
       "      <th></th>\n",
       "      <th></th>\n",
       "      <th></th>\n",
       "      <th></th>\n",
       "      <th></th>\n",
       "      <th></th>\n",
       "      <th></th>\n",
       "      <th></th>\n",
       "      <th></th>\n",
       "      <th></th>\n",
       "      <th></th>\n",
       "      <th></th>\n",
       "      <th></th>\n",
       "      <th></th>\n",
       "      <th></th>\n",
       "    </tr>\n",
       "  </thead>\n",
       "  <tbody>\n",
       "    <tr>\n",
       "      <th>2021-04-26</th>\n",
       "      <td>260.947449</td>\n",
       "      <td>3409.000000</td>\n",
       "      <td>53.258694</td>\n",
       "      <td>387.470001</td>\n",
       "      <td>367.732269</td>\n",
       "      <td>61.970001</td>\n",
       "      <td>54.880501</td>\n",
       "      <td>38.302586</td>\n",
       "      <td>150.559998</td>\n",
       "      <td>395.859985</td>\n",
       "      <td>289.519989</td>\n",
       "      <td>184.270004</td>\n",
       "      <td>65.081078</td>\n",
       "      <td>12.27</td>\n",
       "      <td>738.200012</td>\n",
       "    </tr>\n",
       "    <tr>\n",
       "      <th>2021-04-27</th>\n",
       "      <td>261.366486</td>\n",
       "      <td>3417.429932</td>\n",
       "      <td>53.179295</td>\n",
       "      <td>389.070007</td>\n",
       "      <td>369.418671</td>\n",
       "      <td>62.400002</td>\n",
       "      <td>55.600018</td>\n",
       "      <td>38.074833</td>\n",
       "      <td>151.250000</td>\n",
       "      <td>394.500000</td>\n",
       "      <td>290.250000</td>\n",
       "      <td>184.639999</td>\n",
       "      <td>64.002327</td>\n",
       "      <td>12.49</td>\n",
       "      <td>704.739990</td>\n",
       "    </tr>\n",
       "    <tr>\n",
       "      <th>2021-04-28</th>\n",
       "      <td>253.973541</td>\n",
       "      <td>3458.500000</td>\n",
       "      <td>53.189220</td>\n",
       "      <td>395.649994</td>\n",
       "      <td>368.800018</td>\n",
       "      <td>61.770000</td>\n",
       "      <td>57.275608</td>\n",
       "      <td>38.431320</td>\n",
       "      <td>152.229996</td>\n",
       "      <td>394.589996</td>\n",
       "      <td>290.269989</td>\n",
       "      <td>183.389999</td>\n",
       "      <td>63.774708</td>\n",
       "      <td>12.43</td>\n",
       "      <td>694.400024</td>\n",
       "    </tr>\n",
       "    <tr>\n",
       "      <th>2021-04-29</th>\n",
       "      <td>251.928268</td>\n",
       "      <td>3471.310059</td>\n",
       "      <td>53.854206</td>\n",
       "      <td>388.950012</td>\n",
       "      <td>373.540009</td>\n",
       "      <td>62.270000</td>\n",
       "      <td>58.093689</td>\n",
       "      <td>38.223366</td>\n",
       "      <td>155.190002</td>\n",
       "      <td>401.549988</td>\n",
       "      <td>292.540009</td>\n",
       "      <td>185.330002</td>\n",
       "      <td>63.180901</td>\n",
       "      <td>11.26</td>\n",
       "      <td>677.000000</td>\n",
       "    </tr>\n",
       "    <tr>\n",
       "      <th>2021-04-30</th>\n",
       "      <td>251.599030</td>\n",
       "      <td>3467.419922</td>\n",
       "      <td>53.576302</td>\n",
       "      <td>382.059998</td>\n",
       "      <td>372.089996</td>\n",
       "      <td>62.779999</td>\n",
       "      <td>56.418102</td>\n",
       "      <td>38.272881</td>\n",
       "      <td>153.809998</td>\n",
       "      <td>398.799988</td>\n",
       "      <td>289.970001</td>\n",
       "      <td>186.020004</td>\n",
       "      <td>62.814720</td>\n",
       "      <td>11.54</td>\n",
       "      <td>709.440002</td>\n",
       "    </tr>\n",
       "  </tbody>\n",
       "</table>\n",
       "</div>"
      ],
      "text/plain": [
       "Symbols           MSFT         AMZN         KO          MA        COST  \\\n",
       "Date                                                                     \n",
       "2021-04-26  260.947449  3409.000000  53.258694  387.470001  367.732269   \n",
       "2021-04-27  261.366486  3417.429932  53.179295  389.070007  369.418671   \n",
       "2021-04-28  253.973541  3458.500000  53.189220  395.649994  368.800018   \n",
       "2021-04-29  251.928268  3471.310059  53.854206  388.950012  373.540009   \n",
       "2021-04-30  251.599030  3467.419922  53.576302  382.059998  372.089996   \n",
       "\n",
       "Symbols           LUV        XOM        PFE         JPM         UNH  \\\n",
       "Date                                                                  \n",
       "2021-04-26  61.970001  54.880501  38.302586  150.559998  395.859985   \n",
       "2021-04-27  62.400002  55.600018  38.074833  151.250000  394.500000   \n",
       "2021-04-28  61.770000  57.275608  38.431320  152.229996  394.589996   \n",
       "2021-04-29  62.270000  58.093689  38.223366  155.190002  401.549988   \n",
       "2021-04-30  62.779999  56.418102  38.272881  153.809998  398.799988   \n",
       "\n",
       "Symbols            ACN         DIS       GILD      F        TSLA  \n",
       "Date                                                              \n",
       "2021-04-26  289.519989  184.270004  65.081078  12.27  738.200012  \n",
       "2021-04-27  290.250000  184.639999  64.002327  12.49  704.739990  \n",
       "2021-04-28  290.269989  183.389999  63.774708  12.43  694.400024  \n",
       "2021-04-29  292.540009  185.330002  63.180901  11.26  677.000000  \n",
       "2021-04-30  289.970001  186.020004  62.814720  11.54  709.440002  "
      ]
     },
     "execution_count": 28,
     "metadata": {},
     "output_type": "execute_result"
    }
   ],
   "source": [
    "prices = ohlc[\"Adj Close\"].dropna(how=\"all\")\n",
    "prices.tail()"
   ]
  },
  {
   "cell_type": "code",
   "execution_count": 29,
   "metadata": {},
   "outputs": [
    {
     "data": {
      "image/png": "[encoded data removed]",
      "text/plain": [
       "<Figure size 1080x720 with 1 Axes>"
      ]
     },
     "metadata": {
      "needs_background": "light"
     },
     "output_type": "display_data"
    }
   ],
   "source": [
    "prices[prices.index >= \"2018-01-01\"].plot(figsize=(15,10));"
   ]
  },
  {
   "cell_type": "markdown",
   "metadata": {},
   "source": [
    "## Calculating the covariance matrix"
   ]
  },
  {
   "cell_type": "code",
   "execution_count": 30,
   "metadata": {},
   "outputs": [
    {
     "data": {
      "text/plain": [
       "'1.4.1'"
      ]
     },
     "execution_count": 30,
     "metadata": {},
     "output_type": "execute_result"
    }
   ],
   "source": [
    "import pypfopt\n",
    "pypfopt.__version__"
   ]
  },
  {
   "cell_type": "code",
   "execution_count": 31,
   "metadata": {},
   "outputs": [
    {
     "data": {
      "text/html": [
       "<div>\n",
       "<style scoped>\n",
       "    .dataframe tbody tr th:only-of-type {\n",
       "        vertical-align: middle;\n",
       "    }\n",
       "\n",
       "    .dataframe tbody tr th {\n",
       "        vertical-align: top;\n",
       "    }\n",
       "\n",
       "    .dataframe thead th {\n",
       "        text-align: right;\n",
       "    }\n",
       "</style>\n",
       "<table border=\"1\" class=\"dataframe\">\n",
       "  <thead>\n",
       "    <tr style=\"text-align: right;\">\n",
       "      <th>Symbols</th>\n",
       "      <th>MSFT</th>\n",
       "      <th>AMZN</th>\n",
       "      <th>KO</th>\n",
       "      <th>MA</th>\n",
       "      <th>COST</th>\n",
       "      <th>LUV</th>\n",
       "      <th>XOM</th>\n",
       "      <th>PFE</th>\n",
       "      <th>JPM</th>\n",
       "      <th>UNH</th>\n",
       "      <th>ACN</th>\n",
       "      <th>DIS</th>\n",
       "      <th>GILD</th>\n",
       "      <th>F</th>\n",
       "      <th>TSLA</th>\n",
       "    </tr>\n",
       "    <tr>\n",
       "      <th>Symbols</th>\n",
       "      <th></th>\n",
       "      <th></th>\n",
       "      <th></th>\n",
       "      <th></th>\n",
       "      <th></th>\n",
       "      <th></th>\n",
       "      <th></th>\n",
       "      <th></th>\n",
       "      <th></th>\n",
       "      <th></th>\n",
       "      <th></th>\n",
       "      <th></th>\n",
       "      <th></th>\n",
       "      <th></th>\n",
       "      <th></th>\n",
       "    </tr>\n",
       "  </thead>\n",
       "  <tbody>\n",
       "    <tr>\n",
       "      <th>MSFT</th>\n",
       "      <td>0.069688</td>\n",
       "      <td>0.045477</td>\n",
       "      <td>0.019514</td>\n",
       "      <td>0.044037</td>\n",
       "      <td>0.024490</td>\n",
       "      <td>0.028392</td>\n",
       "      <td>0.025381</td>\n",
       "      <td>0.021966</td>\n",
       "      <td>0.034095</td>\n",
       "      <td>0.032663</td>\n",
       "      <td>0.037127</td>\n",
       "      <td>0.029139</td>\n",
       "      <td>0.024158</td>\n",
       "      <td>0.027984</td>\n",
       "      <td>0.051486</td>\n",
       "    </tr>\n",
       "    <tr>\n",
       "      <th>AMZN</th>\n",
       "      <td>0.045477</td>\n",
       "      <td>0.092897</td>\n",
       "      <td>0.012824</td>\n",
       "      <td>0.040524</td>\n",
       "      <td>0.022816</td>\n",
       "      <td>0.022753</td>\n",
       "      <td>0.017978</td>\n",
       "      <td>0.017084</td>\n",
       "      <td>0.023698</td>\n",
       "      <td>0.025876</td>\n",
       "      <td>0.029755</td>\n",
       "      <td>0.024323</td>\n",
       "      <td>0.024401</td>\n",
       "      <td>0.022613</td>\n",
       "      <td>0.057996</td>\n",
       "    </tr>\n",
       "    <tr>\n",
       "      <th>KO</th>\n",
       "      <td>0.019514</td>\n",
       "      <td>0.012824</td>\n",
       "      <td>0.033217</td>\n",
       "      <td>0.024383</td>\n",
       "      <td>0.014328</td>\n",
       "      <td>0.023176</td>\n",
       "      <td>0.021720</td>\n",
       "      <td>0.016616</td>\n",
       "      <td>0.023612</td>\n",
       "      <td>0.018971</td>\n",
       "      <td>0.020986</td>\n",
       "      <td>0.021564</td>\n",
       "      <td>0.013731</td>\n",
       "      <td>0.021834</td>\n",
       "      <td>0.019123</td>\n",
       "    </tr>\n",
       "    <tr>\n",
       "      <th>MA</th>\n",
       "      <td>0.044037</td>\n",
       "      <td>0.040524</td>\n",
       "      <td>0.024383</td>\n",
       "      <td>0.070881</td>\n",
       "      <td>0.021286</td>\n",
       "      <td>0.040146</td>\n",
       "      <td>0.035294</td>\n",
       "      <td>0.024842</td>\n",
       "      <td>0.043281</td>\n",
       "      <td>0.034716</td>\n",
       "      <td>0.040038</td>\n",
       "      <td>0.038868</td>\n",
       "      <td>0.024494</td>\n",
       "      <td>0.039494</td>\n",
       "      <td>0.049087</td>\n",
       "    </tr>\n",
       "    <tr>\n",
       "      <th>COST</th>\n",
       "      <td>0.024490</td>\n",
       "      <td>0.022816</td>\n",
       "      <td>0.014328</td>\n",
       "      <td>0.021286</td>\n",
       "      <td>0.037225</td>\n",
       "      <td>0.016109</td>\n",
       "      <td>0.013740</td>\n",
       "      <td>0.014887</td>\n",
       "      <td>0.018283</td>\n",
       "      <td>0.019678</td>\n",
       "      <td>0.020771</td>\n",
       "      <td>0.017015</td>\n",
       "      <td>0.017033</td>\n",
       "      <td>0.015602</td>\n",
       "      <td>0.022557</td>\n",
       "    </tr>\n",
       "    <tr>\n",
       "      <th>LUV</th>\n",
       "      <td>0.028392</td>\n",
       "      <td>0.022753</td>\n",
       "      <td>0.023176</td>\n",
       "      <td>0.040146</td>\n",
       "      <td>0.016109</td>\n",
       "      <td>0.112557</td>\n",
       "      <td>0.034738</td>\n",
       "      <td>0.021725</td>\n",
       "      <td>0.048318</td>\n",
       "      <td>0.028772</td>\n",
       "      <td>0.031851</td>\n",
       "      <td>0.039726</td>\n",
       "      <td>0.020680</td>\n",
       "      <td>0.045850</td>\n",
       "      <td>0.034110</td>\n",
       "    </tr>\n",
       "    <tr>\n",
       "      <th>XOM</th>\n",
       "      <td>0.025381</td>\n",
       "      <td>0.017978</td>\n",
       "      <td>0.021720</td>\n",
       "      <td>0.035294</td>\n",
       "      <td>0.013740</td>\n",
       "      <td>0.034738</td>\n",
       "      <td>0.065229</td>\n",
       "      <td>0.020134</td>\n",
       "      <td>0.043440</td>\n",
       "      <td>0.027393</td>\n",
       "      <td>0.028113</td>\n",
       "      <td>0.032947</td>\n",
       "      <td>0.019369</td>\n",
       "      <td>0.039530</td>\n",
       "      <td>0.029562</td>\n",
       "    </tr>\n",
       "    <tr>\n",
       "      <th>PFE</th>\n",
       "      <td>0.021966</td>\n",
       "      <td>0.017084</td>\n",
       "      <td>0.016616</td>\n",
       "      <td>0.024842</td>\n",
       "      <td>0.014887</td>\n",
       "      <td>0.021725</td>\n",
       "      <td>0.020134</td>\n",
       "      <td>0.041982</td>\n",
       "      <td>0.025858</td>\n",
       "      <td>0.025131</td>\n",
       "      <td>0.020600</td>\n",
       "      <td>0.019074</td>\n",
       "      <td>0.024859</td>\n",
       "      <td>0.019825</td>\n",
       "      <td>0.018790</td>\n",
       "    </tr>\n",
       "    <tr>\n",
       "      <th>JPM</th>\n",
       "      <td>0.034095</td>\n",
       "      <td>0.023698</td>\n",
       "      <td>0.023612</td>\n",
       "      <td>0.043281</td>\n",
       "      <td>0.018283</td>\n",
       "      <td>0.048318</td>\n",
       "      <td>0.043440</td>\n",
       "      <td>0.025858</td>\n",
       "      <td>0.072281</td>\n",
       "      <td>0.034767</td>\n",
       "      <td>0.036484</td>\n",
       "      <td>0.039611</td>\n",
       "      <td>0.024102</td>\n",
       "      <td>0.048612</td>\n",
       "      <td>0.035130</td>\n",
       "    </tr>\n",
       "    <tr>\n",
       "      <th>UNH</th>\n",
       "      <td>0.032663</td>\n",
       "      <td>0.025876</td>\n",
       "      <td>0.018971</td>\n",
       "      <td>0.034716</td>\n",
       "      <td>0.019678</td>\n",
       "      <td>0.028772</td>\n",
       "      <td>0.027393</td>\n",
       "      <td>0.025131</td>\n",
       "      <td>0.034767</td>\n",
       "      <td>0.067381</td>\n",
       "      <td>0.029290</td>\n",
       "      <td>0.025977</td>\n",
       "      <td>0.020964</td>\n",
       "      <td>0.029940</td>\n",
       "      <td>0.031247</td>\n",
       "    </tr>\n",
       "    <tr>\n",
       "      <th>ACN</th>\n",
       "      <td>0.037127</td>\n",
       "      <td>0.029755</td>\n",
       "      <td>0.020986</td>\n",
       "      <td>0.040038</td>\n",
       "      <td>0.020771</td>\n",
       "      <td>0.031851</td>\n",
       "      <td>0.028113</td>\n",
       "      <td>0.020600</td>\n",
       "      <td>0.036484</td>\n",
       "      <td>0.029290</td>\n",
       "      <td>0.052992</td>\n",
       "      <td>0.030653</td>\n",
       "      <td>0.021746</td>\n",
       "      <td>0.030571</td>\n",
       "      <td>0.038173</td>\n",
       "    </tr>\n",
       "    <tr>\n",
       "      <th>DIS</th>\n",
       "      <td>0.029139</td>\n",
       "      <td>0.024323</td>\n",
       "      <td>0.021564</td>\n",
       "      <td>0.038868</td>\n",
       "      <td>0.017015</td>\n",
       "      <td>0.039726</td>\n",
       "      <td>0.032947</td>\n",
       "      <td>0.019074</td>\n",
       "      <td>0.039611</td>\n",
       "      <td>0.025977</td>\n",
       "      <td>0.030653</td>\n",
       "      <td>0.063412</td>\n",
       "      <td>0.019687</td>\n",
       "      <td>0.037951</td>\n",
       "      <td>0.034280</td>\n",
       "    </tr>\n",
       "    <tr>\n",
       "      <th>GILD</th>\n",
       "      <td>0.024158</td>\n",
       "      <td>0.024401</td>\n",
       "      <td>0.013731</td>\n",
       "      <td>0.024494</td>\n",
       "      <td>0.017033</td>\n",
       "      <td>0.020680</td>\n",
       "      <td>0.019369</td>\n",
       "      <td>0.024859</td>\n",
       "      <td>0.024102</td>\n",
       "      <td>0.020964</td>\n",
       "      <td>0.021746</td>\n",
       "      <td>0.019687</td>\n",
       "      <td>0.079605</td>\n",
       "      <td>0.019936</td>\n",
       "      <td>0.033890</td>\n",
       "    </tr>\n",
       "    <tr>\n",
       "      <th>F</th>\n",
       "      <td>0.027984</td>\n",
       "      <td>0.022613</td>\n",
       "      <td>0.021834</td>\n",
       "      <td>0.039494</td>\n",
       "      <td>0.015602</td>\n",
       "      <td>0.045850</td>\n",
       "      <td>0.039530</td>\n",
       "      <td>0.019825</td>\n",
       "      <td>0.048612</td>\n",
       "      <td>0.029940</td>\n",
       "      <td>0.030571</td>\n",
       "      <td>0.037951</td>\n",
       "      <td>0.019936</td>\n",
       "      <td>0.093930</td>\n",
       "      <td>0.045691</td>\n",
       "    </tr>\n",
       "    <tr>\n",
       "      <th>TSLA</th>\n",
       "      <td>0.051486</td>\n",
       "      <td>0.057996</td>\n",
       "      <td>0.019123</td>\n",
       "      <td>0.049087</td>\n",
       "      <td>0.022557</td>\n",
       "      <td>0.034110</td>\n",
       "      <td>0.029562</td>\n",
       "      <td>0.018790</td>\n",
       "      <td>0.035130</td>\n",
       "      <td>0.031247</td>\n",
       "      <td>0.038173</td>\n",
       "      <td>0.034280</td>\n",
       "      <td>0.033890</td>\n",
       "      <td>0.045691</td>\n",
       "      <td>0.321207</td>\n",
       "    </tr>\n",
       "  </tbody>\n",
       "</table>\n",
       "</div>"
      ],
      "text/plain": [
       "Symbols      MSFT      AMZN        KO        MA      COST       LUV       XOM  \\\n",
       "Symbols                                                                         \n",
       "MSFT     0.069688  0.045477  0.019514  0.044037  0.024490  0.028392  0.025381   \n",
       "AMZN     0.045477  0.092897  0.012824  0.040524  0.022816  0.022753  0.017978   \n",
       "KO       0.019514  0.012824  0.033217  0.024383  0.014328  0.023176  0.021720   \n",
       "MA       0.044037  0.040524  0.024383  0.070881  0.021286  0.040146  0.035294   \n",
       "COST     0.024490  0.022816  0.014328  0.021286  0.037225  0.016109  0.013740   \n",
       "LUV      0.028392  0.022753  0.023176  0.040146  0.016109  0.112557  0.034738   \n",
       "XOM      0.025381  0.017978  0.021720  0.035294  0.013740  0.034738  0.065229   \n",
       "PFE      0.021966  0.017084  0.016616  0.024842  0.014887  0.021725  0.020134   \n",
       "JPM      0.034095  0.023698  0.023612  0.043281  0.018283  0.048318  0.043440   \n",
       "UNH      0.032663  0.025876  0.018971  0.034716  0.019678  0.028772  0.027393   \n",
       "ACN      0.037127  0.029755  0.020986  0.040038  0.020771  0.031851  0.028113   \n",
       "DIS      0.029139  0.024323  0.021564  0.038868  0.017015  0.039726  0.032947   \n",
       "GILD     0.024158  0.024401  0.013731  0.024494  0.017033  0.020680  0.019369   \n",
       "F        0.027984  0.022613  0.021834  0.039494  0.015602  0.045850  0.039530   \n",
       "TSLA     0.051486  0.057996  0.019123  0.049087  0.022557  0.034110  0.029562   \n",
       "\n",
       "Symbols       PFE       JPM       UNH       ACN       DIS      GILD         F  \\\n",
       "Symbols                                                                         \n",
       "MSFT     0.021966  0.034095  0.032663  0.037127  0.029139  0.024158  0.027984   \n",
       "AMZN     0.017084  0.023698  0.025876  0.029755  0.024323  0.024401  0.022613   \n",
       "KO       0.016616  0.023612  0.018971  0.020986  0.021564  0.013731  0.021834   \n",
       "MA       0.024842  0.043281  0.034716  0.040038  0.038868  0.024494  0.039494   \n",
       "COST     0.014887  0.018283  0.019678  0.020771  0.017015  0.017033  0.015602   \n",
       "LUV      0.021725  0.048318  0.028772  0.031851  0.039726  0.020680  0.045850   \n",
       "XOM      0.020134  0.043440  0.027393  0.028113  0.032947  0.019369  0.039530   \n",
       "PFE      0.041982  0.025858  0.025131  0.020600  0.019074  0.024859  0.019825   \n",
       "JPM      0.025858  0.072281  0.034767  0.036484  0.039611  0.024102  0.048612   \n",
       "UNH      0.025131  0.034767  0.067381  0.029290  0.025977  0.020964  0.029940   \n",
       "ACN      0.020600  0.036484  0.029290  0.052992  0.030653  0.021746  0.030571   \n",
       "DIS      0.019074  0.039611  0.025977  0.030653  0.063412  0.019687  0.037951   \n",
       "GILD     0.024859  0.024102  0.020964  0.021746  0.019687  0.079605  0.019936   \n",
       "F        0.019825  0.048612  0.029940  0.030571  0.037951  0.019936  0.093930   \n",
       "TSLA     0.018790  0.035130  0.031247  0.038173  0.034280  0.033890  0.045691   \n",
       "\n",
       "Symbols      TSLA  \n",
       "Symbols            \n",
       "MSFT     0.051486  \n",
       "AMZN     0.057996  \n",
       "KO       0.019123  \n",
       "MA       0.049087  \n",
       "COST     0.022557  \n",
       "LUV      0.034110  \n",
       "XOM      0.029562  \n",
       "PFE      0.018790  \n",
       "JPM      0.035130  \n",
       "UNH      0.031247  \n",
       "ACN      0.038173  \n",
       "DIS      0.034280  \n",
       "GILD     0.033890  \n",
       "F        0.045691  \n",
       "TSLA     0.321207  "
      ]
     },
     "execution_count": 31,
     "metadata": {},
     "output_type": "execute_result"
    }
   ],
   "source": [
    "from pypfopt import risk_models\n",
    "from pypfopt import plotting\n",
    "\n",
    "sample_cov = risk_models.sample_cov(prices, frequency=252)\n",
    "sample_cov"
   ]
  },
  {
   "cell_type": "code",
   "execution_count": 14,
   "metadata": {},
   "outputs": [
    {
     "data": {
      "image/png": "[encoded data removed]",
      "text/plain": [
       "<Figure size 432x288 with 2 Axes>"
      ]
     },
     "metadata": {
      "needs_background": "light"
     },
     "output_type": "display_data"
    }
   ],
   "source": [
    "plotting.plot_covariance(sample_cov, plot_correlation=True);"
   ]
  },
  {
   "cell_type": "markdown",
   "metadata": {},
   "source": [
    "For reasons discussed in the docs, the sample covariance matrix should not be your default choice. I think a better option is Ledoit-Wolf shrinkage, which reduces the extreme values in the covariance matrix. In the image below, we can see that there are fewer bright spots outside the diagonal:"
   ]
  },
  {
   "cell_type": "code",
   "execution_count": 32,
   "metadata": {},
   "outputs": [
    {
     "data": {
      "image/png": "[encoded data removed]",
      "text/plain": [
       "<Figure size 432x288 with 2 Axes>"
      ]
     },
     "metadata": {
      "needs_background": "light"
     },
     "output_type": "display_data"
    }
   ],
   "source": [
    "S = risk_models.CovarianceShrinkage(prices).ledoit_wolf()\n",
    "plotting.plot_covariance(S, plot_correlation=True);"
   ]
  },
  {
   "cell_type": "markdown",
   "metadata": {},
   "source": [
    "## Return estimation\n",
    "\n",
    "As discussed in the docs, it is often a bad idea to provide returns using a simple estimate like the mean of past returns. Unless you have a proprietary method for estimating returns, research suggests that you may be better off not providing expected returns – you can then just find the `min_volatility()` portfolio or use `HRP`. \n",
    "\n",
    "However, in this example we will use the CAPM returns, which aims to be slightly more stable than the default mean historical return. Please see the notebook `1-RiskReturnModels.ipynb` for more information."
   ]
  },
  {
   "cell_type": "code",
   "execution_count": 33,
   "metadata": {},
   "outputs": [
    {
     "data": {
      "text/plain": [
       "Symbols\n",
       "MSFT    0.258762\n",
       "AMZN    0.242749\n",
       "KO      0.161516\n",
       "MA      0.284590\n",
       "COST    0.156988\n",
       "LUV     0.274187\n",
       "XOM     0.230501\n",
       "PFE     0.174378\n",
       "JPM     0.275421\n",
       "UNH     0.229666\n",
       "ACN     0.237254\n",
       "DIS     0.239604\n",
       "GILD    0.199978\n",
       "F       0.269767\n",
       "TSLA    0.400803\n",
       "Name: mkt, dtype: float64"
      ]
     },
     "execution_count": 33,
     "metadata": {},
     "output_type": "execute_result"
    }
   ],
   "source": [
    "from pypfopt import expected_returns\n",
    "\n",
    "mu = expected_returns.capm_return(prices)\n",
    "mu"
   ]
  },
  {
   "cell_type": "code",
   "execution_count": 34,
   "metadata": {},
   "outputs": [
    {
     "data": {
      "image/png": "[encoded data removed]",
      "text/plain": [
       "<Figure size 720x432 with 1 Axes>"
      ]
     },
     "metadata": {
      "needs_background": "light"
     },
     "output_type": "display_data"
    }
   ],
   "source": [
    "mu.plot.barh(figsize=(10,6));"
   ]
  },
  {
   "cell_type": "markdown",
   "metadata": {},
   "source": [
    "## Long/short min variance\n",
    "\n",
    "In this section, we construct a long/short portfolio with the objective of minimising variance. There is a good deal of research that demonstrates that these global-minimum variance (GMV) portfolios outperform mean-variance optimized portfolios."
   ]
  },
  {
   "cell_type": "code",
   "execution_count": 35,
   "metadata": {},
   "outputs": [],
   "source": [
    "from pypfopt import EfficientFrontier"
   ]
  },
  {
   "cell_type": "code",
   "execution_count": 36,
   "metadata": {},
   "outputs": [
    {
     "data": {
      "text/plain": [
       "OrderedDict([('MSFT', -0.02136),\n",
       "             ('AMZN', 0.07527),\n",
       "             ('KO', 0.33194),\n",
       "             ('MA', -0.10573),\n",
       "             ('COST', 0.27786),\n",
       "             ('LUV', 0.01216),\n",
       "             ('XOM', 0.08509),\n",
       "             ('PFE', 0.19657),\n",
       "             ('JPM', -0.07026),\n",
       "             ('UNH', 0.02767),\n",
       "             ('ACN', 0.04358),\n",
       "             ('DIS', 0.05801),\n",
       "             ('GILD', 0.06256),\n",
       "             ('F', 0.03165),\n",
       "             ('TSLA', -0.00502)])"
      ]
     },
     "execution_count": 36,
     "metadata": {},
     "output_type": "execute_result"
    }
   ],
   "source": [
    "S = risk_models.CovarianceShrinkage(prices).ledoit_wolf()\n",
    "\n",
    "# You don't have to provide expected returns in this case\n",
    "ef = EfficientFrontier(None, S, weight_bounds=(None, None))\n",
    "ef.min_volatility()\n",
    "weights = ef.clean_weights()\n",
    "weights"
   ]
  },
  {
   "cell_type": "code",
   "execution_count": 37,
   "metadata": {},
   "outputs": [
    {
     "data": {
      "image/png": "[encoded data removed]",
      "text/plain": [
       "<Figure size 432x288 with 1 Axes>"
      ]
     },
     "metadata": {
      "needs_background": "light"
     },
     "output_type": "display_data"
    }
   ],
   "source": [
    "pd.Series(weights).plot.barh();"
   ]
  },
  {
   "cell_type": "markdown",
   "metadata": {},
   "source": [
    "We can get a quick indication of the portfolio performance as follows. Note that this is an in sample estimate and may have very little resemblance to how the portfolio actually performs!"
   ]
  },
  {
   "cell_type": "code",
   "execution_count": 38,
   "metadata": {},
   "outputs": [
    {
     "name": "stdout",
     "output_type": "stream",
     "text": [
      "Annual volatility: 14.5%\n"
     ]
    }
   ],
   "source": [
    "ef.portfolio_performance(verbose=True);"
   ]
  },
  {
   "cell_type": "code",
   "execution_count": 39,
   "metadata": {},
   "outputs": [
    {
     "data": {
      "text/html": [
       "<div>\n",
       "<style scoped>\n",
       "    .dataframe tbody tr th:only-of-type {\n",
       "        vertical-align: middle;\n",
       "    }\n",
       "\n",
       "    .dataframe tbody tr th {\n",
       "        vertical-align: top;\n",
       "    }\n",
       "\n",
       "    .dataframe thead th {\n",
       "        text-align: right;\n",
       "    }\n",
       "</style>\n",
       "<table border=\"1\" class=\"dataframe\">\n",
       "  <thead>\n",
       "    <tr style=\"text-align: right;\">\n",
       "      <th>Symbols</th>\n",
       "      <th>MSFT</th>\n",
       "      <th>AMZN</th>\n",
       "      <th>KO</th>\n",
       "      <th>MA</th>\n",
       "      <th>COST</th>\n",
       "      <th>LUV</th>\n",
       "      <th>XOM</th>\n",
       "      <th>PFE</th>\n",
       "      <th>JPM</th>\n",
       "      <th>UNH</th>\n",
       "      <th>ACN</th>\n",
       "      <th>DIS</th>\n",
       "      <th>GILD</th>\n",
       "      <th>F</th>\n",
       "      <th>TSLA</th>\n",
       "    </tr>\n",
       "    <tr>\n",
       "      <th>Date</th>\n",
       "      <th></th>\n",
       "      <th></th>\n",
       "      <th></th>\n",
       "      <th></th>\n",
       "      <th></th>\n",
       "      <th></th>\n",
       "      <th></th>\n",
       "      <th></th>\n",
       "      <th></th>\n",
       "      <th></th>\n",
       "      <th></th>\n",
       "      <th></th>\n",
       "      <th></th>\n",
       "      <th></th>\n",
       "      <th></th>\n",
       "    </tr>\n",
       "  </thead>\n",
       "  <tbody>\n",
       "    <tr>\n",
       "      <th>2013-01-02</th>\n",
       "      <td>23.074232</td>\n",
       "      <td>257.309998</td>\n",
       "      <td>28.694941</td>\n",
       "      <td>48.499271</td>\n",
       "      <td>84.194801</td>\n",
       "      <td>9.779122</td>\n",
       "      <td>62.125385</td>\n",
       "      <td>18.062525</td>\n",
       "      <td>35.562012</td>\n",
       "      <td>47.862270</td>\n",
       "      <td>58.647598</td>\n",
       "      <td>46.454643</td>\n",
       "      <td>30.914343</td>\n",
       "      <td>9.115022</td>\n",
       "      <td>7.072000</td>\n",
       "    </tr>\n",
       "    <tr>\n",
       "      <th>2013-01-03</th>\n",
       "      <td>22.765125</td>\n",
       "      <td>258.480011</td>\n",
       "      <td>28.694941</td>\n",
       "      <td>48.568657</td>\n",
       "      <td>85.057915</td>\n",
       "      <td>10.012629</td>\n",
       "      <td>62.013329</td>\n",
       "      <td>18.020699</td>\n",
       "      <td>35.490330</td>\n",
       "      <td>45.624485</td>\n",
       "      <td>58.435303</td>\n",
       "      <td>46.554642</td>\n",
       "      <td>30.869030</td>\n",
       "      <td>9.294561</td>\n",
       "      <td>6.954000</td>\n",
       "    </tr>\n",
       "    <tr>\n",
       "      <th>2013-01-04</th>\n",
       "      <td>22.339064</td>\n",
       "      <td>259.149994</td>\n",
       "      <td>28.740730</td>\n",
       "      <td>48.566757</td>\n",
       "      <td>84.784058</td>\n",
       "      <td>10.162070</td>\n",
       "      <td>62.300465</td>\n",
       "      <td>18.097383</td>\n",
       "      <td>36.119392</td>\n",
       "      <td>45.712246</td>\n",
       "      <td>58.757996</td>\n",
       "      <td>47.445557</td>\n",
       "      <td>31.186171</td>\n",
       "      <td>9.370517</td>\n",
       "      <td>6.880000</td>\n",
       "    </tr>\n",
       "    <tr>\n",
       "      <th>2013-01-07</th>\n",
       "      <td>22.297297</td>\n",
       "      <td>268.459991</td>\n",
       "      <td>28.465998</td>\n",
       "      <td>49.408417</td>\n",
       "      <td>84.128410</td>\n",
       "      <td>10.190089</td>\n",
       "      <td>61.579163</td>\n",
       "      <td>18.111326</td>\n",
       "      <td>36.159210</td>\n",
       "      <td>45.712246</td>\n",
       "      <td>58.503223</td>\n",
       "      <td>46.336468</td>\n",
       "      <td>31.663931</td>\n",
       "      <td>9.273845</td>\n",
       "      <td>6.868000</td>\n",
       "    </tr>\n",
       "    <tr>\n",
       "      <th>2013-01-08</th>\n",
       "      <td>22.180330</td>\n",
       "      <td>266.380005</td>\n",
       "      <td>28.267569</td>\n",
       "      <td>49.245796</td>\n",
       "      <td>83.970741</td>\n",
       "      <td>10.302172</td>\n",
       "      <td>61.964336</td>\n",
       "      <td>18.139208</td>\n",
       "      <td>36.230877</td>\n",
       "      <td>45.106720</td>\n",
       "      <td>58.842922</td>\n",
       "      <td>46.145550</td>\n",
       "      <td>31.878086</td>\n",
       "      <td>9.218600</td>\n",
       "      <td>6.736000</td>\n",
       "    </tr>\n",
       "    <tr>\n",
       "      <th>...</th>\n",
       "      <td>...</td>\n",
       "      <td>...</td>\n",
       "      <td>...</td>\n",
       "      <td>...</td>\n",
       "      <td>...</td>\n",
       "      <td>...</td>\n",
       "      <td>...</td>\n",
       "      <td>...</td>\n",
       "      <td>...</td>\n",
       "      <td>...</td>\n",
       "      <td>...</td>\n",
       "      <td>...</td>\n",
       "      <td>...</td>\n",
       "      <td>...</td>\n",
       "      <td>...</td>\n",
       "    </tr>\n",
       "    <tr>\n",
       "      <th>2021-04-26</th>\n",
       "      <td>260.947449</td>\n",
       "      <td>3409.000000</td>\n",
       "      <td>53.258694</td>\n",
       "      <td>387.470001</td>\n",
       "      <td>367.732269</td>\n",
       "      <td>61.970001</td>\n",
       "      <td>54.880501</td>\n",
       "      <td>38.302586</td>\n",
       "      <td>150.559998</td>\n",
       "      <td>395.859985</td>\n",
       "      <td>289.519989</td>\n",
       "      <td>184.270004</td>\n",
       "      <td>65.081078</td>\n",
       "      <td>12.270000</td>\n",
       "      <td>738.200012</td>\n",
       "    </tr>\n",
       "    <tr>\n",
       "      <th>2021-04-27</th>\n",
       "      <td>261.366486</td>\n",
       "      <td>3417.429932</td>\n",
       "      <td>53.179295</td>\n",
       "      <td>389.070007</td>\n",
       "      <td>369.418671</td>\n",
       "      <td>62.400002</td>\n",
       "      <td>55.600018</td>\n",
       "      <td>38.074833</td>\n",
       "      <td>151.250000</td>\n",
       "      <td>394.500000</td>\n",
       "      <td>290.250000</td>\n",
       "      <td>184.639999</td>\n",
       "      <td>64.002327</td>\n",
       "      <td>12.490000</td>\n",
       "      <td>704.739990</td>\n",
       "    </tr>\n",
       "    <tr>\n",
       "      <th>2021-04-28</th>\n",
       "      <td>253.973541</td>\n",
       "      <td>3458.500000</td>\n",
       "      <td>53.189220</td>\n",
       "      <td>395.649994</td>\n",
       "      <td>368.800018</td>\n",
       "      <td>61.770000</td>\n",
       "      <td>57.275608</td>\n",
       "      <td>38.431320</td>\n",
       "      <td>152.229996</td>\n",
       "      <td>394.589996</td>\n",
       "      <td>290.269989</td>\n",
       "      <td>183.389999</td>\n",
       "      <td>63.774708</td>\n",
       "      <td>12.430000</td>\n",
       "      <td>694.400024</td>\n",
       "    </tr>\n",
       "    <tr>\n",
       "      <th>2021-04-29</th>\n",
       "      <td>251.928268</td>\n",
       "      <td>3471.310059</td>\n",
       "      <td>53.854206</td>\n",
       "      <td>388.950012</td>\n",
       "      <td>373.540009</td>\n",
       "      <td>62.270000</td>\n",
       "      <td>58.093689</td>\n",
       "      <td>38.223366</td>\n",
       "      <td>155.190002</td>\n",
       "      <td>401.549988</td>\n",
       "      <td>292.540009</td>\n",
       "      <td>185.330002</td>\n",
       "      <td>63.180901</td>\n",
       "      <td>11.260000</td>\n",
       "      <td>677.000000</td>\n",
       "    </tr>\n",
       "    <tr>\n",
       "      <th>2021-04-30</th>\n",
       "      <td>251.599030</td>\n",
       "      <td>3467.419922</td>\n",
       "      <td>53.576302</td>\n",
       "      <td>382.059998</td>\n",
       "      <td>372.089996</td>\n",
       "      <td>62.779999</td>\n",
       "      <td>56.418102</td>\n",
       "      <td>38.272881</td>\n",
       "      <td>153.809998</td>\n",
       "      <td>398.799988</td>\n",
       "      <td>289.970001</td>\n",
       "      <td>186.020004</td>\n",
       "      <td>62.814720</td>\n",
       "      <td>11.540000</td>\n",
       "      <td>709.440002</td>\n",
       "    </tr>\n",
       "  </tbody>\n",
       "</table>\n",
       "<p>2097 rows × 15 columns</p>\n",
       "</div>"
      ],
      "text/plain": [
       "Symbols           MSFT         AMZN         KO          MA        COST  \\\n",
       "Date                                                                     \n",
       "2013-01-02   23.074232   257.309998  28.694941   48.499271   84.194801   \n",
       "2013-01-03   22.765125   258.480011  28.694941   48.568657   85.057915   \n",
       "2013-01-04   22.339064   259.149994  28.740730   48.566757   84.784058   \n",
       "2013-01-07   22.297297   268.459991  28.465998   49.408417   84.128410   \n",
       "2013-01-08   22.180330   266.380005  28.267569   49.245796   83.970741   \n",
       "...                ...          ...        ...         ...         ...   \n",
       "2021-04-26  260.947449  3409.000000  53.258694  387.470001  367.732269   \n",
       "2021-04-27  261.366486  3417.429932  53.179295  389.070007  369.418671   \n",
       "2021-04-28  253.973541  3458.500000  53.189220  395.649994  368.800018   \n",
       "2021-04-29  251.928268  3471.310059  53.854206  388.950012  373.540009   \n",
       "2021-04-30  251.599030  3467.419922  53.576302  382.059998  372.089996   \n",
       "\n",
       "Symbols           LUV        XOM        PFE         JPM         UNH  \\\n",
       "Date                                                                  \n",
       "2013-01-02   9.779122  62.125385  18.062525   35.562012   47.862270   \n",
       "2013-01-03  10.012629  62.013329  18.020699   35.490330   45.624485   \n",
       "2013-01-04  10.162070  62.300465  18.097383   36.119392   45.712246   \n",
       "2013-01-07  10.190089  61.579163  18.111326   36.159210   45.712246   \n",
       "2013-01-08  10.302172  61.964336  18.139208   36.230877   45.106720   \n",
       "...               ...        ...        ...         ...         ...   \n",
       "2021-04-26  61.970001  54.880501  38.302586  150.559998  395.859985   \n",
       "2021-04-27  62.400002  55.600018  38.074833  151.250000  394.500000   \n",
       "2021-04-28  61.770000  57.275608  38.431320  152.229996  394.589996   \n",
       "2021-04-29  62.270000  58.093689  38.223366  155.190002  401.549988   \n",
       "2021-04-30  62.779999  56.418102  38.272881  153.809998  398.799988   \n",
       "\n",
       "Symbols            ACN         DIS       GILD          F        TSLA  \n",
       "Date                                                                  \n",
       "2013-01-02   58.647598   46.454643  30.914343   9.115022    7.072000  \n",
       "2013-01-03   58.435303   46.554642  30.869030   9.294561    6.954000  \n",
       "2013-01-04   58.757996   47.445557  31.186171   9.370517    6.880000  \n",
       "2013-01-07   58.503223   46.336468  31.663931   9.273845    6.868000  \n",
       "2013-01-08   58.842922   46.145550  31.878086   9.218600    6.736000  \n",
       "...                ...         ...        ...        ...         ...  \n",
       "2021-04-26  289.519989  184.270004  65.081078  12.270000  738.200012  \n",
       "2021-04-27  290.250000  184.639999  64.002327  12.490000  704.739990  \n",
       "2021-04-28  290.269989  183.389999  63.774708  12.430000  694.400024  \n",
       "2021-04-29  292.540009  185.330002  63.180901  11.260000  677.000000  \n",
       "2021-04-30  289.970001  186.020004  62.814720  11.540000  709.440002  \n",
       "\n",
       "[2097 rows x 15 columns]"
      ]
     },
     "execution_count": 39,
     "metadata": {},
     "output_type": "execute_result"
    }
   ],
   "source": [
    "prices"
   ]
  },
  {
   "cell_type": "markdown",
   "metadata": {},
   "source": [
    "Let's say we were happy with this portfolio and wanted to actually go out and buy the shares.  To do this, we would need to construct a **discrete allocation** (unless your broker supports fractional shares!)\n",
    "\n",
    "If we had \\$20,0000 to invest and would like our portfolio to be 130/30 long/short, we can construct the actual allocation as follows:"
   ]
  },
  {
   "cell_type": "code",
   "execution_count": 90,
   "metadata": {},
   "outputs": [
    {
     "ename": "SolverError",
     "evalue": "The solver GLPK_MI is not installed.",
     "output_type": "error",
     "traceback": [
      "\u001b[1;31m-------------------------------------------------------------------------\u001b[0m",
      "\u001b[1;31mSolverError\u001b[0m                             Traceback (most recent call last)",
      "\u001b[1;32m<ipython-input-90-817c6ce3ae3f>\u001b[0m in \u001b[0;36m<module>\u001b[1;34m\u001b[0m\n\u001b[0;32m      6\u001b[0m \u001b[0mlatest_prices\u001b[0m \u001b[1;33m=\u001b[0m \u001b[0mprices\u001b[0m\u001b[1;33m.\u001b[0m\u001b[0miloc\u001b[0m\u001b[1;33m[\u001b[0m\u001b[1;33m-\u001b[0m\u001b[1;36m1\u001b[0m\u001b[1;33m]\u001b[0m  \u001b[1;31m# prices as of the day you are allocating\u001b[0m\u001b[1;33m\u001b[0m\u001b[1;33m\u001b[0m\u001b[0m\n\u001b[0;32m      7\u001b[0m \u001b[0mda\u001b[0m \u001b[1;33m=\u001b[0m \u001b[0mDiscreteAllocation\u001b[0m\u001b[1;33m(\u001b[0m\u001b[0mweights\u001b[0m\u001b[1;33m,\u001b[0m \u001b[0mlatest_prices\u001b[0m\u001b[1;33m,\u001b[0m \u001b[0mtotal_portfolio_value\u001b[0m\u001b[1;33m=\u001b[0m\u001b[1;36m20000\u001b[0m\u001b[1;33m,\u001b[0m \u001b[0mshort_ratio\u001b[0m\u001b[1;33m=\u001b[0m\u001b[1;36m0.3\u001b[0m\u001b[1;33m)\u001b[0m\u001b[1;33m\u001b[0m\u001b[1;33m\u001b[0m\u001b[0m\n\u001b[1;32m----> 8\u001b[1;33m \u001b[0malloc\u001b[0m\u001b[1;33m,\u001b[0m \u001b[0mleftover\u001b[0m \u001b[1;33m=\u001b[0m \u001b[0mda\u001b[0m\u001b[1;33m.\u001b[0m\u001b[0mlp_portfolio\u001b[0m\u001b[1;33m(\u001b[0m\u001b[1;33m)\u001b[0m\u001b[1;33m\u001b[0m\u001b[1;33m\u001b[0m\u001b[0m\n\u001b[0m\u001b[0;32m      9\u001b[0m \u001b[0mprint\u001b[0m\u001b[1;33m(\u001b[0m\u001b[1;34mf\"Discrete allocation performed with ${leftover:.2f} leftover\"\u001b[0m\u001b[1;33m)\u001b[0m\u001b[1;33m\u001b[0m\u001b[1;33m\u001b[0m\u001b[0m\n\u001b[0;32m     10\u001b[0m \u001b[0malloc\u001b[0m\u001b[1;33m\u001b[0m\u001b[1;33m\u001b[0m\u001b[0m\n",
      "\u001b[1;32m~\\.conda\\envs\\python3_7_env\\lib\\site-packages\\pypfopt\\discrete_allocation.py\u001b[0m in \u001b[0;36mlp_portfolio\u001b[1;34m(self, reinvest, verbose, solver)\u001b[0m\n\u001b[0;32m    323\u001b[0m         \u001b[1;32mif\u001b[0m \u001b[0msolver\u001b[0m \u001b[1;32mis\u001b[0m \u001b[1;32mnot\u001b[0m \u001b[1;32mNone\u001b[0m \u001b[1;32mand\u001b[0m \u001b[0msolver\u001b[0m \u001b[1;32mnot\u001b[0m \u001b[1;32min\u001b[0m \u001b[0mcp\u001b[0m\u001b[1;33m.\u001b[0m\u001b[0minstalled_solvers\u001b[0m\u001b[1;33m(\u001b[0m\u001b[1;33m)\u001b[0m\u001b[1;33m:\u001b[0m\u001b[1;33m\u001b[0m\u001b[1;33m\u001b[0m\u001b[0m\n\u001b[0;32m    324\u001b[0m             \u001b[1;32mraise\u001b[0m \u001b[0mNameError\u001b[0m\u001b[1;33m(\u001b[0m\u001b[1;34m\"Solver {} is not installed. \"\u001b[0m\u001b[1;33m.\u001b[0m\u001b[0mformat\u001b[0m\u001b[1;33m(\u001b[0m\u001b[0msolver\u001b[0m\u001b[1;33m)\u001b[0m\u001b[1;33m)\u001b[0m\u001b[1;33m\u001b[0m\u001b[1;33m\u001b[0m\u001b[0m\n\u001b[1;32m--> 325\u001b[1;33m         \u001b[0mopt\u001b[0m\u001b[1;33m.\u001b[0m\u001b[0msolve\u001b[0m\u001b[1;33m(\u001b[0m\u001b[0msolver\u001b[0m\u001b[1;33m=\u001b[0m\u001b[0msolver\u001b[0m\u001b[1;33m)\u001b[0m\u001b[1;33m\u001b[0m\u001b[1;33m\u001b[0m\u001b[0m\n\u001b[0m\u001b[0;32m    326\u001b[0m \u001b[1;33m\u001b[0m\u001b[0m\n\u001b[0;32m    327\u001b[0m         \u001b[1;32mif\u001b[0m \u001b[0mopt\u001b[0m\u001b[1;33m.\u001b[0m\u001b[0mstatus\u001b[0m \u001b[1;32mnot\u001b[0m \u001b[1;32min\u001b[0m \u001b[1;33m{\u001b[0m\u001b[1;34m\"optimal\"\u001b[0m\u001b[1;33m,\u001b[0m \u001b[1;34m\"optimal_inaccurate\"\u001b[0m\u001b[1;33m}\u001b[0m\u001b[1;33m:\u001b[0m  \u001b[1;31m# pragma: no cover\u001b[0m\u001b[1;33m\u001b[0m\u001b[1;33m\u001b[0m\u001b[0m\n",
      "\u001b[1;32m~\\.conda\\envs\\python3_7_env\\lib\\site-packages\\cvxpy\\problems\\problem.py\u001b[0m in \u001b[0;36msolve\u001b[1;34m(self, *args, **kwargs)\u001b[0m\n\u001b[0;32m    460\u001b[0m         \u001b[1;32melse\u001b[0m\u001b[1;33m:\u001b[0m\u001b[1;33m\u001b[0m\u001b[1;33m\u001b[0m\u001b[0m\n\u001b[0;32m    461\u001b[0m             \u001b[0msolve_func\u001b[0m \u001b[1;33m=\u001b[0m \u001b[0mProblem\u001b[0m\u001b[1;33m.\u001b[0m\u001b[0m_solve\u001b[0m\u001b[1;33m\u001b[0m\u001b[1;33m\u001b[0m\u001b[0m\n\u001b[1;32m--> 462\u001b[1;33m         \u001b[1;32mreturn\u001b[0m \u001b[0msolve_func\u001b[0m\u001b[1;33m(\u001b[0m\u001b[0mself\u001b[0m\u001b[1;33m,\u001b[0m \u001b[1;33m*\u001b[0m\u001b[0margs\u001b[0m\u001b[1;33m,\u001b[0m \u001b[1;33m**\u001b[0m\u001b[0mkwargs\u001b[0m\u001b[1;33m)\u001b[0m\u001b[1;33m\u001b[0m\u001b[1;33m\u001b[0m\u001b[0m\n\u001b[0m\u001b[0;32m    463\u001b[0m \u001b[1;33m\u001b[0m\u001b[0m\n\u001b[0;32m    464\u001b[0m     \u001b[1;33m@\u001b[0m\u001b[0mclassmethod\u001b[0m\u001b[1;33m\u001b[0m\u001b[1;33m\u001b[0m\u001b[0m\n",
      "\u001b[1;32m~\\.conda\\envs\\python3_7_env\\lib\\site-packages\\cvxpy\\problems\\problem.py\u001b[0m in \u001b[0;36m_solve\u001b[1;34m(self, solver, warm_start, verbose, gp, qcp, requires_grad, enforce_dpp, **kwargs)\u001b[0m\n\u001b[0;32m    948\u001b[0m \u001b[1;33m\u001b[0m\u001b[0m\n\u001b[0;32m    949\u001b[0m         data, solving_chain, inverse_data = self.get_problem_data(\n\u001b[1;32m--> 950\u001b[1;33m             solver, gp, enforce_dpp, verbose)\n\u001b[0m\u001b[0;32m    951\u001b[0m \u001b[1;33m\u001b[0m\u001b[0m\n\u001b[0;32m    952\u001b[0m         \u001b[1;32mif\u001b[0m \u001b[0mverbose\u001b[0m\u001b[1;33m:\u001b[0m\u001b[1;33m\u001b[0m\u001b[1;33m\u001b[0m\u001b[0m\n",
      "\u001b[1;32m~\\.conda\\envs\\python3_7_env\\lib\\site-packages\\cvxpy\\problems\\problem.py\u001b[0m in \u001b[0;36mget_problem_data\u001b[1;34m(self, solver, gp, enforce_dpp, verbose)\u001b[0m\n\u001b[0;32m    569\u001b[0m             \u001b[0mself\u001b[0m\u001b[1;33m.\u001b[0m\u001b[0m_cache\u001b[0m\u001b[1;33m.\u001b[0m\u001b[0minvalidate\u001b[0m\u001b[1;33m(\u001b[0m\u001b[1;33m)\u001b[0m\u001b[1;33m\u001b[0m\u001b[1;33m\u001b[0m\u001b[0m\n\u001b[0;32m    570\u001b[0m             solving_chain = self._construct_chain(\n\u001b[1;32m--> 571\u001b[1;33m                 solver=solver, gp=gp, enforce_dpp=enforce_dpp)\n\u001b[0m\u001b[0;32m    572\u001b[0m             \u001b[0mself\u001b[0m\u001b[1;33m.\u001b[0m\u001b[0m_cache\u001b[0m\u001b[1;33m.\u001b[0m\u001b[0mkey\u001b[0m \u001b[1;33m=\u001b[0m \u001b[0mkey\u001b[0m\u001b[1;33m\u001b[0m\u001b[1;33m\u001b[0m\u001b[0m\n\u001b[0;32m    573\u001b[0m             \u001b[0mself\u001b[0m\u001b[1;33m.\u001b[0m\u001b[0m_cache\u001b[0m\u001b[1;33m.\u001b[0m\u001b[0msolving_chain\u001b[0m \u001b[1;33m=\u001b[0m \u001b[0msolving_chain\u001b[0m\u001b[1;33m\u001b[0m\u001b[1;33m\u001b[0m\u001b[0m\n",
      "\u001b[1;32m~\\.conda\\envs\\python3_7_env\\lib\\site-packages\\cvxpy\\problems\\problem.py\u001b[0m in \u001b[0;36m_construct_chain\u001b[1;34m(self, solver, gp, enforce_dpp)\u001b[0m\n\u001b[0;32m    794\u001b[0m         \u001b[0mA\u001b[0m \u001b[0msolving\u001b[0m \u001b[0mchain\u001b[0m\u001b[1;33m\u001b[0m\u001b[1;33m\u001b[0m\u001b[0m\n\u001b[0;32m    795\u001b[0m         \"\"\"\n\u001b[1;32m--> 796\u001b[1;33m         \u001b[0mcandidate_solvers\u001b[0m \u001b[1;33m=\u001b[0m \u001b[0mself\u001b[0m\u001b[1;33m.\u001b[0m\u001b[0m_find_candidate_solvers\u001b[0m\u001b[1;33m(\u001b[0m\u001b[0msolver\u001b[0m\u001b[1;33m=\u001b[0m\u001b[0msolver\u001b[0m\u001b[1;33m,\u001b[0m \u001b[0mgp\u001b[0m\u001b[1;33m=\u001b[0m\u001b[0mgp\u001b[0m\u001b[1;33m)\u001b[0m\u001b[1;33m\u001b[0m\u001b[1;33m\u001b[0m\u001b[0m\n\u001b[0m\u001b[0;32m    797\u001b[0m         \u001b[0mself\u001b[0m\u001b[1;33m.\u001b[0m\u001b[0m_sort_candidate_solvers\u001b[0m\u001b[1;33m(\u001b[0m\u001b[0mcandidate_solvers\u001b[0m\u001b[1;33m)\u001b[0m\u001b[1;33m\u001b[0m\u001b[1;33m\u001b[0m\u001b[0m\n\u001b[0;32m    798\u001b[0m         return construct_solving_chain(self, candidate_solvers, gp=gp,\n",
      "\u001b[1;32m~\\.conda\\envs\\python3_7_env\\lib\\site-packages\\cvxpy\\problems\\problem.py\u001b[0m in \u001b[0;36m_find_candidate_solvers\u001b[1;34m(self, solver, gp)\u001b[0m\n\u001b[0;32m    677\u001b[0m         \u001b[1;32mif\u001b[0m \u001b[0msolver\u001b[0m \u001b[1;32mis\u001b[0m \u001b[1;32mnot\u001b[0m \u001b[1;32mNone\u001b[0m\u001b[1;33m:\u001b[0m\u001b[1;33m\u001b[0m\u001b[1;33m\u001b[0m\u001b[0m\n\u001b[0;32m    678\u001b[0m             \u001b[1;32mif\u001b[0m \u001b[0msolver\u001b[0m \u001b[1;32mnot\u001b[0m \u001b[1;32min\u001b[0m \u001b[0mslv_def\u001b[0m\u001b[1;33m.\u001b[0m\u001b[0mINSTALLED_SOLVERS\u001b[0m\u001b[1;33m:\u001b[0m\u001b[1;33m\u001b[0m\u001b[1;33m\u001b[0m\u001b[0m\n\u001b[1;32m--> 679\u001b[1;33m                 \u001b[1;32mraise\u001b[0m \u001b[0merror\u001b[0m\u001b[1;33m.\u001b[0m\u001b[0mSolverError\u001b[0m\u001b[1;33m(\u001b[0m\u001b[1;34m\"The solver %s is not installed.\"\u001b[0m \u001b[1;33m%\u001b[0m \u001b[0msolver\u001b[0m\u001b[1;33m)\u001b[0m\u001b[1;33m\u001b[0m\u001b[1;33m\u001b[0m\u001b[0m\n\u001b[0m\u001b[0;32m    680\u001b[0m             \u001b[1;32mif\u001b[0m \u001b[0msolver\u001b[0m \u001b[1;32min\u001b[0m \u001b[0mslv_def\u001b[0m\u001b[1;33m.\u001b[0m\u001b[0mCONIC_SOLVERS\u001b[0m\u001b[1;33m:\u001b[0m\u001b[1;33m\u001b[0m\u001b[1;33m\u001b[0m\u001b[0m\n\u001b[0;32m    681\u001b[0m                 \u001b[0mcandidates\u001b[0m\u001b[1;33m[\u001b[0m\u001b[1;34m'conic_solvers'\u001b[0m\u001b[1;33m]\u001b[0m \u001b[1;33m+=\u001b[0m \u001b[1;33m[\u001b[0m\u001b[0msolver\u001b[0m\u001b[1;33m]\u001b[0m\u001b[1;33m\u001b[0m\u001b[1;33m\u001b[0m\u001b[0m\n",
      "\u001b[1;31mSolverError\u001b[0m: The solver GLPK_MI is not installed."
     ]
    }
   ],
   "source": [
    "from pypfopt import DiscreteAllocation\n",
    "import cvxpy\n",
    "from cvxpy import GLPK_MI\n",
    "\n",
    "\n",
    "latest_prices = prices.iloc[-1]  # prices as of the day you are allocating\n",
    "da = DiscreteAllocation(weights, latest_prices, total_portfolio_value=20000, short_ratio=0.3)\n",
    "alloc, leftover = da.lp_portfolio()\n",
    "print(f\"Discrete allocation performed with ${leftover:.2f} leftover\")\n",
    "alloc"
   ]
  },
  {
   "cell_type": "code",
   "execution_count": 85,
   "metadata": {},
   "outputs": [
    {
     "name": "stdout",
     "output_type": "stream",
     "text": [
      "Requirement already satisfied: cvxpy in c:\\users\\kofi_annan\\.conda\\envs\\python3_7_env\\lib\\site-packages (1.1.13)\n",
      "Requirement already satisfied: scipy>=1.1.0 in c:\\users\\kofi_annan\\.conda\\envs\\python3_7_env\\lib\\site-packages (from cvxpy) (1.6.3)\n",
      "Requirement already satisfied: ecos>=2 in c:\\users\\kofi_annan\\.conda\\envs\\python3_7_env\\lib\\site-packages (from cvxpy) (2.0.7.post1)\n",
      "Requirement already satisfied: scs>=1.1.6 in c:\\users\\kofi_annan\\.conda\\envs\\python3_7_env\\lib\\site-packages (from cvxpy) (2.1.4)\n",
      "Requirement already satisfied: osqp>=0.4.1 in c:\\users\\kofi_annan\\.conda\\envs\\python3_7_env\\lib\\site-packages (from cvxpy) (0.6.2.post0)\n",
      "Requirement already satisfied: numpy>=1.15 in c:\\users\\kofi_annan\\.conda\\envs\\python3_7_env\\lib\\site-packages (from cvxpy) (1.20.3)\n",
      "Requirement already satisfied: qdldl in c:\\users\\kofi_annan\\.conda\\envs\\python3_7_env\\lib\\site-packages (from osqp>=0.4.1->cvxpy) (0.1.5.post0)\n"
     ]
    }
   ],
   "source": [
    "#!pip install CVXOPT\n",
    "!pip install cvxpy"
   ]
  },
  {
   "cell_type": "code",
   "execution_count": 92,
   "metadata": {},
   "outputs": [
    {
     "name": "stdout",
     "output_type": "stream",
     "text": [
      "['CVXOPT', 'ECOS', 'ECOS_BB', 'GLPK', 'GLPK_MI', 'OSQP', 'SCS']\n"
     ]
    }
   ],
   "source": [
    "#!pip install GLPK_MI\n",
    "#!pip install cvxpy\n",
    "#!pip install cvxopt\n",
    "print(cvxpy.installed_solvers())"
   ]
  },
  {
   "cell_type": "markdown",
   "metadata": {},
   "source": [
    "## Max Sharpe with sector constraints\n",
    "\n",
    "If you have your own model for returns (or have read the warnings and want to proceed anyways), you may consider maximising the Sharpe ratio. This theoretically gives the optimal portfolio in terms of risks-returns.\n",
    "\n",
    "In this section, we construct a long-only max-sharpe portfolio, but also incorporate sector constraints. Sector constraints require three things. A `sector_mapper`, your `sector_lower` bounds, and your `sector_upper` bounds."
   ]
  },
  {
   "cell_type": "code",
   "execution_count": 41,
   "metadata": {},
   "outputs": [],
   "source": [
    "sector_mapper = {\n",
    "    \"MSFT\": \"Tech\",\n",
    "    \"AMZN\": \"Consumer Discretionary\",\n",
    "    \"KO\": \"Consumer Staples\",\n",
    "    \"MA\": \"Financial Services\",\n",
    "    \"COST\": \"Consumer Staples\",\n",
    "    \"LUV\": \"Aerospace\",\n",
    "    \"XOM\": \"Energy\",\n",
    "    \"PFE\": \"Healthcare\",\n",
    "    \"JPM\": \"Financial Services\",\n",
    "    \"UNH\": \"Healthcare\",\n",
    "    \"ACN\": \"Misc\",\n",
    "    \"DIS\": \"Media\",\n",
    "    \"GILD\": \"Healthcare\",\n",
    "    \"F\": \"Auto\",\n",
    "    \"TSLA\": \"Auto\"\n",
    "}\n",
    "\n",
    "sector_lower = {\n",
    "    \"Consumer Staples\": 0.1, # at least 10% to staples\n",
    "    \"Tech\": 0.05 # at least 5% to tech\n",
    "    # For all other sectors, it will be assumed there is no lower bound\n",
    "}\n",
    "\n",
    "sector_upper = {\n",
    "    \"Tech\": 0.2,\n",
    "    \"Aerospace\":0.1,\n",
    "    \"Energy\": 0.1,\n",
    "    \"Auto\":0.15\n",
    "}"
   ]
  },
  {
   "cell_type": "markdown",
   "metadata": {},
   "source": [
    "We then set up the optimizer and add our constraints. We can use `ef.add_objective()` to add other constraints. For example, let's say that in addition to the above sector constraints, I specifically want:\n",
    "\n",
    "- 10% of the portfolio in AMZN\n",
    "- Less than 5% of my portfolio in TSLA"
   ]
  },
  {
   "cell_type": "code",
   "execution_count": 42,
   "metadata": {},
   "outputs": [],
   "source": [
    "mu = expected_returns.capm_return(prices)\n",
    "S = risk_models.CovarianceShrinkage(prices).ledoit_wolf()\n",
    "\n",
    "ef = EfficientFrontier(mu, S)  # weight_bounds automatically set to (0, 1)\n",
    "ef.add_sector_constraints(sector_mapper, sector_lower, sector_upper)\n",
    "\n",
    "amzn_index = ef.tickers.index(\"AMZN\")\n",
    "ef.add_constraint(lambda w: w[amzn_index] == 0.10)\n",
    "\n",
    "tsla_index = ef.tickers.index(\"TSLA\")\n",
    "ef.add_constraint(lambda w: w[tsla_index] <= 0.05)\n",
    "\n",
    "ef.add_constraint(lambda w: w[10] >= 0.05)\n",
    "\n",
    "ef.max_sharpe()\n",
    "weights = ef.clean_weights()"
   ]
  },
  {
   "cell_type": "code",
   "execution_count": 43,
   "metadata": {},
   "outputs": [
    {
     "data": {
      "text/plain": [
       "OrderedDict([('MSFT', 0.05944),\n",
       "             ('AMZN', 0.1),\n",
       "             ('KO', 0.06941),\n",
       "             ('MA', 0.06099),\n",
       "             ('COST', 0.05961),\n",
       "             ('LUV', 0.06633),\n",
       "             ('XOM', 0.06774),\n",
       "             ('PFE', 0.06411),\n",
       "             ('JPM', 0.06813),\n",
       "             ('UNH', 0.06562),\n",
       "             ('ACN', 0.06638),\n",
       "             ('DIS', 0.06598),\n",
       "             ('GILD', 0.06636),\n",
       "             ('F', 0.0699),\n",
       "             ('TSLA', 0.05)])"
      ]
     },
     "execution_count": 43,
     "metadata": {},
     "output_type": "execute_result"
    }
   ],
   "source": [
    "weights"
   ]
  },
  {
   "cell_type": "code",
   "execution_count": 44,
   "metadata": {},
   "outputs": [
    {
     "data": {
      "image/png": "[encoded data removed]",
      "text/plain": [
       "<Figure size 720x720 with 1 Axes>"
      ]
     },
     "metadata": {},
     "output_type": "display_data"
    }
   ],
   "source": [
    "pd.Series(weights).plot.pie(figsize=(10,10));"
   ]
  },
  {
   "cell_type": "markdown",
   "metadata": {},
   "source": [
    "We can immediately see that our explicit constraints were satisfied, and can check all the sector constraints as follows:\n"
   ]
  },
  {
   "cell_type": "code",
   "execution_count": 45,
   "metadata": {},
   "outputs": [
    {
     "name": "stdout",
     "output_type": "stream",
     "text": [
      "Consumer Staples: 0.129\n",
      "Media: 0.066\n",
      "Financial Services: 0.129\n",
      "Tech: 0.059\n",
      "Consumer Discretionary: 0.100\n",
      "Aerospace: 0.066\n",
      "Misc: 0.066\n",
      "Auto: 0.120\n",
      "Energy: 0.068\n",
      "Healthcare: 0.196\n"
     ]
    }
   ],
   "source": [
    "# O(N^2) loop not a good idea in a coding interview :)\n",
    "for sector in set(sector_mapper.values()):\n",
    "    total_weight = 0\n",
    "    for t,w in weights.items():\n",
    "        if sector_mapper[t] == sector:\n",
    "            total_weight += w\n",
    "    print(f\"{sector}: {total_weight:.3f}\")"
   ]
  },
  {
   "cell_type": "markdown",
   "metadata": {},
   "source": [
    "## Maximise return for a given risk, with L2 regularisation\n",
    "\n",
    "Let's imagine that we've put a lot of thought into our risk tolerance, and have decided that we can't accept anything more than 15% volatility. We can use PyPortfolioOpt to construct a portfolio that maximises return for a given risk (with the same caveats about expected returns)."
   ]
  },
  {
   "cell_type": "code",
   "execution_count": 46,
   "metadata": {},
   "outputs": [
    {
     "data": {
      "text/plain": [
       "OrderedDict([('MSFT', 0.05),\n",
       "             ('AMZN', 0.05257),\n",
       "             ('KO', 0.25041),\n",
       "             ('MA', 0.0),\n",
       "             ('COST', 0.21401),\n",
       "             ('LUV', 0.02098),\n",
       "             ('XOM', 0.06604),\n",
       "             ('PFE', 0.15071),\n",
       "             ('JPM', 0.0),\n",
       "             ('UNH', 0.02571),\n",
       "             ('ACN', 0.01456),\n",
       "             ('DIS', 0.04544),\n",
       "             ('GILD', 0.0635),\n",
       "             ('F', 0.03352),\n",
       "             ('TSLA', 0.01255)])"
      ]
     },
     "execution_count": 46,
     "metadata": {},
     "output_type": "execute_result"
    }
   ],
   "source": [
    "ef = EfficientFrontier(mu, S)\n",
    "ef.add_sector_constraints(sector_mapper, sector_lower, sector_upper)\n",
    "ef.efficient_risk(target_volatility=0.15)\n",
    "weights = ef.clean_weights()\n",
    "weights"
   ]
  },
  {
   "cell_type": "code",
   "execution_count": 47,
   "metadata": {},
   "outputs": [
    {
     "name": "stdout",
     "output_type": "stream",
     "text": [
      "2/15 tickers have zero weight\n"
     ]
    }
   ],
   "source": [
    "num_small = len([k for k in weights if weights[k] <= 1e-4])\n",
    "print(f\"{num_small}/{len(ef.tickers)} tickers have zero weight\")"
   ]
  },
  {
   "cell_type": "code",
   "execution_count": 48,
   "metadata": {},
   "outputs": [
    {
     "name": "stdout",
     "output_type": "stream",
     "text": [
      "Expected annual return: 19.4%\n",
      "Annual volatility: 15.0%\n",
      "Sharpe Ratio: 1.16\n"
     ]
    }
   ],
   "source": [
    "ef.portfolio_performance(verbose=True);"
   ]
  },
  {
   "cell_type": "markdown",
   "metadata": {},
   "source": [
    "While this portfolio seems like it meets our objectives, we might be worried by the fact that a lot of the tickers have been assigned zero weight. In effect, the optimizer is \"overfitting\" to the data you have provided -- you are much more likely to get better results by enforcing some level of diversification. One way of doing this is to use **L2 regularisation** – essentially, adding a penalty on the number of near-zero weights."
   ]
  },
  {
   "cell_type": "code",
   "execution_count": 49,
   "metadata": {},
   "outputs": [
    {
     "data": {
      "text/plain": [
       "OrderedDict([('MSFT', 0.05),\n",
       "             ('AMZN', 0.05265),\n",
       "             ('KO', 0.23718),\n",
       "             ('MA', 0.0),\n",
       "             ('COST', 0.21131),\n",
       "             ('LUV', 0.01898),\n",
       "             ('XOM', 0.06713),\n",
       "             ('PFE', 0.15245),\n",
       "             ('JPM', 0.0),\n",
       "             ('UNH', 0.03098),\n",
       "             ('ACN', 0.02394),\n",
       "             ('DIS', 0.04788),\n",
       "             ('GILD', 0.06922),\n",
       "             ('F', 0.03143),\n",
       "             ('TSLA', 0.00684)])"
      ]
     },
     "execution_count": 49,
     "metadata": {},
     "output_type": "execute_result"
    }
   ],
   "source": [
    "from pypfopt import objective_functions\n",
    "\n",
    "# You must always create a new efficient frontier object\n",
    "ef = EfficientFrontier(mu, S)\n",
    "ef.add_sector_constraints(sector_mapper, sector_lower, sector_upper)\n",
    "ef.add_objective(objective_functions.L2_reg, gamma=0.1)  # gamme is the tuning parameter\n",
    "ef.efficient_risk(0.15)\n",
    "weights = ef.clean_weights()\n",
    "weights"
   ]
  },
  {
   "cell_type": "code",
   "execution_count": 50,
   "metadata": {},
   "outputs": [
    {
     "name": "stdout",
     "output_type": "stream",
     "text": [
      "2/15 tickers have zero weight\n"
     ]
    }
   ],
   "source": [
    "num_small = len([k for k in weights if weights[k] <= 1e-4])\n",
    "print(f\"{num_small}/{len(ef.tickers)} tickers have zero weight\")"
   ]
  },
  {
   "cell_type": "markdown",
   "metadata": {},
   "source": [
    "We can tune the value of gamma to choose the number of nonzero tickers. Larger gamma pulls portfolio weights towards an equal allocation."
   ]
  },
  {
   "cell_type": "code",
   "execution_count": 51,
   "metadata": {},
   "outputs": [
    {
     "data": {
      "text/plain": [
       "OrderedDict([('MSFT', 0.05),\n",
       "             ('AMZN', 0.05192),\n",
       "             ('KO', 0.22513),\n",
       "             ('MA', 0.0),\n",
       "             ('COST', 0.20919),\n",
       "             ('LUV', 0.01536),\n",
       "             ('XOM', 0.06803),\n",
       "             ('PFE', 0.15532),\n",
       "             ('JPM', 0.0),\n",
       "             ('UNH', 0.03767),\n",
       "             ('ACN', 0.03292),\n",
       "             ('DIS', 0.05004),\n",
       "             ('GILD', 0.07717),\n",
       "             ('F', 0.02725),\n",
       "             ('TSLA', 0.0)])"
      ]
     },
     "execution_count": 51,
     "metadata": {},
     "output_type": "execute_result"
    }
   ],
   "source": [
    "ef = EfficientFrontier(mu, S)\n",
    "ef.add_sector_constraints(sector_mapper, sector_lower, sector_upper)\n",
    "ef.add_objective(objective_functions.L2_reg, gamma=1)  # gamme is the tuning parameter\n",
    "ef.efficient_risk(0.15)\n",
    "weights = ef.clean_weights()\n",
    "weights"
   ]
  },
  {
   "cell_type": "code",
   "execution_count": 52,
   "metadata": {},
   "outputs": [
    {
     "data": {
      "image/png": "[encoded data removed]",
      "text/plain": [
       "<Figure size 720x720 with 1 Axes>"
      ]
     },
     "metadata": {},
     "output_type": "display_data"
    }
   ],
   "source": [
    "pd.Series(weights).plot.pie(figsize=(10, 10));"
   ]
  },
  {
   "cell_type": "code",
   "execution_count": 53,
   "metadata": {},
   "outputs": [
    {
     "name": "stdout",
     "output_type": "stream",
     "text": [
      "Expected annual return: 19.3%\n",
      "Annual volatility: 15.0%\n",
      "Sharpe Ratio: 1.15\n"
     ]
    }
   ],
   "source": [
    "ef.portfolio_performance(verbose=True);"
   ]
  },
  {
   "cell_type": "markdown",
   "metadata": {},
   "source": [
    "The resulting portfolio still has a volatility of less than our 15% limit. It's in-sample Sharpe ratio has gone down, but this portfolio is a lot more robust for actual investment."
   ]
  },
  {
   "cell_type": "markdown",
   "metadata": {},
   "source": [
    "## Minimise risk for a given return, market-neutral\n",
    "\n",
    "We may instead be in the situation where we have a certain required rate of return (maybe we are a pension fund that needs 7% return a year), but would like to minimise risk. Additionally, suppose we would like our portfolio to be market neutral, in the sense that it is equally exposed to the long and short sides.  "
   ]
  },
  {
   "cell_type": "code",
   "execution_count": 54,
   "metadata": {},
   "outputs": [
    {
     "data": {
      "text/plain": [
       "OrderedDict([('MSFT', 0.02692),\n",
       "             ('AMZN', 0.0),\n",
       "             ('KO', -0.12082),\n",
       "             ('MA', 0.06707),\n",
       "             ('COST', -0.12731),\n",
       "             ('LUV', 0.05016),\n",
       "             ('XOM', -0.0149),\n",
       "             ('PFE', -0.09882),\n",
       "             ('JPM', 0.05452),\n",
       "             ('UNH', -0.01457),\n",
       "             ('ACN', -0.00488),\n",
       "             ('DIS', -0.0016),\n",
       "             ('GILD', -0.05907),\n",
       "             ('F', 0.04173),\n",
       "             ('TSLA', 0.20155)])"
      ]
     },
     "execution_count": 54,
     "metadata": {},
     "output_type": "execute_result"
    }
   ],
   "source": [
    "# Must have no weight bounds to allow shorts\n",
    "ef = EfficientFrontier(mu, S, weight_bounds=(None, None))\n",
    "ef.add_objective(objective_functions.L2_reg)\n",
    "ef.efficient_return(target_return=0.07, market_neutral=True)\n",
    "weights = ef.clean_weights()\n",
    "weights"
   ]
  },
  {
   "cell_type": "code",
   "execution_count": 55,
   "metadata": {},
   "outputs": [
    {
     "name": "stdout",
     "output_type": "stream",
     "text": [
      "Expected annual return: 7.0%\n",
      "Annual volatility: 12.4%\n",
      "Sharpe Ratio: 0.40\n"
     ]
    }
   ],
   "source": [
    "ef.portfolio_performance(verbose=True);"
   ]
  },
  {
   "cell_type": "code",
   "execution_count": 56,
   "metadata": {},
   "outputs": [
    {
     "data": {
      "image/png": "[encoded data removed]",
      "text/plain": [
       "<Figure size 720x432 with 1 Axes>"
      ]
     },
     "metadata": {
      "needs_background": "light"
     },
     "output_type": "display_data"
    }
   ],
   "source": [
    "pd.Series(weights).plot.barh(figsize=(10,6));"
   ]
  },
  {
   "cell_type": "code",
   "execution_count": 57,
   "metadata": {},
   "outputs": [
    {
     "name": "stdout",
     "output_type": "stream",
     "text": [
      "Net weight: -0.00\n"
     ]
    }
   ],
   "source": [
    "print(f\"Net weight: {sum(weights.values()):.2f}\")"
   ]
  },
  {
   "cell_type": "markdown",
   "metadata": {},
   "source": [
    "## Efficient semi-variance optimization\n",
    "\n",
    "In this example, we will minimise the portfolio semivariance (i.e downside volatility) subject to a return constraint (target 20%).\n",
    "\n",
    "There are actually two ways of doing this in PyPortfolioOpt. The first is the \"intuitive\" way. We compute a semicovariance matrix, and pass this into `EfficientFrontier` (just like we would do for the exponential cov matrix or the Ledoit-Wolf shrunk matrix)."
   ]
  },
  {
   "cell_type": "code",
   "execution_count": 58,
   "metadata": {},
   "outputs": [
    {
     "data": {
      "image/png": "[encoded data removed]",
      "text/plain": [
       "<Figure size 432x288 with 2 Axes>"
      ]
     },
     "metadata": {
      "needs_background": "light"
     },
     "output_type": "display_data"
    }
   ],
   "source": [
    "semicov = risk_models.semicovariance(prices, benchmark=0)\n",
    "plotting.plot_covariance(semicov);"
   ]
  },
  {
   "cell_type": "code",
   "execution_count": 59,
   "metadata": {},
   "outputs": [
    {
     "data": {
      "text/plain": [
       "OrderedDict([('MSFT', 0.05492),\n",
       "             ('AMZN', 0.02272),\n",
       "             ('KO', 0.18312),\n",
       "             ('MA', 0.04274),\n",
       "             ('COST', 0.22539),\n",
       "             ('LUV', 0.0),\n",
       "             ('XOM', 0.0),\n",
       "             ('PFE', 0.16796),\n",
       "             ('JPM', 0.05209),\n",
       "             ('UNH', 0.04858),\n",
       "             ('ACN', 0.11813),\n",
       "             ('DIS', 0.0804),\n",
       "             ('GILD', 0.0),\n",
       "             ('F', 0.00396),\n",
       "             ('TSLA', 0.0)])"
      ]
     },
     "execution_count": 59,
     "metadata": {},
     "output_type": "execute_result"
    }
   ],
   "source": [
    "ef = EfficientFrontier(mu, semicov)\n",
    "ef.efficient_return(0.2)\n",
    "weights = ef.clean_weights()\n",
    "weights\n"
   ]
  },
  {
   "cell_type": "code",
   "execution_count": 60,
   "metadata": {},
   "outputs": [
    {
     "name": "stdout",
     "output_type": "stream",
     "text": [
      "Expected annual return: 20.0%\n",
      "Annual volatility: 11.9%\n",
      "Sharpe Ratio: 1.52\n"
     ]
    }
   ],
   "source": [
    "ef.portfolio_performance(verbose=True);"
   ]
  },
  {
   "cell_type": "markdown",
   "metadata": {},
   "source": [
    "However, this solution is not truly optimal in mean-semivariance space. To do the optimization properly, we must use the `EfficientSemivariance` class. This requires us to first compute the returns and drop NaNs."
   ]
  },
  {
   "cell_type": "code",
   "execution_count": 61,
   "metadata": {},
   "outputs": [],
   "source": [
    "returns = expected_returns.returns_from_prices(prices)\n",
    "returns = returns.dropna()"
   ]
  },
  {
   "cell_type": "code",
   "execution_count": 62,
   "metadata": {},
   "outputs": [
    {
     "name": "stdout",
     "output_type": "stream",
     "text": [
      "Expected annual return: 20.0%\n",
      "Annual semi-deviation: 10.8%\n",
      "Sortino Ratio: 1.67\n"
     ]
    }
   ],
   "source": [
    "from pypfopt import EfficientSemivariance\n",
    "\n",
    "es = EfficientSemivariance(mu, returns)\n",
    "es.efficient_return(0.2)\n",
    "es.portfolio_performance(verbose=True);\n"
   ]
  },
  {
   "cell_type": "markdown",
   "metadata": {},
   "source": [
    "To compare this with the heuristic solution, I will use a quick hack: replacing the `es.weights` with `es.weights` and running `es.portfolio_performance` again. Please don't be encouraged to do this in real life!"
   ]
  },
  {
   "cell_type": "code",
   "execution_count": 63,
   "metadata": {},
   "outputs": [
    {
     "name": "stdout",
     "output_type": "stream",
     "text": [
      "Expected annual return: 20.0%\n",
      "Annual semi-deviation: 11.0%\n",
      "Sortino Ratio: 1.64\n"
     ]
    }
   ],
   "source": [
    "es.weights = ef.weights\n",
    "es.portfolio_performance(verbose=True);"
   ]
  },
  {
   "cell_type": "markdown",
   "metadata": {},
   "source": [
    "We see that the heuristic method has a significantly lower Sortino ratio, and much higher semivariance."
   ]
  },
  {
   "cell_type": "markdown",
   "metadata": {},
   "source": [
    "## Efficient CVaR optimization\n",
    "\n",
    "In this example, we will find the portfolio that maximises return subject to a CVaR constraint.\n",
    "\n",
    "Before doing this, let's first compute the 95%-CVaR for the max-sharpe portfolio."
   ]
  },
  {
   "cell_type": "code",
   "execution_count": 64,
   "metadata": {},
   "outputs": [
    {
     "data": {
      "text/html": [
       "<div>\n",
       "<style scoped>\n",
       "    .dataframe tbody tr th:only-of-type {\n",
       "        vertical-align: middle;\n",
       "    }\n",
       "\n",
       "    .dataframe tbody tr th {\n",
       "        vertical-align: top;\n",
       "    }\n",
       "\n",
       "    .dataframe thead th {\n",
       "        text-align: right;\n",
       "    }\n",
       "</style>\n",
       "<table border=\"1\" class=\"dataframe\">\n",
       "  <thead>\n",
       "    <tr style=\"text-align: right;\">\n",
       "      <th>Symbols</th>\n",
       "      <th>MSFT</th>\n",
       "      <th>AMZN</th>\n",
       "      <th>KO</th>\n",
       "      <th>MA</th>\n",
       "      <th>COST</th>\n",
       "      <th>LUV</th>\n",
       "      <th>XOM</th>\n",
       "      <th>PFE</th>\n",
       "      <th>JPM</th>\n",
       "      <th>UNH</th>\n",
       "      <th>ACN</th>\n",
       "      <th>DIS</th>\n",
       "      <th>GILD</th>\n",
       "      <th>F</th>\n",
       "      <th>TSLA</th>\n",
       "    </tr>\n",
       "    <tr>\n",
       "      <th>Date</th>\n",
       "      <th></th>\n",
       "      <th></th>\n",
       "      <th></th>\n",
       "      <th></th>\n",
       "      <th></th>\n",
       "      <th></th>\n",
       "      <th></th>\n",
       "      <th></th>\n",
       "      <th></th>\n",
       "      <th></th>\n",
       "      <th></th>\n",
       "      <th></th>\n",
       "      <th></th>\n",
       "      <th></th>\n",
       "      <th></th>\n",
       "    </tr>\n",
       "  </thead>\n",
       "  <tbody>\n",
       "    <tr>\n",
       "      <th>2013-01-03</th>\n",
       "      <td>-0.013396</td>\n",
       "      <td>0.004547</td>\n",
       "      <td>0.000000</td>\n",
       "      <td>0.001431</td>\n",
       "      <td>0.010251</td>\n",
       "      <td>0.023878</td>\n",
       "      <td>-0.001804</td>\n",
       "      <td>-0.002316</td>\n",
       "      <td>-0.002016</td>\n",
       "      <td>-0.046755</td>\n",
       "      <td>-0.003620</td>\n",
       "      <td>0.002153</td>\n",
       "      <td>-0.001466</td>\n",
       "      <td>0.019697</td>\n",
       "      <td>-0.016686</td>\n",
       "    </tr>\n",
       "    <tr>\n",
       "      <th>2013-01-04</th>\n",
       "      <td>-0.018716</td>\n",
       "      <td>0.002592</td>\n",
       "      <td>0.001596</td>\n",
       "      <td>-0.000039</td>\n",
       "      <td>-0.003220</td>\n",
       "      <td>0.014925</td>\n",
       "      <td>0.004630</td>\n",
       "      <td>0.004255</td>\n",
       "      <td>0.017725</td>\n",
       "      <td>0.001924</td>\n",
       "      <td>0.005522</td>\n",
       "      <td>0.019137</td>\n",
       "      <td>0.010274</td>\n",
       "      <td>0.008172</td>\n",
       "      <td>-0.010641</td>\n",
       "    </tr>\n",
       "    <tr>\n",
       "      <th>2013-01-07</th>\n",
       "      <td>-0.001870</td>\n",
       "      <td>0.035925</td>\n",
       "      <td>-0.009559</td>\n",
       "      <td>0.017330</td>\n",
       "      <td>-0.007733</td>\n",
       "      <td>0.002757</td>\n",
       "      <td>-0.011578</td>\n",
       "      <td>0.000770</td>\n",
       "      <td>0.001102</td>\n",
       "      <td>0.000000</td>\n",
       "      <td>-0.004336</td>\n",
       "      <td>-0.023376</td>\n",
       "      <td>0.015320</td>\n",
       "      <td>-0.010317</td>\n",
       "      <td>-0.001744</td>\n",
       "    </tr>\n",
       "    <tr>\n",
       "      <th>2013-01-08</th>\n",
       "      <td>-0.005246</td>\n",
       "      <td>-0.007748</td>\n",
       "      <td>-0.006971</td>\n",
       "      <td>-0.003291</td>\n",
       "      <td>-0.001874</td>\n",
       "      <td>0.010999</td>\n",
       "      <td>0.006255</td>\n",
       "      <td>0.001539</td>\n",
       "      <td>0.001982</td>\n",
       "      <td>-0.013246</td>\n",
       "      <td>0.005806</td>\n",
       "      <td>-0.004120</td>\n",
       "      <td>0.006763</td>\n",
       "      <td>-0.005957</td>\n",
       "      <td>-0.019220</td>\n",
       "    </tr>\n",
       "    <tr>\n",
       "      <th>2013-01-09</th>\n",
       "      <td>0.005650</td>\n",
       "      <td>-0.000113</td>\n",
       "      <td>-0.000270</td>\n",
       "      <td>0.028137</td>\n",
       "      <td>0.000494</td>\n",
       "      <td>-0.002720</td>\n",
       "      <td>-0.003843</td>\n",
       "      <td>0.017295</td>\n",
       "      <td>-0.000659</td>\n",
       "      <td>0.018871</td>\n",
       "      <td>0.007072</td>\n",
       "      <td>0.000394</td>\n",
       "      <td>0.006073</td>\n",
       "      <td>0.008989</td>\n",
       "      <td>-0.001188</td>\n",
       "    </tr>\n",
       "  </tbody>\n",
       "</table>\n",
       "</div>"
      ],
      "text/plain": [
       "Symbols         MSFT      AMZN        KO        MA      COST       LUV  \\\n",
       "Date                                                                     \n",
       "2013-01-03 -0.013396  0.004547  0.000000  0.001431  0.010251  0.023878   \n",
       "2013-01-04 -0.018716  0.002592  0.001596 -0.000039 -0.003220  0.014925   \n",
       "2013-01-07 -0.001870  0.035925 -0.009559  0.017330 -0.007733  0.002757   \n",
       "2013-01-08 -0.005246 -0.007748 -0.006971 -0.003291 -0.001874  0.010999   \n",
       "2013-01-09  0.005650 -0.000113 -0.000270  0.028137  0.000494 -0.002720   \n",
       "\n",
       "Symbols          XOM       PFE       JPM       UNH       ACN       DIS  \\\n",
       "Date                                                                     \n",
       "2013-01-03 -0.001804 -0.002316 -0.002016 -0.046755 -0.003620  0.002153   \n",
       "2013-01-04  0.004630  0.004255  0.017725  0.001924  0.005522  0.019137   \n",
       "2013-01-07 -0.011578  0.000770  0.001102  0.000000 -0.004336 -0.023376   \n",
       "2013-01-08  0.006255  0.001539  0.001982 -0.013246  0.005806 -0.004120   \n",
       "2013-01-09 -0.003843  0.017295 -0.000659  0.018871  0.007072  0.000394   \n",
       "\n",
       "Symbols         GILD         F      TSLA  \n",
       "Date                                      \n",
       "2013-01-03 -0.001466  0.019697 -0.016686  \n",
       "2013-01-04  0.010274  0.008172 -0.010641  \n",
       "2013-01-07  0.015320 -0.010317 -0.001744  \n",
       "2013-01-08  0.006763 -0.005957 -0.019220  \n",
       "2013-01-09  0.006073  0.008989 -0.001188  "
      ]
     },
     "execution_count": 64,
     "metadata": {},
     "output_type": "execute_result"
    }
   ],
   "source": [
    "returns = expected_returns.returns_from_prices(prices).dropna()\n",
    "returns.head()"
   ]
  },
  {
   "cell_type": "code",
   "execution_count": 65,
   "metadata": {},
   "outputs": [
    {
     "name": "stdout",
     "output_type": "stream",
     "text": [
      "Expected annual return: 24.3%\n",
      "Annual volatility: 17.8%\n",
      "Sharpe Ratio: 1.25\n"
     ]
    }
   ],
   "source": [
    "ef = EfficientFrontier(mu, S)\n",
    "ef.max_sharpe()\n",
    "weight_arr = ef.weights\n",
    "ef.portfolio_performance(verbose=True);"
   ]
  },
  {
   "cell_type": "code",
   "execution_count": 79,
   "metadata": {},
   "outputs": [
    {
     "data": {
      "text/plain": [
       "OrderedDict([('MSFT', 0.06704),\n",
       "             ('AMZN', 0.06663),\n",
       "             ('KO', 0.06553),\n",
       "             ('MA', 0.0674),\n",
       "             ('COST', 0.06577),\n",
       "             ('LUV', 0.0669),\n",
       "             ('XOM', 0.06659),\n",
       "             ('PFE', 0.06611),\n",
       "             ('JPM', 0.06725),\n",
       "             ('UNH', 0.06683),\n",
       "             ('ACN', 0.06677),\n",
       "             ('DIS', 0.0667),\n",
       "             ('GILD', 0.06668),\n",
       "             ('F', 0.06682),\n",
       "             ('TSLA', 0.06697)])"
      ]
     },
     "execution_count": 79,
     "metadata": {},
     "output_type": "execute_result"
    }
   ],
   "source": []
  },
  {
   "cell_type": "code",
   "execution_count": 66,
   "metadata": {},
   "outputs": [
    {
     "data": {
      "image/png": "[encoded data removed]",
      "text/plain": [
       "<Figure size 432x288 with 1 Axes>"
      ]
     },
     "metadata": {
      "needs_background": "light"
     },
     "output_type": "display_data"
    }
   ],
   "source": [
    "# Compute CVaR\n",
    "portfolio_rets = (returns * weight_arr).sum(axis=1)\n",
    "portfolio_rets.hist(bins=50);"
   ]
  },
  {
   "cell_type": "code",
   "execution_count": 67,
   "metadata": {},
   "outputs": [
    {
     "name": "stdout",
     "output_type": "stream",
     "text": [
      "VaR: -1.57%\n",
      "CVaR: -2.75%\n"
     ]
    }
   ],
   "source": [
    "# VaR\n",
    "var = portfolio_rets.quantile(0.05)\n",
    "cvar = portfolio_rets[portfolio_rets <= var].mean()\n",
    "print(\"VaR: {:.2f}%\".format(100*var))\n",
    "print(\"CVaR: {:.2f}%\".format(100*cvar))"
   ]
  },
  {
   "cell_type": "markdown",
   "metadata": {},
   "source": [
    "This value of the CVaR means that our average loss on the worst 5% of days will be -3.35%. Let's say that this were beyond our comfort zone (for a \\\\$100,000 portfolio, this would mean losing \\\\$3350 in a day).\n",
    "\n",
    "Let's firstly construct the portfolio with the minimum CVaR:"
   ]
  },
  {
   "cell_type": "code",
   "execution_count": 68,
   "metadata": {},
   "outputs": [
    {
     "name": "stdout",
     "output_type": "stream",
     "text": [
      "Expected annual return: 17.1%\n",
      "Conditional Value at Risk: 2.17%\n"
     ]
    }
   ],
   "source": [
    "from pypfopt import EfficientCVaR\n",
    "\n",
    "ec = EfficientCVaR(mu, returns)\n",
    "ec.min_cvar()\n",
    "ec.portfolio_performance(verbose=True);"
   ]
  },
  {
   "cell_type": "markdown",
   "metadata": {},
   "source": [
    "We have significantly reduced the CVaR, but at the cost of a large reduction in returns. We can use `efficient_risk` to maximise the return for a target risk. Let's say that a 2.5% CVaR is acceptable."
   ]
  },
  {
   "cell_type": "code",
   "execution_count": 69,
   "metadata": {},
   "outputs": [
    {
     "name": "stdout",
     "output_type": "stream",
     "text": [
      "Expected annual return: 22.2%\n",
      "Conditional Value at Risk: 2.50%\n"
     ]
    }
   ],
   "source": [
    "from pypfopt import EfficientCVaR\n",
    "\n",
    "ec = EfficientCVaR(mu, returns)\n",
    "ec.efficient_risk(target_cvar=0.025)\n",
    "ec.portfolio_performance(verbose=True);"
   ]
  },
  {
   "cell_type": "markdown",
   "metadata": {},
   "source": [
    "We now have similar returns to before (24.7% vs 25.8%), but with a lower tail risk (2.50% CVaR vs 3.35%). "
   ]
  },
  {
   "cell_type": "markdown",
   "metadata": {},
   "source": [
    "## Plotting - Unconstrained\n",
    "\n",
    "To plot the unconstrained efficient frontier, it is easiest to use the critical line algorithm. "
   ]
  },
  {
   "cell_type": "code",
   "execution_count": 70,
   "metadata": {},
   "outputs": [
    {
     "name": "stdout",
     "output_type": "stream",
     "text": [
      "Expected annual return: 23.4%\n",
      "Annual volatility: 17.1%\n",
      "Sharpe Ratio: 1.25\n"
     ]
    }
   ],
   "source": [
    "from pypfopt import CLA, plotting\n",
    "\n",
    "cla = CLA(mu, S)\n",
    "cla.max_sharpe()\n",
    "cla.portfolio_performance(verbose=True);"
   ]
  },
  {
   "cell_type": "code",
   "execution_count": 71,
   "metadata": {},
   "outputs": [
    {
     "data": {
      "image/png": "[encoded data removed]",
      "text/plain": [
       "<Figure size 432x288 with 1 Axes>"
      ]
     },
     "metadata": {
      "needs_background": "light"
     },
     "output_type": "display_data"
    }
   ],
   "source": [
    "ax = plotting.plot_efficient_frontier(cla, showfig=False)"
   ]
  },
  {
   "cell_type": "markdown",
   "metadata": {},
   "source": [
    "## Plotting - Constrained"
   ]
  },
  {
   "cell_type": "markdown",
   "metadata": {},
   "source": [
    "In this example, we will plot the efficient frontier corresponding to portfolios with a constraint on exposure to MSFT, AMZN, and TSLA (e.g maybe we want to avoid big tech)."
   ]
  },
  {
   "cell_type": "code",
   "execution_count": 72,
   "metadata": {},
   "outputs": [],
   "source": [
    "import cvxpy as cp\n",
    "\n",
    "mu = expected_returns.capm_return(prices)\n",
    "S = risk_models.CovarianceShrinkage(prices).ledoit_wolf()\n",
    "\n",
    "ef = EfficientFrontier(mu, S,)\n",
    "big_tech_indices = [t in {\"MSFT\", \"AMZN\", \"TSLA\"} for t in tickers]\n",
    "ef.add_constraint(lambda w: cp.sum(w[big_tech_indices]) <= 0.3)"
   ]
  },
  {
   "cell_type": "markdown",
   "metadata": {},
   "source": [
    "As per the docs, *before* we call any optimization function, we should pass this to the plotting module:"
   ]
  },
  {
   "cell_type": "code",
   "execution_count": 73,
   "metadata": {},
   "outputs": [
    {
     "ename": "ValueError",
     "evalue": "The minimum volatility is 0.145. Please use a higher target_volatility",
     "output_type": "error",
     "traceback": [
      "\u001b[1;31m-------------------------------------------------------------------------\u001b[0m",
      "\u001b[1;31mValueError\u001b[0m                              Traceback (most recent call last)",
      "\u001b[1;32m<ipython-input-73-1b40a5245129>\u001b[0m in \u001b[0;36m<module>\u001b[1;34m\u001b[0m\n\u001b[0;32m      1\u001b[0m ax = plotting.plot_efficient_frontier(ef, ef_param=\"risk\", \n\u001b[0;32m      2\u001b[0m                                       \u001b[0mef_param_range\u001b[0m\u001b[1;33m=\u001b[0m\u001b[0mnp\u001b[0m\u001b[1;33m.\u001b[0m\u001b[0mlinspace\u001b[0m\u001b[1;33m(\u001b[0m\u001b[1;36m0.12\u001b[0m\u001b[1;33m,\u001b[0m \u001b[1;36m0.4\u001b[0m\u001b[1;33m,\u001b[0m \u001b[1;36m50\u001b[0m\u001b[1;33m)\u001b[0m\u001b[1;33m,\u001b[0m\u001b[1;33m\u001b[0m\u001b[1;33m\u001b[0m\u001b[0m\n\u001b[1;32m----> 3\u001b[1;33m                                       showfig=False);\n\u001b[0m",
      "\u001b[1;32m~\\.conda\\envs\\python3_7_env\\lib\\site-packages\\pypfopt\\plotting.py\u001b[0m in \u001b[0;36mplot_efficient_frontier\u001b[1;34m(opt, ef_param, ef_param_range, points, ax, show_assets, **kwargs)\u001b[0m\n\u001b[0;32m    242\u001b[0m             \u001b[0mef_param_range\u001b[0m \u001b[1;33m=\u001b[0m \u001b[0m_ef_default_returns_range\u001b[0m\u001b[1;33m(\u001b[0m\u001b[0mopt\u001b[0m\u001b[1;33m,\u001b[0m \u001b[0mpoints\u001b[0m\u001b[1;33m)\u001b[0m\u001b[1;33m\u001b[0m\u001b[1;33m\u001b[0m\u001b[0m\n\u001b[0;32m    243\u001b[0m \u001b[1;33m\u001b[0m\u001b[0m\n\u001b[1;32m--> 244\u001b[1;33m         \u001b[0max\u001b[0m \u001b[1;33m=\u001b[0m \u001b[0m_plot_ef\u001b[0m\u001b[1;33m(\u001b[0m\u001b[0mopt\u001b[0m\u001b[1;33m,\u001b[0m \u001b[0mef_param\u001b[0m\u001b[1;33m,\u001b[0m \u001b[0mef_param_range\u001b[0m\u001b[1;33m,\u001b[0m \u001b[0max\u001b[0m\u001b[1;33m=\u001b[0m\u001b[0max\u001b[0m\u001b[1;33m,\u001b[0m \u001b[0mshow_assets\u001b[0m\u001b[1;33m=\u001b[0m\u001b[0mshow_assets\u001b[0m\u001b[1;33m)\u001b[0m\u001b[1;33m\u001b[0m\u001b[1;33m\u001b[0m\u001b[0m\n\u001b[0m\u001b[0;32m    245\u001b[0m     \u001b[1;32melse\u001b[0m\u001b[1;33m:\u001b[0m\u001b[1;33m\u001b[0m\u001b[1;33m\u001b[0m\u001b[0m\n\u001b[0;32m    246\u001b[0m         \u001b[1;32mraise\u001b[0m \u001b[0mNotImplementedError\u001b[0m\u001b[1;33m(\u001b[0m\u001b[1;34m\"Please pass EfficientFrontier or CLA object\"\u001b[0m\u001b[1;33m)\u001b[0m\u001b[1;33m\u001b[0m\u001b[1;33m\u001b[0m\u001b[0m\n",
      "\u001b[1;32m~\\.conda\\envs\\python3_7_env\\lib\\site-packages\\pypfopt\\plotting.py\u001b[0m in \u001b[0;36m_plot_ef\u001b[1;34m(ef, ef_param, ef_param_range, ax, show_assets)\u001b[0m\n\u001b[0;32m    175\u001b[0m                 \u001b[0mef_i\u001b[0m\u001b[1;33m.\u001b[0m\u001b[0mmax_quadratic_utility\u001b[0m\u001b[1;33m(\u001b[0m\u001b[0mparam_value\u001b[0m\u001b[1;33m)\u001b[0m\u001b[1;33m\u001b[0m\u001b[1;33m\u001b[0m\u001b[0m\n\u001b[0;32m    176\u001b[0m             \u001b[1;32melif\u001b[0m \u001b[0mef_param\u001b[0m \u001b[1;33m==\u001b[0m \u001b[1;34m\"risk\"\u001b[0m\u001b[1;33m:\u001b[0m\u001b[1;33m\u001b[0m\u001b[1;33m\u001b[0m\u001b[0m\n\u001b[1;32m--> 177\u001b[1;33m                 \u001b[0mef_i\u001b[0m\u001b[1;33m.\u001b[0m\u001b[0mefficient_risk\u001b[0m\u001b[1;33m(\u001b[0m\u001b[0mparam_value\u001b[0m\u001b[1;33m)\u001b[0m\u001b[1;33m\u001b[0m\u001b[1;33m\u001b[0m\u001b[0m\n\u001b[0m\u001b[0;32m    178\u001b[0m             \u001b[1;32melif\u001b[0m \u001b[0mef_param\u001b[0m \u001b[1;33m==\u001b[0m \u001b[1;34m\"return\"\u001b[0m\u001b[1;33m:\u001b[0m\u001b[1;33m\u001b[0m\u001b[1;33m\u001b[0m\u001b[0m\n\u001b[0;32m    179\u001b[0m                 \u001b[0mef_i\u001b[0m\u001b[1;33m.\u001b[0m\u001b[0mefficient_return\u001b[0m\u001b[1;33m(\u001b[0m\u001b[0mparam_value\u001b[0m\u001b[1;33m)\u001b[0m\u001b[1;33m\u001b[0m\u001b[1;33m\u001b[0m\u001b[0m\n",
      "\u001b[1;32m~\\.conda\\envs\\python3_7_env\\lib\\site-packages\\pypfopt\\efficient_frontier\\efficient_frontier.py\u001b[0m in \u001b[0;36mefficient_risk\u001b[1;34m(self, target_volatility, market_neutral)\u001b[0m\n\u001b[0;32m    334\u001b[0m             raise ValueError(\n\u001b[0;32m    335\u001b[0m                 \"The minimum volatility is {:.3f}. Please use a higher target_volatility\".format(\n\u001b[1;32m--> 336\u001b[1;33m                     \u001b[0mglobal_min_volatility\u001b[0m\u001b[1;33m\u001b[0m\u001b[1;33m\u001b[0m\u001b[0m\n\u001b[0m\u001b[0;32m    337\u001b[0m                 )\n\u001b[0;32m    338\u001b[0m             )\n",
      "\u001b[1;31mValueError\u001b[0m: The minimum volatility is 0.145. Please use a higher target_volatility"
     ]
    },
    {
     "data": {
      "image/png": "[encoded data removed]",
      "text/plain": [
       "<Figure size 432x288 with 1 Axes>"
      ]
     },
     "metadata": {
      "needs_background": "light"
     },
     "output_type": "display_data"
    }
   ],
   "source": [
    "ax = plotting.plot_efficient_frontier(ef, ef_param=\"risk\", \n",
    "                                      ef_param_range=np.linspace(0.12, 0.4, 50), \n",
    "                                      showfig=False);"
   ]
  },
  {
   "cell_type": "markdown",
   "metadata": {},
   "source": [
    "## Complex plots\n",
    "\n",
    "The `plotting` module allows you to pass in an `ax`, on top of which the plots are added. This allows you to build complex plots. \n",
    "\n",
    "In this example, we will plot the efficient frontier as well as 10,000 simulated portfolios. \n",
    "\n",
    "To generate the simulated portfolios, we will sample random weights from the Dirichlet distribution (these are already normalised):"
   ]
  },
  {
   "cell_type": "code",
   "execution_count": 74,
   "metadata": {},
   "outputs": [
    {
     "name": "stdout",
     "output_type": "stream",
     "text": [
      "Sample portfolio returns: [0.26659087 0.24777495 0.21315966 ... 0.2565663  0.25774904 0.23003672]\n",
      "Sample portfolio volatilities: 0       0.205694\n",
      "1       0.192147\n",
      "2       0.164576\n",
      "3       0.183009\n",
      "4       0.185235\n",
      "          ...   \n",
      "9995    0.175278\n",
      "9996    0.180587\n",
      "9997    0.192217\n",
      "9998    0.197211\n",
      "9999    0.173382\n",
      "Length: 10000, dtype: float64\n"
     ]
    }
   ],
   "source": [
    "n_samples = 10000\n",
    "w = np.random.dirichlet(np.ones(len(mu)), n_samples)\n",
    "rets = w.dot(mu)\n",
    "stds = np.sqrt((w.T * (S @ w.T)).sum(axis=0))\n",
    "sharpes = rets / stds\n",
    "\n",
    "print(\"Sample portfolio returns:\", rets)\n",
    "print(\"Sample portfolio volatilities:\", stds)"
   ]
  },
  {
   "cell_type": "markdown",
   "metadata": {},
   "source": [
    "Note that the above code is equivalent to generating samples via a for loop (just more efficient)"
   ]
  },
  {
   "cell_type": "code",
   "execution_count": 52,
   "metadata": {},
   "outputs": [],
   "source": [
    "# mus = []\n",
    "# stds = []\n",
    "# sharpes = []\n",
    "# for _ in range(10000):\n",
    "#     w = np.random.dirichlet(np.ones(len(mu)))\n",
    "#     # w = np.random.rand(len(mu))\n",
    "#     # w /= w.sum()\n",
    "#     ret = mu.dot(w)\n",
    "#     std = np.sqrt(w.dot(S @ w))\n",
    "#     mus.append(ret)\n",
    "#     stds.append(std)\n",
    "#     sharpes.append(ret / std)"
   ]
  },
  {
   "cell_type": "code",
   "execution_count": 76,
   "metadata": {},
   "outputs": [
    {
     "data": {
      "image/png": "[encoded data removed]",
      "text/plain": [
       "<Figure size 432x288 with 1 Axes>"
      ]
     },
     "metadata": {
      "needs_background": "light"
     },
     "output_type": "display_data"
    }
   ],
   "source": [
    "# Plot efficient frontier with Monte Carlo sim\n",
    "ef = EfficientFrontier(mu, S)\n",
    "\n",
    "fig, ax = plt.subplots()\n",
    "plotting.plot_efficient_frontier(ef, ax=ax, show_assets=False)\n",
    "\n",
    "# Find and plot the tangency portfolio\n",
    "ef.max_sharpe()\n",
    "ret_tangent, std_tangent, _ = ef.portfolio_performance()\n",
    "ax.scatter(std_tangent, ret_tangent, marker=\"*\", s=100, c=\"r\", label=\"Max Sharpe\")\n",
    "\n",
    "# Plot random portfolios\n",
    "ax.scatter(stds, rets, marker=\".\", c=sharpes, cmap=\"viridis_r\")\n",
    "\n",
    "# Format\n",
    "ax.set_title(\"Efficient Frontier with random portfolios\")\n",
    "ax.legend()\n",
    "plt.tight_layout()\n",
    "plt.show()\n"
   ]
  },
  {
   "cell_type": "code",
   "execution_count": null,
   "metadata": {},
   "outputs": [],
   "source": []
  }
 ],
 "metadata": {
  "kernelspec": {
   "display_name": "Python 3",
   "language": "python",
   "name": "python3"
  },
  "language_info": {
   "codemirror_mode": {
    "name": "ipython",
    "version": 3
   },
   "file_extension": ".py",
   "mimetype": "text/x-python",
   "name": "python",
   "nbconvert_exporter": "python",
   "pygments_lexer": "ipython3",
   "version": "3.7.10"
  }
 },
 "nbformat": 4,
 "nbformat_minor": 4
}
