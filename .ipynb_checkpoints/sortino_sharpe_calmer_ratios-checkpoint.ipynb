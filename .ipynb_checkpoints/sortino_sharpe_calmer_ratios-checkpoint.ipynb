{
 "cells": [
  {
   "cell_type": "code",
   "execution_count": 1,
   "metadata": {},
   "outputs": [],
   "source": [
    "import pandas as pd\n",
    "import pandas_datareader.data as web\n",
    "import datetime as dt\n",
    "import numpy as np\n",
    "import matplotlib.pyplot as plt\n"
   ]
  },
  {
   "cell_type": "code",
   "execution_count": 2,
   "metadata": {},
   "outputs": [],
   "source": [
    "\n",
    "def get_stock(tickers,start,end):\n",
    "    stocks = web.DataReader(tickers,\n",
    "                        'yahoo', start, end)['Adj Close']\n",
    "    return stocks\n"
   ]
  },
  {
   "cell_type": "code",
   "execution_count": 3,
   "metadata": {},
   "outputs": [],
   "source": [
    "start = dt.datetime(2013, 1, 1)\n",
    "end = dt.datetime(2021, 5, 1)\n",
    "\n",
    "tickers = ['AAPL', 'AMZN', 'MSFT', 'GOOGL','FB','GOOG','PG','JPM','TSLA','JNJ']\n",
    "df=get_stock(tickers,start,end)"
   ]
  },
  {
   "cell_type": "code",
   "execution_count": 4,
   "metadata": {},
   "outputs": [
    {
     "data": {
      "text/html": [
       "<div>\n",
       "<style scoped>\n",
       "    .dataframe tbody tr th:only-of-type {\n",
       "        vertical-align: middle;\n",
       "    }\n",
       "\n",
       "    .dataframe tbody tr th {\n",
       "        vertical-align: top;\n",
       "    }\n",
       "\n",
       "    .dataframe thead th {\n",
       "        text-align: right;\n",
       "    }\n",
       "</style>\n",
       "<table border=\"1\" class=\"dataframe\">\n",
       "  <thead>\n",
       "    <tr style=\"text-align: right;\">\n",
       "      <th>Symbols</th>\n",
       "      <th>AAPL</th>\n",
       "      <th>AMZN</th>\n",
       "      <th>MSFT</th>\n",
       "      <th>GOOGL</th>\n",
       "      <th>FB</th>\n",
       "      <th>GOOG</th>\n",
       "      <th>PG</th>\n",
       "      <th>JPM</th>\n",
       "      <th>TSLA</th>\n",
       "      <th>JNJ</th>\n",
       "    </tr>\n",
       "    <tr>\n",
       "      <th>Date</th>\n",
       "      <th></th>\n",
       "      <th></th>\n",
       "      <th></th>\n",
       "      <th></th>\n",
       "      <th></th>\n",
       "      <th></th>\n",
       "      <th></th>\n",
       "      <th></th>\n",
       "      <th></th>\n",
       "      <th></th>\n",
       "    </tr>\n",
       "  </thead>\n",
       "  <tbody>\n",
       "    <tr>\n",
       "      <th>2013-01-02</th>\n",
       "      <td>17.010899</td>\n",
       "      <td>257.309998</td>\n",
       "      <td>23.074232</td>\n",
       "      <td>361.987000</td>\n",
       "      <td>28.000000</td>\n",
       "      <td>360.274597</td>\n",
       "      <td>53.704983</td>\n",
       "      <td>35.562012</td>\n",
       "      <td>7.072</td>\n",
       "      <td>56.070381</td>\n",
       "    </tr>\n",
       "    <tr>\n",
       "      <th>2013-01-03</th>\n",
       "      <td>16.796177</td>\n",
       "      <td>258.480011</td>\n",
       "      <td>22.765125</td>\n",
       "      <td>362.197205</td>\n",
       "      <td>27.770000</td>\n",
       "      <td>360.483826</td>\n",
       "      <td>53.364449</td>\n",
       "      <td>35.490330</td>\n",
       "      <td>6.954</td>\n",
       "      <td>55.991253</td>\n",
       "    </tr>\n",
       "    <tr>\n",
       "      <th>2013-01-04</th>\n",
       "      <td>16.328323</td>\n",
       "      <td>259.149994</td>\n",
       "      <td>22.339064</td>\n",
       "      <td>369.354340</td>\n",
       "      <td>28.760000</td>\n",
       "      <td>367.607117</td>\n",
       "      <td>53.472805</td>\n",
       "      <td>36.119392</td>\n",
       "      <td>6.880</td>\n",
       "      <td>56.632359</td>\n",
       "    </tr>\n",
       "    <tr>\n",
       "      <th>2013-01-07</th>\n",
       "      <td>16.232281</td>\n",
       "      <td>268.459991</td>\n",
       "      <td>22.297297</td>\n",
       "      <td>367.742737</td>\n",
       "      <td>29.420000</td>\n",
       "      <td>366.003143</td>\n",
       "      <td>53.109035</td>\n",
       "      <td>36.159210</td>\n",
       "      <td>6.868</td>\n",
       "      <td>56.513645</td>\n",
       "    </tr>\n",
       "    <tr>\n",
       "      <th>2013-01-08</th>\n",
       "      <td>16.275965</td>\n",
       "      <td>266.380005</td>\n",
       "      <td>22.180330</td>\n",
       "      <td>367.017029</td>\n",
       "      <td>29.059999</td>\n",
       "      <td>365.280823</td>\n",
       "      <td>53.023914</td>\n",
       "      <td>36.230877</td>\n",
       "      <td>6.736</td>\n",
       "      <td>56.521553</td>\n",
       "    </tr>\n",
       "  </tbody>\n",
       "</table>\n",
       "</div>"
      ],
      "text/plain": [
       "Symbols          AAPL        AMZN       MSFT       GOOGL         FB  \\\n",
       "Date                                                                  \n",
       "2013-01-02  17.010899  257.309998  23.074232  361.987000  28.000000   \n",
       "2013-01-03  16.796177  258.480011  22.765125  362.197205  27.770000   \n",
       "2013-01-04  16.328323  259.149994  22.339064  369.354340  28.760000   \n",
       "2013-01-07  16.232281  268.459991  22.297297  367.742737  29.420000   \n",
       "2013-01-08  16.275965  266.380005  22.180330  367.017029  29.059999   \n",
       "\n",
       "Symbols           GOOG         PG        JPM   TSLA        JNJ  \n",
       "Date                                                            \n",
       "2013-01-02  360.274597  53.704983  35.562012  7.072  56.070381  \n",
       "2013-01-03  360.483826  53.364449  35.490330  6.954  55.991253  \n",
       "2013-01-04  367.607117  53.472805  36.119392  6.880  56.632359  \n",
       "2013-01-07  366.003143  53.109035  36.159210  6.868  56.513645  \n",
       "2013-01-08  365.280823  53.023914  36.230877  6.736  56.521553  "
      ]
     },
     "execution_count": 4,
     "metadata": {},
     "output_type": "execute_result"
    }
   ],
   "source": [
    "df.head()"
   ]
  },
  {
   "cell_type": "code",
   "execution_count": 5,
   "metadata": {},
   "outputs": [],
   "source": [
    "def get_sharpe_ratio(my_series, num_days, risk_free):\n",
    "    mean = my_series.mean() * num_days -risk_free\n",
    "    sigma = my_series.std() * np.sqrt(num_days)\n",
    "    return mean / sigma"
   ]
  },
  {
   "cell_type": "code",
   "execution_count": 6,
   "metadata": {},
   "outputs": [
    {
     "data": {
      "text/plain": [
       "<matplotlib.axes._subplots.AxesSubplot at 0x190795b5f98>"
      ]
     },
     "execution_count": 6,
     "metadata": {},
     "output_type": "execute_result"
    },
    {
     "data": {
      "image/png": "[encoded data removed]",
      "text/plain": [
       "<Figure size 432x288 with 1 Axes>"
      ]
     },
     "metadata": {},
     "output_type": "display_data"
    }
   ],
   "source": [
    "num_days = 255 #255 trading days in a year\n",
    "risk_free =0.01 #assuming 1% risk free rate\n",
    "sharpe_ratio = df.apply(get_sharpe_ratio, args=(num_days,risk_free),axis=0)\n",
    "\n",
    "sharpe_ratio.plot.bar()"
   ]
  },
  {
   "cell_type": "code",
   "execution_count": 7,
   "metadata": {},
   "outputs": [],
   "source": [
    "def get_sortino_ratio(my_series,num_days,risk_free):\n",
    "    mean = my_series.mean() * num_days -risk_free\n",
    "    daily_change=my_series.pct_change()\n",
    "    std_neg=np.prod(daily_change+1)-1\n",
    "    std_neg = my_series.min().std()*np.sqrt(num_days)\n",
    "    return mean/std_neg\n"
   ]
  },
  {
   "cell_type": "code",
   "execution_count": 8,
   "metadata": {},
   "outputs": [
    {
     "data": {
      "text/plain": [
       "Symbols\n",
       "AAPL       4.815542\n",
       "AMZN     134.005150\n",
       "MSFT       9.696415\n",
       "GOOGL    105.081699\n",
       "FB        15.440676\n",
       "GOOG     104.119698\n",
       "PG         9.405556\n",
       "JPM        8.671518\n",
       "TSLA      11.689146\n",
       "JNJ       12.108310\n",
       "dtype: float64"
      ]
     },
     "execution_count": 8,
     "metadata": {},
     "output_type": "execute_result"
    }
   ],
   "source": [
    "get_sortino_ratio(df,num_days,risk_free)"
   ]
  },
  {
   "cell_type": "code",
   "execution_count": 9,
   "metadata": {},
   "outputs": [
    {
     "data": {
      "text/plain": [
       "<matplotlib.axes._subplots.AxesSubplot at 0x190796d06a0>"
      ]
     },
     "execution_count": 9,
     "metadata": {},
     "output_type": "execute_result"
    },
    {
     "data": {
      "image/png": "[encoded data removed]",
      "text/plain": [
       "<Figure size 432x288 with 1 Axes>"
      ]
     },
     "metadata": {},
     "output_type": "display_data"
    }
   ],
   "source": [
    "\n",
    "get_sortino_ratio(df,num_days,risk_free).plot.bar()"
   ]
  },
  {
   "cell_type": "code",
   "execution_count": 10,
   "metadata": {},
   "outputs": [],
   "source": [
    "sortinos=get_sortino_ratio(df,num_days,risk_free)"
   ]
  },
  {
   "cell_type": "code",
   "execution_count": 11,
   "metadata": {},
   "outputs": [
    {
     "data": {
      "text/plain": [
       "Text(0, 0.5, 'Max Drawdown')"
      ]
     },
     "execution_count": 11,
     "metadata": {},
     "output_type": "execute_result"
    },
    {
     "data": {
      "image/png": "[encoded data removed]",
      "text/plain": [
       "<Figure size 432x288 with 1 Axes>"
      ]
     },
     "metadata": {},
     "output_type": "display_data"
    }
   ],
   "source": [
    "def max_drawdown(my_series):\n",
    "    daily_change=df.pct_change()\n",
    "    comp_ret = (daily_change+1).cumprod()\n",
    "    peak = comp_ret.expanding(min_periods=1).max()\n",
    "    dd = (comp_ret/peak)-1\n",
    "    return dd.min()\n",
    "\n",
    "\n",
    "max_drawdowns = df.apply(max_drawdown,axis=0)\n",
    "max_drawdowns.plot.bar()\n",
    "plt.ylabel('Max Drawdown')"
   ]
  },
  {
   "cell_type": "code",
   "execution_count": 12,
   "metadata": {},
   "outputs": [
    {
     "data": {
      "text/html": [
       "<div>\n",
       "<style scoped>\n",
       "    .dataframe tbody tr th:only-of-type {\n",
       "        vertical-align: middle;\n",
       "    }\n",
       "\n",
       "    .dataframe tbody tr th {\n",
       "        vertical-align: top;\n",
       "    }\n",
       "\n",
       "    .dataframe thead th {\n",
       "        text-align: right;\n",
       "    }\n",
       "</style>\n",
       "<table border=\"1\" class=\"dataframe\">\n",
       "  <thead>\n",
       "    <tr style=\"text-align: right;\">\n",
       "      <th>Symbols</th>\n",
       "      <th>AAPL</th>\n",
       "      <th>AMZN</th>\n",
       "      <th>MSFT</th>\n",
       "      <th>GOOGL</th>\n",
       "      <th>FB</th>\n",
       "      <th>GOOG</th>\n",
       "      <th>PG</th>\n",
       "      <th>JPM</th>\n",
       "      <th>TSLA</th>\n",
       "      <th>JNJ</th>\n",
       "    </tr>\n",
       "    <tr>\n",
       "      <th>Symbols</th>\n",
       "      <th></th>\n",
       "      <th></th>\n",
       "      <th></th>\n",
       "      <th></th>\n",
       "      <th></th>\n",
       "      <th></th>\n",
       "      <th></th>\n",
       "      <th></th>\n",
       "      <th></th>\n",
       "      <th></th>\n",
       "    </tr>\n",
       "  </thead>\n",
       "  <tbody>\n",
       "    <tr>\n",
       "      <th>AAPL</th>\n",
       "      <td>-0.385159</td>\n",
       "      <td>-0.385159</td>\n",
       "      <td>-0.385159</td>\n",
       "      <td>-0.385159</td>\n",
       "      <td>-0.385159</td>\n",
       "      <td>-0.385159</td>\n",
       "      <td>-0.385159</td>\n",
       "      <td>-0.385159</td>\n",
       "      <td>-0.385159</td>\n",
       "      <td>-0.385159</td>\n",
       "    </tr>\n",
       "    <tr>\n",
       "      <th>AMZN</th>\n",
       "      <td>-0.341038</td>\n",
       "      <td>-0.341038</td>\n",
       "      <td>-0.341038</td>\n",
       "      <td>-0.341038</td>\n",
       "      <td>-0.341038</td>\n",
       "      <td>-0.341038</td>\n",
       "      <td>-0.341038</td>\n",
       "      <td>-0.341038</td>\n",
       "      <td>-0.341038</td>\n",
       "      <td>-0.341038</td>\n",
       "    </tr>\n",
       "    <tr>\n",
       "      <th>MSFT</th>\n",
       "      <td>-0.280393</td>\n",
       "      <td>-0.280393</td>\n",
       "      <td>-0.280393</td>\n",
       "      <td>-0.280393</td>\n",
       "      <td>-0.280393</td>\n",
       "      <td>-0.280393</td>\n",
       "      <td>-0.280393</td>\n",
       "      <td>-0.280393</td>\n",
       "      <td>-0.280393</td>\n",
       "      <td>-0.280393</td>\n",
       "    </tr>\n",
       "    <tr>\n",
       "      <th>GOOGL</th>\n",
       "      <td>-0.308708</td>\n",
       "      <td>-0.308708</td>\n",
       "      <td>-0.308708</td>\n",
       "      <td>-0.308708</td>\n",
       "      <td>-0.308708</td>\n",
       "      <td>-0.308708</td>\n",
       "      <td>-0.308708</td>\n",
       "      <td>-0.308708</td>\n",
       "      <td>-0.308708</td>\n",
       "      <td>-0.308708</td>\n",
       "    </tr>\n",
       "    <tr>\n",
       "      <th>FB</th>\n",
       "      <td>-0.429609</td>\n",
       "      <td>-0.429609</td>\n",
       "      <td>-0.429609</td>\n",
       "      <td>-0.429609</td>\n",
       "      <td>-0.429609</td>\n",
       "      <td>-0.429609</td>\n",
       "      <td>-0.429609</td>\n",
       "      <td>-0.429609</td>\n",
       "      <td>-0.429609</td>\n",
       "      <td>-0.429609</td>\n",
       "    </tr>\n",
       "    <tr>\n",
       "      <th>GOOG</th>\n",
       "      <td>-0.307901</td>\n",
       "      <td>-0.307901</td>\n",
       "      <td>-0.307901</td>\n",
       "      <td>-0.307901</td>\n",
       "      <td>-0.307901</td>\n",
       "      <td>-0.307901</td>\n",
       "      <td>-0.307901</td>\n",
       "      <td>-0.307901</td>\n",
       "      <td>-0.307901</td>\n",
       "      <td>-0.307901</td>\n",
       "    </tr>\n",
       "    <tr>\n",
       "      <th>PG</th>\n",
       "      <td>-0.254642</td>\n",
       "      <td>-0.254642</td>\n",
       "      <td>-0.254642</td>\n",
       "      <td>-0.254642</td>\n",
       "      <td>-0.254642</td>\n",
       "      <td>-0.254642</td>\n",
       "      <td>-0.254642</td>\n",
       "      <td>-0.254642</td>\n",
       "      <td>-0.254642</td>\n",
       "      <td>-0.254642</td>\n",
       "    </tr>\n",
       "    <tr>\n",
       "      <th>JPM</th>\n",
       "      <td>-0.436265</td>\n",
       "      <td>-0.436265</td>\n",
       "      <td>-0.436265</td>\n",
       "      <td>-0.436265</td>\n",
       "      <td>-0.436265</td>\n",
       "      <td>-0.436265</td>\n",
       "      <td>-0.436265</td>\n",
       "      <td>-0.436265</td>\n",
       "      <td>-0.436265</td>\n",
       "      <td>-0.436265</td>\n",
       "    </tr>\n",
       "    <tr>\n",
       "      <th>TSLA</th>\n",
       "      <td>-0.606265</td>\n",
       "      <td>-0.606265</td>\n",
       "      <td>-0.606265</td>\n",
       "      <td>-0.606265</td>\n",
       "      <td>-0.606265</td>\n",
       "      <td>-0.606265</td>\n",
       "      <td>-0.606265</td>\n",
       "      <td>-0.606265</td>\n",
       "      <td>-0.606265</td>\n",
       "      <td>-0.606265</td>\n",
       "    </tr>\n",
       "    <tr>\n",
       "      <th>JNJ</th>\n",
       "      <td>-0.273662</td>\n",
       "      <td>-0.273662</td>\n",
       "      <td>-0.273662</td>\n",
       "      <td>-0.273662</td>\n",
       "      <td>-0.273662</td>\n",
       "      <td>-0.273662</td>\n",
       "      <td>-0.273662</td>\n",
       "      <td>-0.273662</td>\n",
       "      <td>-0.273662</td>\n",
       "      <td>-0.273662</td>\n",
       "    </tr>\n",
       "  </tbody>\n",
       "</table>\n",
       "</div>"
      ],
      "text/plain": [
       "Symbols      AAPL      AMZN      MSFT     GOOGL        FB      GOOG        PG  \\\n",
       "Symbols                                                                         \n",
       "AAPL    -0.385159 -0.385159 -0.385159 -0.385159 -0.385159 -0.385159 -0.385159   \n",
       "AMZN    -0.341038 -0.341038 -0.341038 -0.341038 -0.341038 -0.341038 -0.341038   \n",
       "MSFT    -0.280393 -0.280393 -0.280393 -0.280393 -0.280393 -0.280393 -0.280393   \n",
       "GOOGL   -0.308708 -0.308708 -0.308708 -0.308708 -0.308708 -0.308708 -0.308708   \n",
       "FB      -0.429609 -0.429609 -0.429609 -0.429609 -0.429609 -0.429609 -0.429609   \n",
       "GOOG    -0.307901 -0.307901 -0.307901 -0.307901 -0.307901 -0.307901 -0.307901   \n",
       "PG      -0.254642 -0.254642 -0.254642 -0.254642 -0.254642 -0.254642 -0.254642   \n",
       "JPM     -0.436265 -0.436265 -0.436265 -0.436265 -0.436265 -0.436265 -0.436265   \n",
       "TSLA    -0.606265 -0.606265 -0.606265 -0.606265 -0.606265 -0.606265 -0.606265   \n",
       "JNJ     -0.273662 -0.273662 -0.273662 -0.273662 -0.273662 -0.273662 -0.273662   \n",
       "\n",
       "Symbols       JPM      TSLA       JNJ  \n",
       "Symbols                                \n",
       "AAPL    -0.385159 -0.385159 -0.385159  \n",
       "AMZN    -0.341038 -0.341038 -0.341038  \n",
       "MSFT    -0.280393 -0.280393 -0.280393  \n",
       "GOOGL   -0.308708 -0.308708 -0.308708  \n",
       "FB      -0.429609 -0.429609 -0.429609  \n",
       "GOOG    -0.307901 -0.307901 -0.307901  \n",
       "PG      -0.254642 -0.254642 -0.254642  \n",
       "JPM     -0.436265 -0.436265 -0.436265  \n",
       "TSLA    -0.606265 -0.606265 -0.606265  \n",
       "JNJ     -0.273662 -0.273662 -0.273662  "
      ]
     },
     "execution_count": 12,
     "metadata": {},
     "output_type": "execute_result"
    }
   ],
   "source": [
    "max_drawdowns"
   ]
  },
  {
   "cell_type": "code",
   "execution_count": 13,
   "metadata": {},
   "outputs": [
    {
     "data": {
      "text/plain": [
       "Text(0, 0.5, 'Calmar ratio')"
      ]
     },
     "execution_count": 13,
     "metadata": {},
     "output_type": "execute_result"
    },
    {
     "data": {
      "image/png": "[encoded data removed]",
      "text/plain": [
       "<Figure size 432x288 with 1 Axes>"
      ]
     },
     "metadata": {},
     "output_type": "display_data"
    }
   ],
   "source": [
    "#calmer ratio\n",
    "calmars = df.mean()*255/abs(max_drawdowns)\n",
    "\n",
    "calmars.plot.bar()\n",
    "plt.ylabel('Calmar ratio')"
   ]
  },
  {
   "cell_type": "code",
   "execution_count": 14,
   "metadata": {},
   "outputs": [
    {
     "data": {
      "text/html": [
       "<div>\n",
       "<style scoped>\n",
       "    .dataframe tbody tr th:only-of-type {\n",
       "        vertical-align: middle;\n",
       "    }\n",
       "\n",
       "    .dataframe tbody tr th {\n",
       "        vertical-align: top;\n",
       "    }\n",
       "\n",
       "    .dataframe thead th {\n",
       "        text-align: right;\n",
       "    }\n",
       "</style>\n",
       "<table border=\"1\" class=\"dataframe\">\n",
       "  <thead>\n",
       "    <tr style=\"text-align: right;\">\n",
       "      <th>Symbols</th>\n",
       "      <th>AAPL</th>\n",
       "      <th>AMZN</th>\n",
       "      <th>MSFT</th>\n",
       "      <th>GOOGL</th>\n",
       "      <th>FB</th>\n",
       "      <th>GOOG</th>\n",
       "      <th>PG</th>\n",
       "      <th>JPM</th>\n",
       "      <th>TSLA</th>\n",
       "      <th>JNJ</th>\n",
       "    </tr>\n",
       "    <tr>\n",
       "      <th>Symbols</th>\n",
       "      <th></th>\n",
       "      <th></th>\n",
       "      <th></th>\n",
       "      <th></th>\n",
       "      <th></th>\n",
       "      <th></th>\n",
       "      <th></th>\n",
       "      <th></th>\n",
       "      <th></th>\n",
       "      <th></th>\n",
       "    </tr>\n",
       "  </thead>\n",
       "  <tbody>\n",
       "    <tr>\n",
       "      <th>AAPL</th>\n",
       "      <td>28405.553562</td>\n",
       "      <td>7.904586e+05</td>\n",
       "      <td>57196.444229</td>\n",
       "      <td>619847.360306</td>\n",
       "      <td>91080.222461</td>\n",
       "      <td>614172.787496</td>\n",
       "      <td>55480.751080</td>\n",
       "      <td>51150.865711</td>\n",
       "      <td>68951.005284</td>\n",
       "      <td>71423.532792</td>\n",
       "    </tr>\n",
       "    <tr>\n",
       "      <th>AMZN</th>\n",
       "      <td>32080.484898</td>\n",
       "      <td>8.927232e+05</td>\n",
       "      <td>64596.159384</td>\n",
       "      <td>700039.301739</td>\n",
       "      <td>102863.607102</td>\n",
       "      <td>693630.588495</td>\n",
       "      <td>62658.500678</td>\n",
       "      <td>57768.442053</td>\n",
       "      <td>77871.451400</td>\n",
       "      <td>80663.858920</td>\n",
       "    </tr>\n",
       "    <tr>\n",
       "      <th>MSFT</th>\n",
       "      <td>39019.056971</td>\n",
       "      <td>1.085807e+06</td>\n",
       "      <td>78567.429113</td>\n",
       "      <td>851448.270918</td>\n",
       "      <td>125111.604719</td>\n",
       "      <td>843653.440260</td>\n",
       "      <td>76210.681212</td>\n",
       "      <td>70262.969490</td>\n",
       "      <td>94713.986034</td>\n",
       "      <td>98110.353279</td>\n",
       "    </tr>\n",
       "    <tr>\n",
       "      <th>GOOGL</th>\n",
       "      <td>35440.120775</td>\n",
       "      <td>9.862138e+05</td>\n",
       "      <td>71361.006464</td>\n",
       "      <td>773351.072459</td>\n",
       "      <td>113636.021109</td>\n",
       "      <td>766271.205303</td>\n",
       "      <td>69220.426021</td>\n",
       "      <td>63818.254926</td>\n",
       "      <td>86026.556373</td>\n",
       "      <td>89111.399388</td>\n",
       "    </tr>\n",
       "    <tr>\n",
       "      <th>FB</th>\n",
       "      <td>25466.536761</td>\n",
       "      <td>7.086728e+05</td>\n",
       "      <td>51278.541232</td>\n",
       "      <td>555714.063196</td>\n",
       "      <td>81656.491165</td>\n",
       "      <td>550626.617295</td>\n",
       "      <td>49740.364461</td>\n",
       "      <td>45858.476200</td>\n",
       "      <td>61816.901647</td>\n",
       "      <td>64033.605945</td>\n",
       "    </tr>\n",
       "    <tr>\n",
       "      <th>GOOG</th>\n",
       "      <td>35532.995994</td>\n",
       "      <td>9.887983e+05</td>\n",
       "      <td>71548.016807</td>\n",
       "      <td>775377.734589</td>\n",
       "      <td>113933.818356</td>\n",
       "      <td>768279.313765</td>\n",
       "      <td>69401.826709</td>\n",
       "      <td>63985.498555</td>\n",
       "      <td>86251.999603</td>\n",
       "      <td>89344.926831</td>\n",
       "    </tr>\n",
       "    <tr>\n",
       "      <th>PG</th>\n",
       "      <td>42964.937433</td>\n",
       "      <td>1.195611e+06</td>\n",
       "      <td>86512.718096</td>\n",
       "      <td>937552.686489</td>\n",
       "      <td>137763.766893</td>\n",
       "      <td>928969.587935</td>\n",
       "      <td>83917.639333</td>\n",
       "      <td>77368.453324</td>\n",
       "      <td>104292.127999</td>\n",
       "      <td>108031.959699</td>\n",
       "    </tr>\n",
       "    <tr>\n",
       "      <th>JPM</th>\n",
       "      <td>25077.999515</td>\n",
       "      <td>6.978608e+05</td>\n",
       "      <td>50496.196016</td>\n",
       "      <td>547235.658230</td>\n",
       "      <td>80410.676373</td>\n",
       "      <td>542225.830351</td>\n",
       "      <td>48981.486864</td>\n",
       "      <td>45158.823702</td>\n",
       "      <td>60873.775027</td>\n",
       "      <td>63056.659564</td>\n",
       "    </tr>\n",
       "    <tr>\n",
       "      <th>TSLA</th>\n",
       "      <td>18045.989912</td>\n",
       "      <td>5.021768e+05</td>\n",
       "      <td>36336.783696</td>\n",
       "      <td>393787.756558</td>\n",
       "      <td>57863.078504</td>\n",
       "      <td>390182.712092</td>\n",
       "      <td>35246.807358</td>\n",
       "      <td>32496.040065</td>\n",
       "      <td>43804.432223</td>\n",
       "      <td>45375.223877</td>\n",
       "    </tr>\n",
       "    <tr>\n",
       "      <th>JNJ</th>\n",
       "      <td>39978.661629</td>\n",
       "      <td>1.112511e+06</td>\n",
       "      <td>80499.655999</td>\n",
       "      <td>872388.134422</td>\n",
       "      <td>128188.503241</td>\n",
       "      <td>864401.603699</td>\n",
       "      <td>78084.948054</td>\n",
       "      <td>71990.962888</td>\n",
       "      <td>97043.308916</td>\n",
       "      <td>100523.203802</td>\n",
       "    </tr>\n",
       "  </tbody>\n",
       "</table>\n",
       "</div>"
      ],
      "text/plain": [
       "Symbols          AAPL          AMZN          MSFT          GOOGL  \\\n",
       "Symbols                                                            \n",
       "AAPL     28405.553562  7.904586e+05  57196.444229  619847.360306   \n",
       "AMZN     32080.484898  8.927232e+05  64596.159384  700039.301739   \n",
       "MSFT     39019.056971  1.085807e+06  78567.429113  851448.270918   \n",
       "GOOGL    35440.120775  9.862138e+05  71361.006464  773351.072459   \n",
       "FB       25466.536761  7.086728e+05  51278.541232  555714.063196   \n",
       "GOOG     35532.995994  9.887983e+05  71548.016807  775377.734589   \n",
       "PG       42964.937433  1.195611e+06  86512.718096  937552.686489   \n",
       "JPM      25077.999515  6.978608e+05  50496.196016  547235.658230   \n",
       "TSLA     18045.989912  5.021768e+05  36336.783696  393787.756558   \n",
       "JNJ      39978.661629  1.112511e+06  80499.655999  872388.134422   \n",
       "\n",
       "Symbols             FB           GOOG            PG           JPM  \\\n",
       "Symbols                                                             \n",
       "AAPL      91080.222461  614172.787496  55480.751080  51150.865711   \n",
       "AMZN     102863.607102  693630.588495  62658.500678  57768.442053   \n",
       "MSFT     125111.604719  843653.440260  76210.681212  70262.969490   \n",
       "GOOGL    113636.021109  766271.205303  69220.426021  63818.254926   \n",
       "FB        81656.491165  550626.617295  49740.364461  45858.476200   \n",
       "GOOG     113933.818356  768279.313765  69401.826709  63985.498555   \n",
       "PG       137763.766893  928969.587935  83917.639333  77368.453324   \n",
       "JPM       80410.676373  542225.830351  48981.486864  45158.823702   \n",
       "TSLA      57863.078504  390182.712092  35246.807358  32496.040065   \n",
       "JNJ      128188.503241  864401.603699  78084.948054  71990.962888   \n",
       "\n",
       "Symbols           TSLA            JNJ  \n",
       "Symbols                                \n",
       "AAPL      68951.005284   71423.532792  \n",
       "AMZN      77871.451400   80663.858920  \n",
       "MSFT      94713.986034   98110.353279  \n",
       "GOOGL     86026.556373   89111.399388  \n",
       "FB        61816.901647   64033.605945  \n",
       "GOOG      86251.999603   89344.926831  \n",
       "PG       104292.127999  108031.959699  \n",
       "JPM       60873.775027   63056.659564  \n",
       "TSLA      43804.432223   45375.223877  \n",
       "JNJ       97043.308916  100523.203802  "
      ]
     },
     "execution_count": 14,
     "metadata": {},
     "output_type": "execute_result"
    }
   ],
   "source": [
    "calmars"
   ]
  },
  {
   "cell_type": "code",
   "execution_count": 34,
   "metadata": {},
   "outputs": [
    {
     "data": {
      "text/plain": [
       "(10,)"
      ]
     },
     "execution_count": 34,
     "metadata": {},
     "output_type": "execute_result"
    }
   ],
   "source": [
    "sortinos.shape"
   ]
  },
  {
   "cell_type": "code",
   "execution_count": 35,
   "metadata": {},
   "outputs": [
    {
     "data": {
      "text/plain": [
       "(10,)"
      ]
     },
     "execution_count": 35,
     "metadata": {},
     "output_type": "execute_result"
    }
   ],
   "source": [
    "sharpe_ratio.shape"
   ]
  },
  {
   "cell_type": "code",
   "execution_count": 37,
   "metadata": {},
   "outputs": [
    {
     "data": {
      "text/plain": [
       "10"
      ]
     },
     "execution_count": 37,
     "metadata": {},
     "output_type": "execute_result"
    }
   ],
   "source": [
    "max_drawdowns.shape[0]"
   ]
  },
  {
   "cell_type": "code",
   "execution_count": 38,
   "metadata": {},
   "outputs": [
    {
     "data": {
      "text/plain": [
       "(10, 10)"
      ]
     },
     "execution_count": 38,
     "metadata": {},
     "output_type": "execute_result"
    }
   ],
   "source": [
    "calmars.shape"
   ]
  },
  {
   "cell_type": "code",
   "execution_count": 16,
   "metadata": {},
   "outputs": [],
   "source": [
    "conDf=pd.concat([sortinos,sharpe_ratio],axis=1)"
   ]
  },
  {
   "cell_type": "code",
   "execution_count": 17,
   "metadata": {},
   "outputs": [
    {
     "data": {
      "text/html": [
       "<div>\n",
       "<style scoped>\n",
       "    .dataframe tbody tr th:only-of-type {\n",
       "        vertical-align: middle;\n",
       "    }\n",
       "\n",
       "    .dataframe tbody tr th {\n",
       "        vertical-align: top;\n",
       "    }\n",
       "\n",
       "    .dataframe thead th {\n",
       "        text-align: right;\n",
       "    }\n",
       "</style>\n",
       "<table border=\"1\" class=\"dataframe\">\n",
       "  <thead>\n",
       "    <tr style=\"text-align: right;\">\n",
       "      <th></th>\n",
       "      <th>0</th>\n",
       "      <th>1</th>\n",
       "    </tr>\n",
       "    <tr>\n",
       "      <th>Symbols</th>\n",
       "      <th></th>\n",
       "      <th></th>\n",
       "    </tr>\n",
       "  </thead>\n",
       "  <tbody>\n",
       "    <tr>\n",
       "      <th>AAPL</th>\n",
       "      <td>4.815542</td>\n",
       "      <td>22.499638</td>\n",
       "    </tr>\n",
       "    <tr>\n",
       "      <th>AMZN</th>\n",
       "      <td>134.005150</td>\n",
       "      <td>21.017744</td>\n",
       "    </tr>\n",
       "    <tr>\n",
       "      <th>MSFT</th>\n",
       "      <td>9.696415</td>\n",
       "      <td>22.702545</td>\n",
       "    </tr>\n",
       "    <tr>\n",
       "      <th>GOOGL</th>\n",
       "      <td>105.081699</td>\n",
       "      <td>36.736451</td>\n",
       "    </tr>\n",
       "    <tr>\n",
       "      <th>FB</th>\n",
       "      <td>15.440676</td>\n",
       "      <td>31.564837</td>\n",
       "    </tr>\n",
       "    <tr>\n",
       "      <th>GOOG</th>\n",
       "      <td>104.119698</td>\n",
       "      <td>35.966985</td>\n",
       "    </tr>\n",
       "    <tr>\n",
       "      <th>PG</th>\n",
       "      <td>9.405556</td>\n",
       "      <td>57.608538</td>\n",
       "    </tr>\n",
       "    <tr>\n",
       "      <th>JPM</th>\n",
       "      <td>8.671518</td>\n",
       "      <td>41.785190</td>\n",
       "    </tr>\n",
       "    <tr>\n",
       "      <th>TSLA</th>\n",
       "      <td>11.689146</td>\n",
       "      <td>10.186571</td>\n",
       "    </tr>\n",
       "    <tr>\n",
       "      <th>JNJ</th>\n",
       "      <td>12.108310</td>\n",
       "      <td>65.236964</td>\n",
       "    </tr>\n",
       "  </tbody>\n",
       "</table>\n",
       "</div>"
      ],
      "text/plain": [
       "                  0          1\n",
       "Symbols                       \n",
       "AAPL       4.815542  22.499638\n",
       "AMZN     134.005150  21.017744\n",
       "MSFT       9.696415  22.702545\n",
       "GOOGL    105.081699  36.736451\n",
       "FB        15.440676  31.564837\n",
       "GOOG     104.119698  35.966985\n",
       "PG         9.405556  57.608538\n",
       "JPM        8.671518  41.785190\n",
       "TSLA      11.689146  10.186571\n",
       "JNJ       12.108310  65.236964"
      ]
     },
     "execution_count": 17,
     "metadata": {},
     "output_type": "execute_result"
    }
   ],
   "source": [
    "conDf"
   ]
  },
  {
   "cell_type": "code",
   "execution_count": 21,
   "metadata": {},
   "outputs": [],
   "source": [
    "conDf.columns=['Sortino Ratio','Sharpe Ratio']#add columns to dataframe"
   ]
  },
  {
   "cell_type": "code",
   "execution_count": 22,
   "metadata": {},
   "outputs": [
    {
     "data": {
      "text/plain": [
       "<matplotlib.axes._subplots.AxesSubplot at 0x1907af26ba8>"
      ]
     },
     "execution_count": 22,
     "metadata": {},
     "output_type": "execute_result"
    },
    {
     "data": {
      "image/png": "[encoded data removed]",
      "text/plain": [
       "<Figure size 432x288 with 1 Axes>"
      ]
     },
     "metadata": {},
     "output_type": "display_data"
    }
   ],
   "source": [
    "conDf.plot.bar()"
   ]
  },
  {
   "cell_type": "code",
   "execution_count": null,
   "metadata": {},
   "outputs": [],
   "source": []
  },
  {
   "cell_type": "code",
   "execution_count": null,
   "metadata": {},
   "outputs": [],
   "source": []
  }
 ],
 "metadata": {
  "kernelspec": {
   "display_name": "Python 3",
   "language": "python",
   "name": "python3"
  },
  "language_info": {
   "codemirror_mode": {
    "name": "ipython",
    "version": 3
   },
   "file_extension": ".py",
   "mimetype": "text/x-python",
   "name": "python",
   "nbconvert_exporter": "python",
   "pygments_lexer": "ipython3",
   "version": "3.6.13"
  }
 },
 "nbformat": 4,
 "nbformat_minor": 2
}
