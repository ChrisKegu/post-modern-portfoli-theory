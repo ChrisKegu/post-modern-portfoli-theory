{
 "cells": [
  {
   "cell_type": "code",
   "execution_count": 1,
   "metadata": {},
   "outputs": [],
   "source": [
    "import pandas as pd\n",
    "import pandas_datareader.data as web\n",
    "import datetime as dt\n",
    "import numpy as np\n",
    "import matplotlib.pyplot as plt\n"
   ]
  },
  {
   "cell_type": "code",
   "execution_count": 2,
   "metadata": {},
   "outputs": [],
   "source": [
    "\n",
    "def get_stock(tickers,start,end):\n",
    "    stocks = web.DataReader(tickers,\n",
    "                        'yahoo', start, end)['Adj Close']\n",
    "    return stocks\n"
   ]
  },
  {
   "cell_type": "code",
   "execution_count": 3,
   "metadata": {},
   "outputs": [],
   "source": [
    "start = dt.datetime(2013, 1, 1)\n",
    "end = dt.datetime(2021, 5, 1)\n",
    "\n",
    "tickers = ['AAPL', 'AMZN', 'MSFT', 'GOOGL','FB','GOOG','PG','JPM','TSLA','JNJ']\n",
    "df=get_stock(tickers,start,end)"
   ]
  },
  {
   "cell_type": "code",
   "execution_count": 4,
   "metadata": {},
   "outputs": [
    {
     "data": {
      "text/html": [
       "<div>\n",
       "<style scoped>\n",
       "    .dataframe tbody tr th:only-of-type {\n",
       "        vertical-align: middle;\n",
       "    }\n",
       "\n",
       "    .dataframe tbody tr th {\n",
       "        vertical-align: top;\n",
       "    }\n",
       "\n",
       "    .dataframe thead th {\n",
       "        text-align: right;\n",
       "    }\n",
       "</style>\n",
       "<table border=\"1\" class=\"dataframe\">\n",
       "  <thead>\n",
       "    <tr style=\"text-align: right;\">\n",
       "      <th>Symbols</th>\n",
       "      <th>AAPL</th>\n",
       "      <th>AMZN</th>\n",
       "      <th>MSFT</th>\n",
       "      <th>GOOGL</th>\n",
       "      <th>FB</th>\n",
       "      <th>GOOG</th>\n",
       "      <th>PG</th>\n",
       "      <th>JPM</th>\n",
       "      <th>TSLA</th>\n",
       "      <th>JNJ</th>\n",
       "    </tr>\n",
       "    <tr>\n",
       "      <th>Date</th>\n",
       "      <th></th>\n",
       "      <th></th>\n",
       "      <th></th>\n",
       "      <th></th>\n",
       "      <th></th>\n",
       "      <th></th>\n",
       "      <th></th>\n",
       "      <th></th>\n",
       "      <th></th>\n",
       "      <th></th>\n",
       "    </tr>\n",
       "  </thead>\n",
       "  <tbody>\n",
       "    <tr>\n",
       "      <th>2013-01-02</th>\n",
       "      <td>17.010899</td>\n",
       "      <td>257.309998</td>\n",
       "      <td>23.074232</td>\n",
       "      <td>361.987000</td>\n",
       "      <td>28.000000</td>\n",
       "      <td>360.274597</td>\n",
       "      <td>53.704983</td>\n",
       "      <td>35.562012</td>\n",
       "      <td>7.072</td>\n",
       "      <td>56.070381</td>\n",
       "    </tr>\n",
       "    <tr>\n",
       "      <th>2013-01-03</th>\n",
       "      <td>16.796177</td>\n",
       "      <td>258.480011</td>\n",
       "      <td>22.765125</td>\n",
       "      <td>362.197205</td>\n",
       "      <td>27.770000</td>\n",
       "      <td>360.483826</td>\n",
       "      <td>53.364449</td>\n",
       "      <td>35.490330</td>\n",
       "      <td>6.954</td>\n",
       "      <td>55.991253</td>\n",
       "    </tr>\n",
       "    <tr>\n",
       "      <th>2013-01-04</th>\n",
       "      <td>16.328323</td>\n",
       "      <td>259.149994</td>\n",
       "      <td>22.339064</td>\n",
       "      <td>369.354340</td>\n",
       "      <td>28.760000</td>\n",
       "      <td>367.607117</td>\n",
       "      <td>53.472805</td>\n",
       "      <td>36.119392</td>\n",
       "      <td>6.880</td>\n",
       "      <td>56.632359</td>\n",
       "    </tr>\n",
       "    <tr>\n",
       "      <th>2013-01-07</th>\n",
       "      <td>16.232281</td>\n",
       "      <td>268.459991</td>\n",
       "      <td>22.297297</td>\n",
       "      <td>367.742737</td>\n",
       "      <td>29.420000</td>\n",
       "      <td>366.003143</td>\n",
       "      <td>53.109035</td>\n",
       "      <td>36.159210</td>\n",
       "      <td>6.868</td>\n",
       "      <td>56.513645</td>\n",
       "    </tr>\n",
       "    <tr>\n",
       "      <th>2013-01-08</th>\n",
       "      <td>16.275965</td>\n",
       "      <td>266.380005</td>\n",
       "      <td>22.180330</td>\n",
       "      <td>367.017029</td>\n",
       "      <td>29.059999</td>\n",
       "      <td>365.280823</td>\n",
       "      <td>53.023914</td>\n",
       "      <td>36.230877</td>\n",
       "      <td>6.736</td>\n",
       "      <td>56.521553</td>\n",
       "    </tr>\n",
       "  </tbody>\n",
       "</table>\n",
       "</div>"
      ],
      "text/plain": [
       "Symbols          AAPL        AMZN       MSFT       GOOGL         FB  \\\n",
       "Date                                                                  \n",
       "2013-01-02  17.010899  257.309998  23.074232  361.987000  28.000000   \n",
       "2013-01-03  16.796177  258.480011  22.765125  362.197205  27.770000   \n",
       "2013-01-04  16.328323  259.149994  22.339064  369.354340  28.760000   \n",
       "2013-01-07  16.232281  268.459991  22.297297  367.742737  29.420000   \n",
       "2013-01-08  16.275965  266.380005  22.180330  367.017029  29.059999   \n",
       "\n",
       "Symbols           GOOG         PG        JPM   TSLA        JNJ  \n",
       "Date                                                            \n",
       "2013-01-02  360.274597  53.704983  35.562012  7.072  56.070381  \n",
       "2013-01-03  360.483826  53.364449  35.490330  6.954  55.991253  \n",
       "2013-01-04  367.607117  53.472805  36.119392  6.880  56.632359  \n",
       "2013-01-07  366.003143  53.109035  36.159210  6.868  56.513645  \n",
       "2013-01-08  365.280823  53.023914  36.230877  6.736  56.521553  "
      ]
     },
     "execution_count": 4,
     "metadata": {},
     "output_type": "execute_result"
    }
   ],
   "source": [
    "df.head()"
   ]
  },
  {
   "cell_type": "code",
   "execution_count": 5,
   "metadata": {},
   "outputs": [],
   "source": [
    "def get_sharpe_ratio(my_series, num_days, risk_free):\n",
    "    mean = my_series.mean() * num_days -risk_free\n",
    "    sigma = my_series.std() * np.sqrt(num_days)\n",
    "    return mean / sigma"
   ]
  },
  {
   "cell_type": "code",
   "execution_count": 6,
   "metadata": {},
   "outputs": [
    {
     "data": {
      "text/plain": [
       "<matplotlib.axes._subplots.AxesSubplot at 0x171cacfe860>"
      ]
     },
     "execution_count": 6,
     "metadata": {},
     "output_type": "execute_result"
    },
    {
     "data": {
      "image/png": "[encoded data removed]",
      "text/plain": [
       "<Figure size 432x288 with 1 Axes>"
      ]
     },
     "metadata": {},
     "output_type": "display_data"
    }
   ],
   "source": [
    "num_days = 255 #255 trading days in a year\n",
    "risk_free =0.01 #assuming 1% risk free rate\n",
    "sharpe_ratio = df.apply(get_sharpe_ratio, args=(num_days,risk_free),axis=0)\n",
    "\n",
    "sharpe_ratio.plot.bar()"
   ]
  },
  {
   "cell_type": "code",
   "execution_count": 9,
   "metadata": {},
   "outputs": [],
   "source": [
    "def get_sortino_ratio(my_series,num_days,risk_free):\n",
    "    mean = my_series.mean() * num_days -risk_free\n",
    "    daily_change=my_series.pct_change()\n",
    "    std_neg=np.prod(daily_change+1)-1\n",
    "    std_neg = my_series.min().std()*np.sqrt(num_days)\n",
    "    return mean/std_neg\n"
   ]
  },
  {
   "cell_type": "code",
   "execution_count": 10,
   "metadata": {},
   "outputs": [
    {
     "data": {
      "text/plain": [
       "Symbols\n",
       "AAPL       4.130939\n",
       "AMZN     117.232665\n",
       "MSFT       8.523342\n",
       "GOOGL     97.113761\n",
       "FB        14.278145\n",
       "GOOG      96.006136\n",
       "PG         8.988065\n",
       "JPM        8.229331\n",
       "TSLA       7.200640\n",
       "JNJ       11.724063\n",
       "dtype: float64"
      ]
     },
     "execution_count": 10,
     "metadata": {},
     "output_type": "execute_result"
    }
   ],
   "source": [
    "get_sortino_ratio(df,num_days,risk_free)"
   ]
  },
  {
   "cell_type": "code",
   "execution_count": 11,
   "metadata": {},
   "outputs": [
    {
     "data": {
      "text/plain": [
       "<matplotlib.axes._subplots.AxesSubplot at 0x171caa37048>"
      ]
     },
     "execution_count": 11,
     "metadata": {},
     "output_type": "execute_result"
    },
    {
     "data": {
      "image/png": "[encoded data removed]",
      "text/plain": [
       "<Figure size 432x288 with 1 Axes>"
      ]
     },
     "metadata": {},
     "output_type": "display_data"
    }
   ],
   "source": [
    "\n",
    "get_sortino_ratio(df,num_days,risk_free).plot.bar()"
   ]
  },
  {
   "cell_type": "code",
   "execution_count": 26,
   "metadata": {},
   "outputs": [],
   "source": [
    "sortinos=get_sortino_ratio(df,num_days,risk_free)"
   ]
  },
  {
   "cell_type": "code",
   "execution_count": 23,
   "metadata": {},
   "outputs": [
    {
     "data": {
      "text/plain": [
       "Text(0, 0.5, 'Max Drawdown')"
      ]
     },
     "execution_count": 23,
     "metadata": {},
     "output_type": "execute_result"
    },
    {
     "data": {
      "image/png": "[encoded data removed]",
      "text/plain": [
       "<Figure size 432x288 with 1 Axes>"
      ]
     },
     "metadata": {},
     "output_type": "display_data"
    }
   ],
   "source": [
    "def max_drawdown(my_series):\n",
    "    daily_change=df.pct_change()\n",
    "    comp_ret = (daily_change+1).cumprod()\n",
    "    peak = comp_ret.expanding(min_periods=1).max()\n",
    "    dd = (comp_ret/peak)-1\n",
    "    return dd.min()\n",
    "\n",
    "\n",
    "max_drawdowns = df.apply(max_drawdown,axis=0)\n",
    "max_drawdowns.plot.bar()\n",
    "plt.ylabel('Max Drawdown')"
   ]
  },
  {
   "cell_type": "code",
   "execution_count": 60,
   "metadata": {},
   "outputs": [
    {
     "data": {
      "text/html": [
       "<div>\n",
       "<style scoped>\n",
       "    .dataframe tbody tr th:only-of-type {\n",
       "        vertical-align: middle;\n",
       "    }\n",
       "\n",
       "    .dataframe tbody tr th {\n",
       "        vertical-align: top;\n",
       "    }\n",
       "\n",
       "    .dataframe thead th {\n",
       "        text-align: right;\n",
       "    }\n",
       "</style>\n",
       "<table border=\"1\" class=\"dataframe\">\n",
       "  <thead>\n",
       "    <tr style=\"text-align: right;\">\n",
       "      <th>Symbols</th>\n",
       "      <th>AAPL</th>\n",
       "      <th>AMZN</th>\n",
       "      <th>MSFT</th>\n",
       "      <th>GOOGL</th>\n",
       "      <th>FB</th>\n",
       "      <th>GOOG</th>\n",
       "      <th>PG</th>\n",
       "      <th>JPM</th>\n",
       "      <th>TSLA</th>\n",
       "      <th>JNJ</th>\n",
       "    </tr>\n",
       "    <tr>\n",
       "      <th>Symbols</th>\n",
       "      <th></th>\n",
       "      <th></th>\n",
       "      <th></th>\n",
       "      <th></th>\n",
       "      <th></th>\n",
       "      <th></th>\n",
       "      <th></th>\n",
       "      <th></th>\n",
       "      <th></th>\n",
       "      <th></th>\n",
       "    </tr>\n",
       "  </thead>\n",
       "  <tbody>\n",
       "    <tr>\n",
       "      <th>AAPL</th>\n",
       "      <td>-0.385159</td>\n",
       "      <td>-0.385159</td>\n",
       "      <td>-0.385159</td>\n",
       "      <td>-0.385159</td>\n",
       "      <td>-0.385159</td>\n",
       "      <td>-0.385159</td>\n",
       "      <td>-0.385159</td>\n",
       "      <td>-0.385159</td>\n",
       "      <td>-0.385159</td>\n",
       "      <td>-0.385159</td>\n",
       "    </tr>\n",
       "    <tr>\n",
       "      <th>AMZN</th>\n",
       "      <td>-0.341038</td>\n",
       "      <td>-0.341038</td>\n",
       "      <td>-0.341038</td>\n",
       "      <td>-0.341038</td>\n",
       "      <td>-0.341038</td>\n",
       "      <td>-0.341038</td>\n",
       "      <td>-0.341038</td>\n",
       "      <td>-0.341038</td>\n",
       "      <td>-0.341038</td>\n",
       "      <td>-0.341038</td>\n",
       "    </tr>\n",
       "    <tr>\n",
       "      <th>MSFT</th>\n",
       "      <td>-0.280393</td>\n",
       "      <td>-0.280393</td>\n",
       "      <td>-0.280393</td>\n",
       "      <td>-0.280393</td>\n",
       "      <td>-0.280393</td>\n",
       "      <td>-0.280393</td>\n",
       "      <td>-0.280393</td>\n",
       "      <td>-0.280393</td>\n",
       "      <td>-0.280393</td>\n",
       "      <td>-0.280393</td>\n",
       "    </tr>\n",
       "    <tr>\n",
       "      <th>GOOGL</th>\n",
       "      <td>-0.308708</td>\n",
       "      <td>-0.308708</td>\n",
       "      <td>-0.308708</td>\n",
       "      <td>-0.308708</td>\n",
       "      <td>-0.308708</td>\n",
       "      <td>-0.308708</td>\n",
       "      <td>-0.308708</td>\n",
       "      <td>-0.308708</td>\n",
       "      <td>-0.308708</td>\n",
       "      <td>-0.308708</td>\n",
       "    </tr>\n",
       "    <tr>\n",
       "      <th>FB</th>\n",
       "      <td>-0.429609</td>\n",
       "      <td>-0.429609</td>\n",
       "      <td>-0.429609</td>\n",
       "      <td>-0.429609</td>\n",
       "      <td>-0.429609</td>\n",
       "      <td>-0.429609</td>\n",
       "      <td>-0.429609</td>\n",
       "      <td>-0.429609</td>\n",
       "      <td>-0.429609</td>\n",
       "      <td>-0.429609</td>\n",
       "    </tr>\n",
       "    <tr>\n",
       "      <th>GOOG</th>\n",
       "      <td>-0.307901</td>\n",
       "      <td>-0.307901</td>\n",
       "      <td>-0.307901</td>\n",
       "      <td>-0.307901</td>\n",
       "      <td>-0.307901</td>\n",
       "      <td>-0.307901</td>\n",
       "      <td>-0.307901</td>\n",
       "      <td>-0.307901</td>\n",
       "      <td>-0.307901</td>\n",
       "      <td>-0.307901</td>\n",
       "    </tr>\n",
       "    <tr>\n",
       "      <th>PG</th>\n",
       "      <td>-0.254642</td>\n",
       "      <td>-0.254642</td>\n",
       "      <td>-0.254642</td>\n",
       "      <td>-0.254642</td>\n",
       "      <td>-0.254642</td>\n",
       "      <td>-0.254642</td>\n",
       "      <td>-0.254642</td>\n",
       "      <td>-0.254642</td>\n",
       "      <td>-0.254642</td>\n",
       "      <td>-0.254642</td>\n",
       "    </tr>\n",
       "    <tr>\n",
       "      <th>JPM</th>\n",
       "      <td>-0.436265</td>\n",
       "      <td>-0.436265</td>\n",
       "      <td>-0.436265</td>\n",
       "      <td>-0.436265</td>\n",
       "      <td>-0.436265</td>\n",
       "      <td>-0.436265</td>\n",
       "      <td>-0.436265</td>\n",
       "      <td>-0.436265</td>\n",
       "      <td>-0.436265</td>\n",
       "      <td>-0.436265</td>\n",
       "    </tr>\n",
       "    <tr>\n",
       "      <th>TSLA</th>\n",
       "      <td>-0.606265</td>\n",
       "      <td>-0.606265</td>\n",
       "      <td>-0.606265</td>\n",
       "      <td>-0.606265</td>\n",
       "      <td>-0.606265</td>\n",
       "      <td>-0.606265</td>\n",
       "      <td>-0.606265</td>\n",
       "      <td>-0.606265</td>\n",
       "      <td>-0.606265</td>\n",
       "      <td>-0.606265</td>\n",
       "    </tr>\n",
       "    <tr>\n",
       "      <th>JNJ</th>\n",
       "      <td>-0.273662</td>\n",
       "      <td>-0.273662</td>\n",
       "      <td>-0.273662</td>\n",
       "      <td>-0.273662</td>\n",
       "      <td>-0.273662</td>\n",
       "      <td>-0.273662</td>\n",
       "      <td>-0.273662</td>\n",
       "      <td>-0.273662</td>\n",
       "      <td>-0.273662</td>\n",
       "      <td>-0.273662</td>\n",
       "    </tr>\n",
       "  </tbody>\n",
       "</table>\n",
       "</div>"
      ],
      "text/plain": [
       "Symbols      AAPL      AMZN      MSFT     GOOGL        FB      GOOG        PG  \\\n",
       "Symbols                                                                         \n",
       "AAPL    -0.385159 -0.385159 -0.385159 -0.385159 -0.385159 -0.385159 -0.385159   \n",
       "AMZN    -0.341038 -0.341038 -0.341038 -0.341038 -0.341038 -0.341038 -0.341038   \n",
       "MSFT    -0.280393 -0.280393 -0.280393 -0.280393 -0.280393 -0.280393 -0.280393   \n",
       "GOOGL   -0.308708 -0.308708 -0.308708 -0.308708 -0.308708 -0.308708 -0.308708   \n",
       "FB      -0.429609 -0.429609 -0.429609 -0.429609 -0.429609 -0.429609 -0.429609   \n",
       "GOOG    -0.307901 -0.307901 -0.307901 -0.307901 -0.307901 -0.307901 -0.307901   \n",
       "PG      -0.254642 -0.254642 -0.254642 -0.254642 -0.254642 -0.254642 -0.254642   \n",
       "JPM     -0.436265 -0.436265 -0.436265 -0.436265 -0.436265 -0.436265 -0.436265   \n",
       "TSLA    -0.606265 -0.606265 -0.606265 -0.606265 -0.606265 -0.606265 -0.606265   \n",
       "JNJ     -0.273662 -0.273662 -0.273662 -0.273662 -0.273662 -0.273662 -0.273662   \n",
       "\n",
       "Symbols       JPM      TSLA       JNJ  \n",
       "Symbols                                \n",
       "AAPL    -0.385159 -0.385159 -0.385159  \n",
       "AMZN    -0.341038 -0.341038 -0.341038  \n",
       "MSFT    -0.280393 -0.280393 -0.280393  \n",
       "GOOGL   -0.308708 -0.308708 -0.308708  \n",
       "FB      -0.429609 -0.429609 -0.429609  \n",
       "GOOG    -0.307901 -0.307901 -0.307901  \n",
       "PG      -0.254642 -0.254642 -0.254642  \n",
       "JPM     -0.436265 -0.436265 -0.436265  \n",
       "TSLA    -0.606265 -0.606265 -0.606265  \n",
       "JNJ     -0.273662 -0.273662 -0.273662  "
      ]
     },
     "execution_count": 60,
     "metadata": {},
     "output_type": "execute_result"
    }
   ],
   "source": [
    "max_drawdowns"
   ]
  },
  {
   "cell_type": "code",
   "execution_count": 24,
   "metadata": {},
   "outputs": [
    {
     "data": {
      "text/plain": [
       "Text(0, 0.5, 'Calmar ratio')"
      ]
     },
     "execution_count": 24,
     "metadata": {},
     "output_type": "execute_result"
    },
    {
     "data": {
      "image/png": "[encoded data removed]",
      "text/plain": [
       "<Figure size 432x288 with 1 Axes>"
      ]
     },
     "metadata": {},
     "output_type": "display_data"
    }
   ],
   "source": [
    "#calmer ratio\n",
    "calmars = df.mean()*255/abs(max_drawdowns)\n",
    "\n",
    "calmars.plot.bar()\n",
    "plt.ylabel('Calmar ratio')"
   ]
  },
  {
   "cell_type": "code",
   "execution_count": 61,
   "metadata": {},
   "outputs": [
    {
     "data": {
      "text/html": [
       "<div>\n",
       "<style scoped>\n",
       "    .dataframe tbody tr th:only-of-type {\n",
       "        vertical-align: middle;\n",
       "    }\n",
       "\n",
       "    .dataframe tbody tr th {\n",
       "        vertical-align: top;\n",
       "    }\n",
       "\n",
       "    .dataframe thead th {\n",
       "        text-align: right;\n",
       "    }\n",
       "</style>\n",
       "<table border=\"1\" class=\"dataframe\">\n",
       "  <thead>\n",
       "    <tr style=\"text-align: right;\">\n",
       "      <th>Symbols</th>\n",
       "      <th>AAPL</th>\n",
       "      <th>AMZN</th>\n",
       "      <th>MSFT</th>\n",
       "      <th>GOOGL</th>\n",
       "      <th>FB</th>\n",
       "      <th>GOOG</th>\n",
       "      <th>PG</th>\n",
       "      <th>JPM</th>\n",
       "      <th>TSLA</th>\n",
       "      <th>JNJ</th>\n",
       "    </tr>\n",
       "    <tr>\n",
       "      <th>Symbols</th>\n",
       "      <th></th>\n",
       "      <th></th>\n",
       "      <th></th>\n",
       "      <th></th>\n",
       "      <th></th>\n",
       "      <th></th>\n",
       "      <th></th>\n",
       "      <th></th>\n",
       "      <th></th>\n",
       "      <th></th>\n",
       "    </tr>\n",
       "  </thead>\n",
       "  <tbody>\n",
       "    <tr>\n",
       "      <th>AAPL</th>\n",
       "      <td>24367.269224</td>\n",
       "      <td>6.915225e+05</td>\n",
       "      <td>50276.819849</td>\n",
       "      <td>572846.738357</td>\n",
       "      <td>84222.778421</td>\n",
       "      <td>566313.171324</td>\n",
       "      <td>53018.090486</td>\n",
       "      <td>48542.528054</td>\n",
       "      <td>42474.575054</td>\n",
       "      <td>69156.969239</td>\n",
       "    </tr>\n",
       "    <tr>\n",
       "      <th>AMZN</th>\n",
       "      <td>27519.752806</td>\n",
       "      <td>7.809873e+05</td>\n",
       "      <td>56781.317651</td>\n",
       "      <td>646958.035806</td>\n",
       "      <td>95118.990209</td>\n",
       "      <td>639579.197084</td>\n",
       "      <td>59877.236592</td>\n",
       "      <td>54822.654124</td>\n",
       "      <td>47969.667642</td>\n",
       "      <td>78104.061672</td>\n",
       "    </tr>\n",
       "    <tr>\n",
       "      <th>MSFT</th>\n",
       "      <td>33471.900627</td>\n",
       "      <td>9.499042e+05</td>\n",
       "      <td>69062.343520</td>\n",
       "      <td>786886.249922</td>\n",
       "      <td>115691.932645</td>\n",
       "      <td>777911.468855</td>\n",
       "      <td>72827.867573</td>\n",
       "      <td>66680.047741</td>\n",
       "      <td>58344.853594</td>\n",
       "      <td>94996.906741</td>\n",
       "    </tr>\n",
       "    <tr>\n",
       "      <th>GOOGL</th>\n",
       "      <td>30401.765006</td>\n",
       "      <td>8.627764e+05</td>\n",
       "      <td>62727.753702</td>\n",
       "      <td>714710.859210</td>\n",
       "      <td>105080.347499</td>\n",
       "      <td>706559.269971</td>\n",
       "      <td>66147.893438</td>\n",
       "      <td>60563.968703</td>\n",
       "      <td>52993.301696</td>\n",
       "      <td>86283.526807</td>\n",
       "    </tr>\n",
       "    <tr>\n",
       "      <th>FB</th>\n",
       "      <td>21846.078659</td>\n",
       "      <td>6.199732e+05</td>\n",
       "      <td>45074.864607</td>\n",
       "      <td>513576.420498</td>\n",
       "      <td>75508.561312</td>\n",
       "      <td>507718.857305</td>\n",
       "      <td>47532.506184</td>\n",
       "      <td>43520.013523</td>\n",
       "      <td>38079.889014</td>\n",
       "      <td>62001.555279</td>\n",
       "    </tr>\n",
       "    <tr>\n",
       "      <th>GOOG</th>\n",
       "      <td>30481.436591</td>\n",
       "      <td>8.650374e+05</td>\n",
       "      <td>62892.139538</td>\n",
       "      <td>716583.847408</td>\n",
       "      <td>105355.723546</td>\n",
       "      <td>708410.895921</td>\n",
       "      <td>66321.242174</td>\n",
       "      <td>60722.684074</td>\n",
       "      <td>53132.177197</td>\n",
       "      <td>86509.643460</td>\n",
       "    </tr>\n",
       "    <tr>\n",
       "      <th>PG</th>\n",
       "      <td>36856.813769</td>\n",
       "      <td>1.045965e+06</td>\n",
       "      <td>76046.411643</td>\n",
       "      <td>866461.701520</td>\n",
       "      <td>127391.511570</td>\n",
       "      <td>856579.327702</td>\n",
       "      <td>80192.731874</td>\n",
       "      <td>73423.201421</td>\n",
       "      <td>64245.094034</td>\n",
       "      <td>104603.659630</td>\n",
       "    </tr>\n",
       "    <tr>\n",
       "      <th>JPM</th>\n",
       "      <td>21512.777931</td>\n",
       "      <td>6.105144e+05</td>\n",
       "      <td>44387.167496</td>\n",
       "      <td>505740.900107</td>\n",
       "      <td>74356.544109</td>\n",
       "      <td>499972.704443</td>\n",
       "      <td>46807.313386</td>\n",
       "      <td>42856.038426</td>\n",
       "      <td>37498.912678</td>\n",
       "      <td>61055.611440</td>\n",
       "    </tr>\n",
       "    <tr>\n",
       "      <th>TSLA</th>\n",
       "      <td>15480.476156</td>\n",
       "      <td>4.393228e+05</td>\n",
       "      <td>31940.760521</td>\n",
       "      <td>363928.357843</td>\n",
       "      <td>53506.558371</td>\n",
       "      <td>359777.596108</td>\n",
       "      <td>33682.284134</td>\n",
       "      <td>30838.968501</td>\n",
       "      <td>26984.010407</td>\n",
       "      <td>43935.280702</td>\n",
       "    </tr>\n",
       "    <tr>\n",
       "      <th>JNJ</th>\n",
       "      <td>34295.082791</td>\n",
       "      <td>9.732654e+05</td>\n",
       "      <td>70760.809647</td>\n",
       "      <td>806238.324769</td>\n",
       "      <td>118537.171000</td>\n",
       "      <td>797042.824843</td>\n",
       "      <td>74618.940100</td>\n",
       "      <td>68319.925519</td>\n",
       "      <td>59779.742022</td>\n",
       "      <td>97333.187557</td>\n",
       "    </tr>\n",
       "  </tbody>\n",
       "</table>\n",
       "</div>"
      ],
      "text/plain": [
       "Symbols          AAPL          AMZN          MSFT          GOOGL  \\\n",
       "Symbols                                                            \n",
       "AAPL     24367.269224  6.915225e+05  50276.819849  572846.738357   \n",
       "AMZN     27519.752806  7.809873e+05  56781.317651  646958.035806   \n",
       "MSFT     33471.900627  9.499042e+05  69062.343520  786886.249922   \n",
       "GOOGL    30401.765006  8.627764e+05  62727.753702  714710.859210   \n",
       "FB       21846.078659  6.199732e+05  45074.864607  513576.420498   \n",
       "GOOG     30481.436591  8.650374e+05  62892.139538  716583.847408   \n",
       "PG       36856.813769  1.045965e+06  76046.411643  866461.701520   \n",
       "JPM      21512.777931  6.105144e+05  44387.167496  505740.900107   \n",
       "TSLA     15480.476156  4.393228e+05  31940.760521  363928.357843   \n",
       "JNJ      34295.082791  9.732654e+05  70760.809647  806238.324769   \n",
       "\n",
       "Symbols             FB           GOOG            PG           JPM  \\\n",
       "Symbols                                                             \n",
       "AAPL      84222.778421  566313.171324  53018.090486  48542.528054   \n",
       "AMZN      95118.990209  639579.197084  59877.236592  54822.654124   \n",
       "MSFT     115691.932645  777911.468855  72827.867573  66680.047741   \n",
       "GOOGL    105080.347499  706559.269971  66147.893438  60563.968703   \n",
       "FB        75508.561312  507718.857305  47532.506184  43520.013523   \n",
       "GOOG     105355.723546  708410.895921  66321.242174  60722.684074   \n",
       "PG       127391.511570  856579.327702  80192.731874  73423.201421   \n",
       "JPM       74356.544109  499972.704443  46807.313386  42856.038426   \n",
       "TSLA      53506.558371  359777.596108  33682.284134  30838.968501   \n",
       "JNJ      118537.171000  797042.824843  74618.940100  68319.925519   \n",
       "\n",
       "Symbols          TSLA            JNJ  \n",
       "Symbols                               \n",
       "AAPL     42474.575054   69156.969239  \n",
       "AMZN     47969.667642   78104.061672  \n",
       "MSFT     58344.853594   94996.906741  \n",
       "GOOGL    52993.301696   86283.526807  \n",
       "FB       38079.889014   62001.555279  \n",
       "GOOG     53132.177197   86509.643460  \n",
       "PG       64245.094034  104603.659630  \n",
       "JPM      37498.912678   61055.611440  \n",
       "TSLA     26984.010407   43935.280702  \n",
       "JNJ      59779.742022   97333.187557  "
      ]
     },
     "execution_count": 61,
     "metadata": {},
     "output_type": "execute_result"
    }
   ],
   "source": [
    "calmars"
   ]
  },
  {
   "cell_type": "code",
   "execution_count": 34,
   "metadata": {},
   "outputs": [
    {
     "data": {
      "text/plain": [
       "(10,)"
      ]
     },
     "execution_count": 34,
     "metadata": {},
     "output_type": "execute_result"
    }
   ],
   "source": [
    "sortinos.shape"
   ]
  },
  {
   "cell_type": "code",
   "execution_count": 35,
   "metadata": {},
   "outputs": [
    {
     "data": {
      "text/plain": [
       "(10,)"
      ]
     },
     "execution_count": 35,
     "metadata": {},
     "output_type": "execute_result"
    }
   ],
   "source": [
    "sharpe_ratio.shape"
   ]
  },
  {
   "cell_type": "code",
   "execution_count": 37,
   "metadata": {},
   "outputs": [
    {
     "data": {
      "text/plain": [
       "10"
      ]
     },
     "execution_count": 37,
     "metadata": {},
     "output_type": "execute_result"
    }
   ],
   "source": [
    "max_drawdowns.shape[0]"
   ]
  },
  {
   "cell_type": "code",
   "execution_count": 38,
   "metadata": {},
   "outputs": [
    {
     "data": {
      "text/plain": [
       "(10, 10)"
      ]
     },
     "execution_count": 38,
     "metadata": {},
     "output_type": "execute_result"
    }
   ],
   "source": [
    "calmars.shape"
   ]
  },
  {
   "cell_type": "code",
   "execution_count": null,
   "metadata": {},
   "outputs": [],
   "source": []
  },
  {
   "cell_type": "code",
   "execution_count": null,
   "metadata": {},
   "outputs": [],
   "source": []
  }
 ],
 "metadata": {
  "kernelspec": {
   "display_name": "Python 3",
   "language": "python",
   "name": "python3"
  },
  "language_info": {
   "codemirror_mode": {
    "name": "ipython",
    "version": 3
   },
   "file_extension": ".py",
   "mimetype": "text/x-python",
   "name": "python",
   "nbconvert_exporter": "python",
   "pygments_lexer": "ipython3",
   "version": "3.6.13"
  }
 },
 "nbformat": 4,
 "nbformat_minor": 2
}
