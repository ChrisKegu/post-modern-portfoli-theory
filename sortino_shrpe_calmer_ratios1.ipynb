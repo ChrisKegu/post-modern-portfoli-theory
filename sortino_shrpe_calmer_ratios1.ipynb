{
 "cells": [
  {
   "cell_type": "code",
   "execution_count": 1,
   "metadata": {},
   "outputs": [],
   "source": [
    "import pandas as pd\n",
    "import pandas_datareader.data as web\n",
    "import datetime as dt\n",
    "import numpy as np\n",
    "import matplotlib.pyplot as plt"
   ]
  },
  {
   "cell_type": "code",
   "execution_count": 2,
   "metadata": {},
   "outputs": [],
   "source": [
    "def get_stock(tickers,start,end):\n",
    "    stocks = web.DataReader(tickers,\n",
    "                        'yahoo', start, end)['Adj Close']\n",
    "    return stocks"
   ]
  },
  {
   "cell_type": "code",
   "execution_count": 3,
   "metadata": {},
   "outputs": [],
   "source": [
    "start = dt.datetime(2013, 1, 1)\n",
    "end = dt.datetime(2021, 5, 1)\n",
    "\n",
    "tickers = ['AAPL', 'AMZN', 'MSFT', 'GOOGL','FB','GOOG','PG','JPM','TSLA','JNJ']\n",
    "df=get_stock(tickers,start,end)"
   ]
  },
  {
   "cell_type": "code",
   "execution_count": 4,
   "metadata": {},
   "outputs": [
    {
     "data": {
      "text/html": [
       "<div>\n",
       "<style scoped>\n",
       "    .dataframe tbody tr th:only-of-type {\n",
       "        vertical-align: middle;\n",
       "    }\n",
       "\n",
       "    .dataframe tbody tr th {\n",
       "        vertical-align: top;\n",
       "    }\n",
       "\n",
       "    .dataframe thead th {\n",
       "        text-align: right;\n",
       "    }\n",
       "</style>\n",
       "<table border=\"1\" class=\"dataframe\">\n",
       "  <thead>\n",
       "    <tr style=\"text-align: right;\">\n",
       "      <th>Symbols</th>\n",
       "      <th>AAPL</th>\n",
       "      <th>AMZN</th>\n",
       "      <th>MSFT</th>\n",
       "      <th>GOOGL</th>\n",
       "      <th>FB</th>\n",
       "      <th>GOOG</th>\n",
       "      <th>PG</th>\n",
       "      <th>JPM</th>\n",
       "      <th>TSLA</th>\n",
       "      <th>JNJ</th>\n",
       "    </tr>\n",
       "    <tr>\n",
       "      <th>Date</th>\n",
       "      <th></th>\n",
       "      <th></th>\n",
       "      <th></th>\n",
       "      <th></th>\n",
       "      <th></th>\n",
       "      <th></th>\n",
       "      <th></th>\n",
       "      <th></th>\n",
       "      <th></th>\n",
       "      <th></th>\n",
       "    </tr>\n",
       "  </thead>\n",
       "  <tbody>\n",
       "    <tr>\n",
       "      <th>2013-01-02</th>\n",
       "      <td>17.010899</td>\n",
       "      <td>257.309998</td>\n",
       "      <td>23.074232</td>\n",
       "      <td>361.987000</td>\n",
       "      <td>28.000000</td>\n",
       "      <td>360.274597</td>\n",
       "      <td>53.704983</td>\n",
       "      <td>35.562012</td>\n",
       "      <td>7.072</td>\n",
       "      <td>56.070381</td>\n",
       "    </tr>\n",
       "    <tr>\n",
       "      <th>2013-01-03</th>\n",
       "      <td>16.796177</td>\n",
       "      <td>258.480011</td>\n",
       "      <td>22.765125</td>\n",
       "      <td>362.197205</td>\n",
       "      <td>27.770000</td>\n",
       "      <td>360.483826</td>\n",
       "      <td>53.364449</td>\n",
       "      <td>35.490330</td>\n",
       "      <td>6.954</td>\n",
       "      <td>55.991253</td>\n",
       "    </tr>\n",
       "    <tr>\n",
       "      <th>2013-01-04</th>\n",
       "      <td>16.328323</td>\n",
       "      <td>259.149994</td>\n",
       "      <td>22.339064</td>\n",
       "      <td>369.354340</td>\n",
       "      <td>28.760000</td>\n",
       "      <td>367.607117</td>\n",
       "      <td>53.472805</td>\n",
       "      <td>36.119392</td>\n",
       "      <td>6.880</td>\n",
       "      <td>56.632359</td>\n",
       "    </tr>\n",
       "    <tr>\n",
       "      <th>2013-01-07</th>\n",
       "      <td>16.232281</td>\n",
       "      <td>268.459991</td>\n",
       "      <td>22.297297</td>\n",
       "      <td>367.742737</td>\n",
       "      <td>29.420000</td>\n",
       "      <td>366.003143</td>\n",
       "      <td>53.109035</td>\n",
       "      <td>36.159210</td>\n",
       "      <td>6.868</td>\n",
       "      <td>56.513645</td>\n",
       "    </tr>\n",
       "    <tr>\n",
       "      <th>2013-01-08</th>\n",
       "      <td>16.275965</td>\n",
       "      <td>266.380005</td>\n",
       "      <td>22.180330</td>\n",
       "      <td>367.017029</td>\n",
       "      <td>29.059999</td>\n",
       "      <td>365.280823</td>\n",
       "      <td>53.023914</td>\n",
       "      <td>36.230877</td>\n",
       "      <td>6.736</td>\n",
       "      <td>56.521553</td>\n",
       "    </tr>\n",
       "  </tbody>\n",
       "</table>\n",
       "</div>"
      ],
      "text/plain": [
       "Symbols          AAPL        AMZN       MSFT       GOOGL         FB  \\\n",
       "Date                                                                  \n",
       "2013-01-02  17.010899  257.309998  23.074232  361.987000  28.000000   \n",
       "2013-01-03  16.796177  258.480011  22.765125  362.197205  27.770000   \n",
       "2013-01-04  16.328323  259.149994  22.339064  369.354340  28.760000   \n",
       "2013-01-07  16.232281  268.459991  22.297297  367.742737  29.420000   \n",
       "2013-01-08  16.275965  266.380005  22.180330  367.017029  29.059999   \n",
       "\n",
       "Symbols           GOOG         PG        JPM   TSLA        JNJ  \n",
       "Date                                                            \n",
       "2013-01-02  360.274597  53.704983  35.562012  7.072  56.070381  \n",
       "2013-01-03  360.483826  53.364449  35.490330  6.954  55.991253  \n",
       "2013-01-04  367.607117  53.472805  36.119392  6.880  56.632359  \n",
       "2013-01-07  366.003143  53.109035  36.159210  6.868  56.513645  \n",
       "2013-01-08  365.280823  53.023914  36.230877  6.736  56.521553  "
      ]
     },
     "execution_count": 4,
     "metadata": {},
     "output_type": "execute_result"
    }
   ],
   "source": [
    "df.head()"
   ]
  },
  {
   "cell_type": "code",
   "execution_count": null,
   "metadata": {},
   "outputs": [],
   "source": []
  },
  {
   "cell_type": "code",
   "execution_count": 6,
   "metadata": {},
   "outputs": [
    {
     "data": {
      "text/plain": [
       "<matplotlib.axes._subplots.AxesSubplot at 0x1a674b10940>"
      ]
     },
     "execution_count": 6,
     "metadata": {},
     "output_type": "execute_result"
    },
    {
     "data": {
      "image/png": "[encoded data removed]",
      "text/plain": [
       "<Figure size 432x288 with 1 Axes>"
      ]
     },
     "metadata": {},
     "output_type": "display_data"
    }
   ],
   "source": [
    "def sharpe_ratio(return_series, num_days, risk_free):\n",
    "    mean = return_series.mean() * num_days  - risk_free\n",
    "    sigma = return_series.std() * np.sqrt(num_days)\n",
    "    return mean / sigma\n",
    "\n",
    "num_days = 255 #255 trading days in a year\n",
    "risk_free =0.01 #1% risk free rate\n",
    "sharpes = df.apply(sharpe_ratio, args=(num_days,risk_free,),axis=0)\n",
    "\n",
    "sharpes.plot.bar()"
   ]
  },
  {
   "cell_type": "code",
   "execution_count": 10,
   "metadata": {},
   "outputs": [],
   "source": [
    "def get_sortino_ratio(my_series,num_days,risk_free):\n",
    "    mean = my_series.mean() * num_days -risk_free\n",
    "    daily_change=my_series.pct_change()\n",
    "    std_neg=np.prod(daily_change+1)-1\n",
    "    std_neg = my_series.min().std()*np.sqrt(num_days)\n",
    "    return mean/std_neg"
   ]
  },
  {
   "cell_type": "code",
   "execution_count": 12,
   "metadata": {},
   "outputs": [],
   "source": [
    "sortinos=get_sortino_ratio(df,num_days,risk_free)"
   ]
  },
  {
   "cell_type": "code",
   "execution_count": 14,
   "metadata": {},
   "outputs": [
    {
     "data": {
      "text/plain": [
       "Text(0, 0.5, 'Sortino Ratio')"
      ]
     },
     "execution_count": 14,
     "metadata": {},
     "output_type": "execute_result"
    },
    {
     "data": {
      "image/png": "[encoded data removed]",
      "text/plain": [
       "<Figure size 432x288 with 1 Axes>"
      ]
     },
     "metadata": {},
     "output_type": "display_data"
    }
   ],
   "source": [
    "sortinos.plot.bar()\n",
    "plt.ylabel('Sortino Ratio')"
   ]
  },
  {
   "cell_type": "code",
   "execution_count": null,
   "metadata": {},
   "outputs": [],
   "source": []
  },
  {
   "cell_type": "code",
   "execution_count": 16,
   "metadata": {},
   "outputs": [
    {
     "data": {
      "text/html": [
       "<div>\n",
       "<style scoped>\n",
       "    .dataframe tbody tr th:only-of-type {\n",
       "        vertical-align: middle;\n",
       "    }\n",
       "\n",
       "    .dataframe tbody tr th {\n",
       "        vertical-align: top;\n",
       "    }\n",
       "\n",
       "    .dataframe thead th {\n",
       "        text-align: right;\n",
       "    }\n",
       "</style>\n",
       "<table border=\"1\" class=\"dataframe\">\n",
       "  <thead>\n",
       "    <tr style=\"text-align: right;\">\n",
       "      <th>Symbols</th>\n",
       "      <th>AAPL</th>\n",
       "      <th>AMZN</th>\n",
       "      <th>MSFT</th>\n",
       "      <th>GOOGL</th>\n",
       "      <th>FB</th>\n",
       "      <th>GOOG</th>\n",
       "      <th>PG</th>\n",
       "      <th>JPM</th>\n",
       "      <th>TSLA</th>\n",
       "      <th>JNJ</th>\n",
       "      <th>Port</th>\n",
       "    </tr>\n",
       "    <tr>\n",
       "      <th>Date</th>\n",
       "      <th></th>\n",
       "      <th></th>\n",
       "      <th></th>\n",
       "      <th></th>\n",
       "      <th></th>\n",
       "      <th></th>\n",
       "      <th></th>\n",
       "      <th></th>\n",
       "      <th></th>\n",
       "      <th></th>\n",
       "      <th></th>\n",
       "    </tr>\n",
       "  </thead>\n",
       "  <tbody>\n",
       "    <tr>\n",
       "      <th>2021-04-30</th>\n",
       "      <td>7.714883</td>\n",
       "      <td>13.475652</td>\n",
       "      <td>10.903896</td>\n",
       "      <td>6.501615</td>\n",
       "      <td>11.61</td>\n",
       "      <td>6.689675</td>\n",
       "      <td>2.484313</td>\n",
       "      <td>4.325121</td>\n",
       "      <td>100.316742</td>\n",
       "      <td>2.88425</td>\n",
       "      <td>10.548333</td>\n",
       "    </tr>\n",
       "  </tbody>\n",
       "</table>\n",
       "</div>"
      ],
      "text/plain": [
       "Symbols         AAPL       AMZN       MSFT     GOOGL     FB      GOOG  \\\n",
       "Date                                                                    \n",
       "2021-04-30  7.714883  13.475652  10.903896  6.501615  11.61  6.689675   \n",
       "\n",
       "Symbols           PG       JPM        TSLA      JNJ       Port  \n",
       "Date                                                            \n",
       "2021-04-30  2.484313  4.325121  100.316742  2.88425  10.548333  "
      ]
     },
     "execution_count": 16,
     "metadata": {},
     "output_type": "execute_result"
    },
    {
     "data": {
      "image/png": "[encoded data removed]",
      "text/plain": [
       "<Figure size 432x288 with 1 Axes>"
      ]
     },
     "metadata": {},
     "output_type": "display_data"
    }
   ],
   "source": [
    "df = df.pct_change().dropna()\n",
    "df['Port'] = df.mean(axis=1) # 20% apple, ... , 20% facebook\n",
    "(df+1).cumprod().plot()\n",
    "\n",
    "(df+1).cumprod()[-1:]"
   ]
  },
  {
   "cell_type": "code",
   "execution_count": 19,
   "metadata": {},
   "outputs": [
    {
     "data": {
      "text/plain": [
       "Text(0, 0.5, 'Max Drawdown')"
      ]
     },
     "execution_count": 19,
     "metadata": {},
     "output_type": "execute_result"
    },
    {
     "data": {
      "image/png": "[encoded data removed]",
      "text/plain": [
       "<Figure size 432x288 with 1 Axes>"
      ]
     },
     "metadata": {},
     "output_type": "display_data"
    }
   ],
   "source": [
    "def max_drawdown(return_series):\n",
    "    comp_ret = (return_series+1).cumprod()\n",
    "    peak = comp_ret.expanding(min_periods=1).max()\n",
    "    dd = (comp_ret/peak)-1\n",
    "    return dd.min()\n",
    "\n",
    "\n",
    "max_drawdowns = df.apply(max_drawdown,axis=0)\n",
    "max_drawdowns.plot.bar()\n",
    "plt.ylabel('Max Drawdown')"
   ]
  },
  {
   "cell_type": "code",
   "execution_count": 22,
   "metadata": {},
   "outputs": [
    {
     "data": {
      "text/plain": [
       "Text(0, 0.5, 'Calmar ratio')"
      ]
     },
     "execution_count": 22,
     "metadata": {},
     "output_type": "execute_result"
    },
    {
     "data": {
      "image/png": "[encoded data removed]",
      "text/plain": [
       "<Figure size 432x288 with 1 Axes>"
      ]
     },
     "metadata": {},
     "output_type": "display_data"
    }
   ],
   "source": [
    "calmars = df.mean()*255/abs(max_drawdowns)\n",
    "\n",
    "calmars.plot.bar()\n",
    "plt.ylabel('Calmar ratio')"
   ]
  },
  {
   "cell_type": "code",
   "execution_count": 25,
   "metadata": {},
   "outputs": [],
   "source": [
    "conDf=pd.concat([sortinos,sharpes,max_drawdowns,calmars],axis=1)"
   ]
  },
  {
   "cell_type": "code",
   "execution_count": 26,
   "metadata": {},
   "outputs": [],
   "source": [
    "conDf.columns=['Sortino Ratio','Sharpe Ratio','Max Drawdowns','Calmer Ratio']#add columns to dataframe"
   ]
  },
  {
   "cell_type": "code",
   "execution_count": 31,
   "metadata": {},
   "outputs": [
    {
     "data": {
      "text/html": [
       "<div>\n",
       "<style scoped>\n",
       "    .dataframe tbody tr th:only-of-type {\n",
       "        vertical-align: middle;\n",
       "    }\n",
       "\n",
       "    .dataframe tbody tr th {\n",
       "        vertical-align: top;\n",
       "    }\n",
       "\n",
       "    .dataframe thead th {\n",
       "        text-align: right;\n",
       "    }\n",
       "</style>\n",
       "<table border=\"1\" class=\"dataframe\">\n",
       "  <thead>\n",
       "    <tr style=\"text-align: right;\">\n",
       "      <th></th>\n",
       "      <th>Sortino Ratio</th>\n",
       "      <th>Sharpe Ratio</th>\n",
       "      <th>Max Drawdowns</th>\n",
       "      <th>Calmer Ratio</th>\n",
       "    </tr>\n",
       "  </thead>\n",
       "  <tbody>\n",
       "    <tr>\n",
       "      <th>AAPL</th>\n",
       "      <td>4.815542</td>\n",
       "      <td>22.499638</td>\n",
       "      <td>-0.385159</td>\n",
       "      <td>0.753936</td>\n",
       "    </tr>\n",
       "    <tr>\n",
       "      <th>AMZN</th>\n",
       "      <td>134.005150</td>\n",
       "      <td>21.017744</td>\n",
       "      <td>-0.341038</td>\n",
       "      <td>1.065526</td>\n",
       "    </tr>\n",
       "    <tr>\n",
       "      <th>MSFT</th>\n",
       "      <td>9.696415</td>\n",
       "      <td>22.702545</td>\n",
       "      <td>-0.280393</td>\n",
       "      <td>1.162971</td>\n",
       "    </tr>\n",
       "    <tr>\n",
       "      <th>GOOGL</th>\n",
       "      <td>105.081699</td>\n",
       "      <td>36.736451</td>\n",
       "      <td>-0.308708</td>\n",
       "      <td>0.846344</td>\n",
       "    </tr>\n",
       "    <tr>\n",
       "      <th>FB</th>\n",
       "      <td>15.440676</td>\n",
       "      <td>31.564837</td>\n",
       "      <td>-0.429609</td>\n",
       "      <td>0.832418</td>\n",
       "    </tr>\n",
       "    <tr>\n",
       "      <th>GOOG</th>\n",
       "      <td>104.119698</td>\n",
       "      <td>35.966985</td>\n",
       "      <td>-0.307901</td>\n",
       "      <td>0.860317</td>\n",
       "    </tr>\n",
       "    <tr>\n",
       "      <th>PG</th>\n",
       "      <td>9.405556</td>\n",
       "      <td>57.608538</td>\n",
       "      <td>-0.254642</td>\n",
       "      <td>0.500441</td>\n",
       "    </tr>\n",
       "    <tr>\n",
       "      <th>JPM</th>\n",
       "      <td>8.671518</td>\n",
       "      <td>41.785190</td>\n",
       "      <td>-0.436265</td>\n",
       "      <td>0.492130</td>\n",
       "    </tr>\n",
       "    <tr>\n",
       "      <th>TSLA</th>\n",
       "      <td>11.689146</td>\n",
       "      <td>10.186571</td>\n",
       "      <td>-0.606265</td>\n",
       "      <td>1.191221</td>\n",
       "    </tr>\n",
       "    <tr>\n",
       "      <th>JNJ</th>\n",
       "      <td>12.108310</td>\n",
       "      <td>65.236964</td>\n",
       "      <td>-0.273662</td>\n",
       "      <td>0.531227</td>\n",
       "    </tr>\n",
       "  </tbody>\n",
       "</table>\n",
       "</div>"
      ],
      "text/plain": [
       "       Sortino Ratio  Sharpe Ratio  Max Drawdowns  Calmer Ratio\n",
       "AAPL        4.815542     22.499638      -0.385159      0.753936\n",
       "AMZN      134.005150     21.017744      -0.341038      1.065526\n",
       "MSFT        9.696415     22.702545      -0.280393      1.162971\n",
       "GOOGL     105.081699     36.736451      -0.308708      0.846344\n",
       "FB         15.440676     31.564837      -0.429609      0.832418\n",
       "GOOG      104.119698     35.966985      -0.307901      0.860317\n",
       "PG          9.405556     57.608538      -0.254642      0.500441\n",
       "JPM         8.671518     41.785190      -0.436265      0.492130\n",
       "TSLA       11.689146     10.186571      -0.606265      1.191221\n",
       "JNJ        12.108310     65.236964      -0.273662      0.531227"
      ]
     },
     "execution_count": 31,
     "metadata": {},
     "output_type": "execute_result"
    }
   ],
   "source": [
    "conDf.dropna()"
   ]
  },
  {
   "cell_type": "code",
   "execution_count": 29,
   "metadata": {},
   "outputs": [
    {
     "data": {
      "text/plain": [
       "<matplotlib.axes._subplots.AxesSubplot at 0x1a6760474a8>"
      ]
     },
     "execution_count": 29,
     "metadata": {},
     "output_type": "execute_result"
    },
    {
     "data": {
      "image/png": "[encoded data removed]",
      "text/plain": [
       "<Figure size 432x288 with 1 Axes>"
      ]
     },
     "metadata": {},
     "output_type": "display_data"
    }
   ],
   "source": [
    "conDf.dropna().plot.bar()"
   ]
  },
  {
   "cell_type": "code",
   "execution_count": 36,
   "metadata": {},
   "outputs": [
    {
     "data": {
      "text/plain": [
       "<matplotlib.axes._subplots.AxesSubplot at 0x1a6764e51d0>"
      ]
     },
     "execution_count": 36,
     "metadata": {},
     "output_type": "execute_result"
    },
    {
     "data": {
      "image/png": "[encoded data removed]",
      "text/plain": [
       "<Figure size 1080x720 with 1 Axes>"
      ]
     },
     "metadata": {},
     "output_type": "display_data"
    }
   ],
   "source": [
    "color=['blue','brown','green','red']\n",
    "conDf.dropna().plot.bar(figsize=(15,10),color=color)"
   ]
  },
  {
   "cell_type": "code",
   "execution_count": null,
   "metadata": {},
   "outputs": [],
   "source": []
  }
 ],
 "metadata": {
  "kernelspec": {
   "display_name": "Python 3",
   "language": "python",
   "name": "python3"
  },
  "language_info": {
   "codemirror_mode": {
    "name": "ipython",
    "version": 3
   },
   "file_extension": ".py",
   "mimetype": "text/x-python",
   "name": "python",
   "nbconvert_exporter": "python",
   "pygments_lexer": "ipython3",
   "version": "3.6.13"
  }
 },
 "nbformat": 4,
 "nbformat_minor": 2
}
